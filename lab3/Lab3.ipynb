{
 "cells": [
  {
   "cell_type": "markdown",
   "id": "25840250-74bb-4be7-8f68-f4083b291b90",
   "metadata": {},
   "source": [
    "# Preamble\n",
    "\n",
    "Load necessary packages and the lab data"
   ]
  },
  {
   "cell_type": "code",
   "execution_count": 4,
   "id": "d4f737a5-7153-4f48-ac68-ddd051f9724e",
   "metadata": {
    "tags": []
   },
   "outputs": [],
   "source": [
    "from matplotlib import pyplot\n",
    "import matplotlib\n",
    "import numpy\n",
    "import scipy\n",
    "import pickle\n",
    "import pandas\n",
    "from IPython.display import Markdown\n",
    "\n",
    "with open('Lab3.pkl', 'rb') as f:\n",
    "    Lab3_Data, Lab3_Problem1_demo, Lab3_Problem2, Lab3_synthetic_identities = pickle.load(f)\n",
    "\n",
    "    \n",
    "    \n",
    "# The following are helper functions to facilitate printing outputs in the lab without interfering with the autograder. Don't concern yourself with those functions, but keep them in your submission.\n",
    "def safe_print_err(e, locals=locals(), globals=globals()):\n",
    "    locals = locals or {}\n",
    "    globals = globals or {}\n",
    "    __problem = eval('__problem', locals, globals)\n",
    "    err_msg = str(e)\n",
    "    if type(e) in (NameError, KeyError):\n",
    "        var_name_split = str(e).split(\"'\")\n",
    "        if len(var_name_split) > 1:\n",
    "            var_name = var_name_split[1]\n",
    "            err_msg = f\"'{var_name}' is not defined.\"\n",
    "        \n",
    "    display(Markdown(f\"<div class='alert alert-block alert-danger'><b>Error in problem {__problem}</b>: {err_msg}</div>\"))\n",
    "    \n",
    "def print_mk(msg):\n",
    "    display(Markdown(msg))"
   ]
  },
  {
   "cell_type": "markdown",
   "id": "229e109e-e4a0-4d35-bf52-e8b0ecbfbd3f",
   "metadata": {
    "tags": []
   },
   "source": [
    "---\n",
    "\n",
    "# Data Description\n",
    "\n",
    "The dataset we will be using this lab is the 2015-2016 portion of the National Health and Nutrition Examination Survey. The dataset and its documentation may be found at https://wwwn.cdc.gov/nchs/nhanes/continuousnhanes/default.aspx?BeginYear=2015.\n",
    "\n",
    "We will be using a small subset of the dataset, compiled in the variable `Lab3_Data`, which is a data frame (for documentation [click here](https://pandas.pydata.org/docs/reference/api/pandas.DataFrame.htmlhttps://pandas.pydata.org/docs/reference/api/pandas.DataFrame.html)). Here is a general description of the columns in the data frame (we use the terms **data frame** and **table** interchangeably in this lab):\n",
    "\n",
    "- `Subject_ID`: this is a sequence number, assigned uniquely to each respondent.\n",
    "- `Gender`: this is the gender of the subject. 1=Male, 2=Female.\n",
    "- `Age`: this is the age, in years, of the subject.\n",
    "- `Marital_Status`: this representes the marital status of the subject.\n",
    "| `Marital_Status` | Value Description |\n",
    "| :- | :- |\n",
    "| $1$ | Married |\n",
    "| $2$ | Widowed |\n",
    "| $3$ | Divorced |\n",
    "| $4$ | Separated |\n",
    "| $5$ | Never married |\n",
    "| $6$ | Living with partner |\n",
    "| $77$ | Refused |\n",
    "| $99$ | Don't know |\n",
    "| NaN | Missing|\n",
    "- `Country_Birth`: the country where the subject was born.<br>\n",
    "| `Country_Birth` | Value Description |\n",
    "| :- | :- |\n",
    "| $1$ | Born in 50 US states or Washington, DC |\n",
    "| $2$ | Others |\n",
    "| $77$ | Refused |\n",
    "| $99$ | Don't know |\n",
    "| NaN | Missing|\n",
    "- `Race`: the race of the subject.<br>\n",
    "| `Race` | Value Description |\n",
    "| :- | :- |\n",
    "| $1$ | Mexican American |\n",
    "| $2$ | Other Hispanic |\n",
    "| $3$ | Non-Hispanic White |\n",
    "| $4$ | Non-Hispanic Black |\n",
    "| $6$ | Non-Hispanic Asian |\n",
    "| $7$ | Other Race - Including Multi-Racial |\n",
    "| NaN | Missing |\n",
    "- `Alcohol_Average`: The response to the question: \"In the past 12 months, on those days that you drank alcoholic beverages, on the average, how many drinks did you have? By a drink, I mean a 12 oz. beer, a 5 oz. glass of wine, or one and a half ounces of liquor.\"\n",
    "| `Alcohol_Average` | Value Description |\n",
    "| :- | :- |\n",
    "| $1$ to $14$ | Range of Values |\n",
    "| $15$ | $15$ drinks or more |\n",
    "| $777$ | Refused |\n",
    "| $999$ | Don't know |\n",
    "| NaN | Missing |\n",
    "- `LDL_Cholesterol`: The subject's low density lipoprotein cholesterol in units of milligrams per deciliter (mg/dL).\n",
    "- `HDL_Cholesterol`: The subject's high density lipoprotein cholesterol in units of milligrams per deciliter (mg/dL).\n",
    "- `Total_Cholesterol`: The subject's total cholesterol level in units of milligrams per deciliter (mg/dL).\n",
    "- `Sys_Blood_Pressure`: The subject's systolic blood pressure (average of 3 readings) in units of millimeters of mercury (mm Hg)."
   ]
  },
  {
   "cell_type": "markdown",
   "id": "8505ef1e-bd06-4bff-88fc-52a7ed9f9975",
   "metadata": {},
   "source": [
    "---\n",
    "\n",
    "# Before We Start (Please Read)\n",
    "## Function Pointers\n",
    "\n",
    "A specification of Python that we will be using in this lab is passing a function as a parameter to another function. In order to achieve this, we utilize function pointetrs.\n",
    "A function name is just a pointer to the function itself. For example:"
   ]
  },
  {
   "cell_type": "code",
   "execution_count": 5,
   "id": "fb15faa7-6438-4a82-ae24-c5b1726638d2",
   "metadata": {
    "tags": []
   },
   "outputs": [
    {
     "data": {
      "text/plain": [
       "<function median at 0x7f88c5f5a030>"
      ]
     },
     "execution_count": 5,
     "metadata": {},
     "output_type": "execute_result"
    }
   ],
   "source": [
    "numpy.median"
   ]
  },
  {
   "cell_type": "markdown",
   "id": "51ae5bc0-1562-4108-9e72-9c3d5cbc378c",
   "metadata": {},
   "source": [
    "Which doesn't evaluate the function `numpy.median` but rather represents a reference to the function `numpy.median` as an object.\n",
    "This can be particularly useful if we would like to pass the function `numpy.median` to another function, or store it in a variable.\n",
    "For instance, a function pointer can be stored in a variable:"
   ]
  },
  {
   "cell_type": "code",
   "execution_count": 6,
   "id": "b1ddd886-b7b3-4d8a-89d1-537dde7cf2c5",
   "metadata": {
    "tags": []
   },
   "outputs": [],
   "source": [
    "my_fcn_ptr_1 = numpy.median"
   ]
  },
  {
   "cell_type": "markdown",
   "id": "8280f92c-aa8b-459a-8854-199f5bbbe323",
   "metadata": {},
   "source": [
    "The variable `my_fcn_ptr_1` holds a reference to the function `numpy.median`:"
   ]
  },
  {
   "cell_type": "code",
   "execution_count": 7,
   "id": "f4f6d7fe-3bf2-4583-8cca-64e483841c5e",
   "metadata": {},
   "outputs": [
    {
     "data": {
      "text/plain": [
       "<function median at 0x7f88c5f5a030>"
      ]
     },
     "execution_count": 7,
     "metadata": {},
     "output_type": "execute_result"
    }
   ],
   "source": [
    "my_fcn_ptr_1"
   ]
  },
  {
   "cell_type": "markdown",
   "id": "8df01cab-713c-485b-ac07-c7557dca4bd6",
   "metadata": {},
   "source": [
    "From this moment, the variable `my_fcn_ptr_1` on can be used as a function on its own right:"
   ]
  },
  {
   "cell_type": "code",
   "execution_count": 8,
   "id": "73b2b3a0-30cb-4e78-aeda-65edc7f980b2",
   "metadata": {
    "tags": []
   },
   "outputs": [
    {
     "data": {
      "text/plain": [
       "np.float64(4.0)"
      ]
     },
     "execution_count": 8,
     "metadata": {},
     "output_type": "execute_result"
    }
   ],
   "source": [
    "my_fcn_ptr_1([1, 2, 3, 4, 5, 6, 7]) # should return the median of the vector: 4"
   ]
  },
  {
   "cell_type": "code",
   "execution_count": 9,
   "id": "50a271ea-4312-48d3-b3a1-9f4191c38238",
   "metadata": {
    "tags": []
   },
   "outputs": [
    {
     "data": {
      "text/plain": [
       "np.float64(4.0)"
      ]
     },
     "execution_count": 9,
     "metadata": {},
     "output_type": "execute_result"
    }
   ],
   "source": [
    "numpy.median([1, 2, 3, 4, 5, 6, 7]) # this is equivalent to the last call"
   ]
  },
  {
   "cell_type": "markdown",
   "id": "a432cfa7-dff5-4657-9429-9d92f29d94bc",
   "metadata": {},
   "source": [
    "---\n",
    "\n",
    "## Lambda Functions\n",
    "You can define a function and store its pointer in a variable without giving a name to that function. For example, let's say you want to write a function that takes two arguments, `x` and `y`, and returns the value $20 \\cdot x^2 + \\frac{y}{3}$. One way you can achieve this is by writing the following function:"
   ]
  },
  {
   "cell_type": "code",
   "execution_count": 10,
   "id": "625d8443-837c-483d-a347-cbcf931540b0",
   "metadata": {
    "tags": []
   },
   "outputs": [],
   "source": [
    "def my_fancy_function(x, y):\n",
    "    return 20*x**2+y/3"
   ]
  },
  {
   "cell_type": "markdown",
   "id": "9e2cb141-0c85-4295-a82c-25565233c1bc",
   "metadata": {},
   "source": [
    "Alternatively, you can define the function without giving it a name as follows:"
   ]
  },
  {
   "cell_type": "code",
   "execution_count": 11,
   "id": "03605d87-af88-4301-bd96-e277229ae488",
   "metadata": {
    "tags": []
   },
   "outputs": [
    {
     "data": {
      "text/plain": [
       "<function __main__.<lambda>(x, y)>"
      ]
     },
     "execution_count": 11,
     "metadata": {},
     "output_type": "execute_result"
    }
   ],
   "source": [
    "lambda x, y : 20*x**2+y/3"
   ]
  },
  {
   "cell_type": "markdown",
   "id": "b051fa59-3942-4e0b-acef-4dee88f1d08e",
   "metadata": {},
   "source": [
    "But from this moment on, we don't have a good way to call this nameless function. To solve this, we can store this function pointer in a variable, which will serve as our way to access this \"nameless\" function. \"Nameless\" functions are called Lambda functions (or $\\lambda$-Functions)"
   ]
  },
  {
   "cell_type": "code",
   "execution_count": 12,
   "id": "5a4a43a1-0ab0-4ed3-bdc8-3b38d2690733",
   "metadata": {
    "tags": []
   },
   "outputs": [],
   "source": [
    "my_fcn_ptr_2 = lambda x, y : 20*x**2+y/3"
   ]
  },
  {
   "cell_type": "markdown",
   "id": "b8a2842c-64d6-46fe-8b4f-852d73fa4402",
   "metadata": {},
   "source": [
    "Now, `my_fcn_ptr_2` is a variable that holds a reference to the Lambda function that takes two inputs, `x` and `y`, and returns the value of the expression $20 \\cdot x^2 + \\frac{y}{3}$:"
   ]
  },
  {
   "cell_type": "code",
   "execution_count": 13,
   "id": "6979eb32-cfc9-4176-b755-df28b06d28c4",
   "metadata": {
    "tags": []
   },
   "outputs": [
    {
     "data": {
      "text/plain": [
       "81.0"
      ]
     },
     "execution_count": 13,
     "metadata": {},
     "output_type": "execute_result"
    }
   ],
   "source": [
    "my_fcn_ptr_2(2,3) # should return 81"
   ]
  },
  {
   "cell_type": "markdown",
   "id": "05ffc707-597e-4b5a-8f1e-c8ff63c16ac9",
   "metadata": {},
   "source": [
    "---\n",
    "\n",
    "## Passing a Function Pointer to Another Function\n",
    "\n",
    "Now that we know that a function pointer can be stored in a variable, we can also pass it to any function as any other variable. This, in essence amounts to passing a function to another function. *Inception*, huh?\n",
    "\n",
    "The full effect of this behavior and functionality is beyond the scope of our course, but for us this will be useful when we study **Mondrian** in [Problem 1](#Problem-1).\n",
    "\n",
    "This is because Mondrian can work regardless of the way we select the next dimension to perform the cut on (we can select the next dimension to cut randomly, or according to some order, etc). So, the implementation of Mondrian should be the same regardless of the manner we want to chose the next column for the cut. Using function pointers, we can implement one version of Mondrian, which will expect the user to specify, through their own function, the manner Mondrian should select the next column for the cut.\n",
    "\n",
    "But to understand the mechanism with a simple example, consider the following function:"
   ]
  },
  {
   "cell_type": "code",
   "execution_count": 14,
   "id": "b2dd82e9-0b9f-4fad-87c4-eaf995b3b1dd",
   "metadata": {
    "tags": []
   },
   "outputs": [],
   "source": [
    "def shift_data_1(data):\n",
    "    \"\"\"A function that shifts the input data left by the mean of the data.\n",
    "    \n",
    "    Parameters\n",
    "    ----------\n",
    "    data : array\n",
    "        The data to be shifted\n",
    "    \n",
    "    Returns\n",
    "    -------\n",
    "    data_out : array\n",
    "        The shifted data\n",
    "    \"\"\"\n",
    "    \n",
    "    representative_value = numpy.mean(data) # calculate a representative value from the data (using the mean)\n",
    "    return data - representative_value # Shift the data by the representative value"
   ]
  },
  {
   "cell_type": "markdown",
   "id": "f8187879-bb86-42f5-bcd1-9a013fcb479e",
   "metadata": {},
   "source": [
    "The function `shift_data_1` simply shifts the input data left by the **mean** of the data. For example, if we run the function `shift_data_1` on the list `[0, 1, 5]` (mean=2), the output would be `[-2, -1, 3]`:"
   ]
  },
  {
   "cell_type": "code",
   "execution_count": 15,
   "id": "8ba5bb82-5af0-4f6c-a32c-e3e3f072f5e1",
   "metadata": {
    "tags": []
   },
   "outputs": [
    {
     "data": {
      "text/plain": [
       "array([-2., -1.,  3.])"
      ]
     },
     "execution_count": 15,
     "metadata": {},
     "output_type": "execute_result"
    }
   ],
   "source": [
    "shift_data_1([0, 1, 5])"
   ]
  },
  {
   "cell_type": "markdown",
   "id": "e0f61ad0-5c77-4003-b377-cac7c9709146",
   "metadata": {},
   "source": [
    "We can implement the following similar function:"
   ]
  },
  {
   "cell_type": "code",
   "execution_count": 16,
   "id": "b70c085b-5d76-480c-a1f9-132877c7a75c",
   "metadata": {
    "tags": []
   },
   "outputs": [],
   "source": [
    "def shift_data_2(data):\n",
    "    \"\"\"A function that shifts the input data left by the median of the data.\n",
    "    \n",
    "    Parameters\n",
    "    ----------\n",
    "    data : array\n",
    "        The data to be shifted\n",
    "    \n",
    "    Returns\n",
    "    -------\n",
    "    data_out : array\n",
    "        The shifted data\n",
    "    \"\"\"\n",
    "    \n",
    "    representative_value = numpy.median(data) # calculate a representative value from the data (using the median)\n",
    "    return data - representative_value # Shift the data by the representative value"
   ]
  },
  {
   "cell_type": "markdown",
   "id": "f736378d-cb1b-4160-8389-923fa32164f1",
   "metadata": {},
   "source": [
    "The only difference between `shift_data_1` and `shift_data_2` is simply the choice of the \"represnetative value.\" This time, we shift the input data left by the **median** of the data (instead of the **mean** as in the first function). This time, running the function `shift_data_2` on the list `[0, 1, 5]` (median=1) would return `[-1, 0, 4]`:\n"
   ]
  },
  {
   "cell_type": "code",
   "execution_count": 17,
   "id": "77c97fb4-3a4a-4332-b3d6-b3353e535ad4",
   "metadata": {
    "tags": []
   },
   "outputs": [
    {
     "data": {
      "text/plain": [
       "array([-1.,  0.,  4.])"
      ]
     },
     "execution_count": 17,
     "metadata": {},
     "output_type": "execute_result"
    }
   ],
   "source": [
    "shift_data_2([0, 1, 5])"
   ]
  },
  {
   "cell_type": "markdown",
   "id": "56923332-1cfb-4b6a-96bf-88ebc4d8519d",
   "metadata": {},
   "source": [
    "What if we would like to allow the user of the function to decide how to shift the data (maybe they would like to use some other measure other than **mean** or **median** altogether)? In this case, we can implement this function:"
   ]
  },
  {
   "cell_type": "code",
   "execution_count": 18,
   "id": "a16f2e10-8903-4cce-819c-09f45a502a6a",
   "metadata": {
    "tags": []
   },
   "outputs": [],
   "source": [
    "def shift_data(data, rep_val_fcn):\n",
    "    \"\"\"A function that shifts the input data left by the a reference amount that is computable through a specified function by the caller.\n",
    "    \n",
    "    Parameters\n",
    "    ----------\n",
    "    data : array\n",
    "        The data to be shifted\n",
    "    cut_choice_fcn : types.FunctionType (lambda data: number)\n",
    "        A pointer to the function calculating the reference amount to shift the data\n",
    "    \n",
    "    Returns\n",
    "    -------\n",
    "    data_out : array\n",
    "        The shifted data\n",
    "    \"\"\"\n",
    "    \n",
    "    representative_value = rep_val_fcn(data) # calculate a representative value from the data (using the user's function)\n",
    "    return data - representative_value # Shift the data by the representative value"
   ]
  },
  {
   "cell_type": "markdown",
   "id": "70595d67-56fa-477f-8c94-1e0a0a9b7fae",
   "metadata": {},
   "source": [
    "This time, the function `shift_data` will \"ask\" the user for their choice of how to calculate the \"representative value\" from the input data through the second argument to the function, `rep_val_fcn`. That is, the function `shift_data` expects the second argument to be a reference to a function that takes one argument (`data`) and outputs a single number (`representative_value`).\n",
    "\n",
    "Using this, we can replicate the first function by running"
   ]
  },
  {
   "cell_type": "code",
   "execution_count": 19,
   "id": "673d26fd-ae53-48eb-a6f4-c9680eed93ea",
   "metadata": {
    "tags": []
   },
   "outputs": [
    {
     "data": {
      "text/plain": [
       "array([-2., -1.,  3.])"
      ]
     },
     "execution_count": 19,
     "metadata": {},
     "output_type": "execute_result"
    }
   ],
   "source": [
    "shift_data([0, 1, 5], numpy.mean)"
   ]
  },
  {
   "cell_type": "markdown",
   "id": "d63d7a6c-4600-4490-bbeb-10e7ee400659",
   "metadata": {},
   "source": [
    "and the second function by running"
   ]
  },
  {
   "cell_type": "code",
   "execution_count": 20,
   "id": "bd941c5e-0ff1-4f6b-9092-4e81b2c36009",
   "metadata": {
    "tags": []
   },
   "outputs": [
    {
     "data": {
      "text/plain": [
       "array([-1.,  0.,  4.])"
      ]
     },
     "execution_count": 20,
     "metadata": {},
     "output_type": "execute_result"
    }
   ],
   "source": [
    "shift_data([0, 1, 5], numpy.median)"
   ]
  },
  {
   "cell_type": "markdown",
   "id": "d1ca8f92-d510-49fa-9401-b4d0d6f92fc4",
   "metadata": {},
   "source": [
    "and if we wish to use the sum of the values as the representative value, then"
   ]
  },
  {
   "cell_type": "code",
   "execution_count": 21,
   "id": "f7a15b03-64d8-4f0e-9f35-1709cda4f59a",
   "metadata": {
    "tags": []
   },
   "outputs": [
    {
     "data": {
      "text/plain": [
       "array([-6, -5, -1])"
      ]
     },
     "execution_count": 21,
     "metadata": {},
     "output_type": "execute_result"
    }
   ],
   "source": [
    "shift_data([0, 1, 5], numpy.sum)"
   ]
  },
  {
   "cell_type": "markdown",
   "id": "2485aedf-396c-4f1c-a074-cd4d53313f43",
   "metadata": {},
   "source": [
    "and if we wish to use our own formula, for example $\\frac{1}{\\sum_i data(i)}$, then we utilize lambda functions to run:"
   ]
  },
  {
   "cell_type": "code",
   "execution_count": 22,
   "id": "5e4170f2-e1c6-45c3-b5b5-2e346ca79212",
   "metadata": {
    "tags": []
   },
   "outputs": [
    {
     "data": {
      "text/plain": [
       "array([-0.16666667,  0.83333333,  4.83333333])"
      ]
     },
     "execution_count": 22,
     "metadata": {},
     "output_type": "execute_result"
    }
   ],
   "source": [
    "my_rep_function = lambda data: 1/numpy.sum(data)\n",
    "shift_data([0, 1, 5], my_rep_function)"
   ]
  },
  {
   "cell_type": "markdown",
   "id": "cee565be-8530-4da1-a442-636b42f3afa5",
   "metadata": {},
   "source": [
    "or equivalently:"
   ]
  },
  {
   "cell_type": "code",
   "execution_count": 23,
   "id": "d3321232-cfed-4e1d-8ce2-fcf7802e66e1",
   "metadata": {
    "tags": []
   },
   "outputs": [
    {
     "data": {
      "text/plain": [
       "array([-0.16666667,  0.83333333,  4.83333333])"
      ]
     },
     "execution_count": 23,
     "metadata": {},
     "output_type": "execute_result"
    }
   ],
   "source": [
    "shift_data([0, 1, 5], lambda data: 1/numpy.sum(data))"
   ]
  },
  {
   "cell_type": "markdown",
   "id": "8eac88b2-cd04-4434-919a-9dc98c21d424",
   "metadata": {},
   "source": [
    "Or equivalently, if we wish to use traditional functions:"
   ]
  },
  {
   "cell_type": "code",
   "execution_count": 24,
   "id": "1b981cdc-1f00-4963-bc35-cf2d11eabd79",
   "metadata": {
    "tags": []
   },
   "outputs": [
    {
     "data": {
      "text/plain": [
       "array([-0.16666667,  0.83333333,  4.83333333])"
      ]
     },
     "execution_count": 24,
     "metadata": {},
     "output_type": "execute_result"
    }
   ],
   "source": [
    "def my_rep_function_non_lambda(data):\n",
    "    return 1/numpy.sum(data)\n",
    "\n",
    "shift_data([0, 1, 5], my_rep_function_non_lambda)"
   ]
  },
  {
   "cell_type": "markdown",
   "id": "94418afc-4181-41ec-a417-09cd9734110c",
   "metadata": {},
   "source": [
    "---\n",
    "\n",
    "# Problem 1\n",
    "\n",
    "In this problem, we will study Mondrian. For reference, the Mondrian algorithm, as presented in the asynchronous part of the course, is presented below:\n",
    "\n",
    "<div class=\"alert alert-block alert-info\">\n",
    "    <b>Function</b> Mondrian(<i>part</i>, <i>k</i>) is <br>\n",
    "    &nbsp;&nbsp;<b>Input:</b> Partition <i>part</i>; parameter <i>k</i><br>\n",
    "    &nbsp;&nbsp;<b>Output:</b> Minimal multi-dimentional <i>k</i>-anonymized paritioning of <i>part</i>.<br>\n",
    "    &nbsp;&nbsp;<b>To Start:</b> To get a minimal multi-dimentional <i>k</i>-anonymized paritioning of table <i>T</i> w.r.t. <i>Q</i>, call Mondrian(<i>T[Q]</i>, <i>k</i>).<br>\n",
    "    <br>\n",
    "    &nbsp;&nbsp;1&nbsp;&nbsp;<b>if</b> no allowable <i>k</i>-anonymous multi-dimensional cut exists for <i>part</i> <b>then</b><br>\n",
    "    &nbsp;&nbsp;2&nbsp;&nbsp;&nbsp;&nbsp;|&nbsp;&nbsp;&nbsp;&nbsp;<i>sum_stat</i> $\\leftarrow$ Summary_Statistic(<i>part</i>) # To replace all values in <i>part</i><br>\n",
    "    &nbsp;&nbsp;3&nbsp;&nbsp;&nbsp;&nbsp;|&nbsp;&nbsp;&nbsp;&nbsp;<b>let</b> $\\phi$:<i>part</i>$\\rightarrow${<i>sum_stat</i>} <b>such that</b><br>\n",
    "    &nbsp;&nbsp;4&nbsp;&nbsp;&nbsp;&nbsp;|&nbsp;&nbsp;&nbsp;&nbsp;|&nbsp;&nbsp;&nbsp;&nbsp;$\\forall v \\in$ <i>part</i>$: \\phi(v) \\triangleq$ <i>sum_stat</i><br>\n",
    "    &nbsp;&nbsp;5&nbsp;&nbsp;&nbsp;&nbsp;|&nbsp;&nbsp;&nbsp;&nbsp;<b>return</b> $\\phi$<br>\n",
    "    &nbsp;&nbsp;6&nbsp;&nbsp;&nbsp;&nbsp;<b>else</b><br>\n",
    "    &nbsp;&nbsp;7&nbsp;&nbsp;&nbsp;&nbsp;|&nbsp;&nbsp;&nbsp;&nbsp;<i>dim</i> $\\leftarrow$ Choose_Dimension(<i>part</i>, <i>k</i>) # Select dimension w/ allowable cut<br>\n",
    "    &nbsp;&nbsp;8&nbsp;&nbsp;&nbsp;&nbsp;|&nbsp;&nbsp;&nbsp;&nbsp;<i>fs</i> $\\leftarrow$ Frequency_Set(<i>part</i>, <i>dim</i>) # Calculate frequency set w.r.t. <i>dim</i><br>\n",
    "    &nbsp;&nbsp;9&nbsp;&nbsp;&nbsp;&nbsp;|&nbsp;&nbsp;&nbsp;&nbsp;<i>v_split</i> $\\leftarrow$ Find_Median(<i>fs</i>) # Find the split value (where to perform the cut)<br>\n",
    "    10&nbsp;&nbsp;&nbsp;&nbsp;|&nbsp;&nbsp;&nbsp;&nbsp;# The two sub-partitions<br>\n",
    "    11&nbsp;&nbsp;&nbsp;&nbsp;|&nbsp;&nbsp;&nbsp;&nbsp;<i>lhs</i> $\\leftarrow \\left\\{t \\in part | t.dim \\leq v\\_split \\right\\}$ <br>\n",
    "    12&nbsp;&nbsp;&nbsp;&nbsp;|&nbsp;&nbsp;&nbsp;&nbsp;<i>rhs</i> $\\leftarrow \\left\\{t \\in part | t.dim > v\\_split \\right\\}$ <br>\n",
    "    13&nbsp;&nbsp;&nbsp;&nbsp;|&nbsp;&nbsp;&nbsp;&nbsp;<b>return</b> Combine(Mondrian(<i>lhs</i>, <i>k</i>), Mondrian(<i>rhs</i>, <i>k</i>))<br>\n",
    "</div>\n",
    "\n",
    "The algorithm above (as presented in the async) is the default version that selects the next cut dimension at random, and always cuts on the median value of the selected dimension. We would like to expand this in our implementation and test various dimension and cut value choice strategies (thereafter: the extended Mondrian algorithm).\n",
    "\n",
    "You are provided the implementation of the extended Mondrian algorithm. You don't need to edit the implementation of Mondrian. However, you are strongly encouraged to understand the code and how it corresponds to the algorithm presented above."
   ]
  },
  {
   "cell_type": "code",
   "execution_count": 25,
   "id": "0caf7034-8e4a-4998-839d-4cd2a8497a55",
   "metadata": {
    "tags": []
   },
   "outputs": [],
   "source": [
    "def Mondrian_allowable_dims(table_partition, quasi_identifiers, k, cut_choice_fcn):\n",
    "    \"\"\"A helper function that determines the list of dimensions with allowable cuts.\n",
    "    \n",
    "    Parameters\n",
    "    ----------\n",
    "    table_partition : pandas.DataFrame\n",
    "        The partition on which to determine the dimensions with allowable cuts\n",
    "    quasi_identifiers : list\n",
    "        A list containing the set of quasi-identifiers (or dimensions)\n",
    "    k : int\n",
    "        The desired k\n",
    "    cut_choice_fcn : types.FunctionType (lambda data, k: number)\n",
    "        A function pointer to the cut value selection strategy\n",
    "    \n",
    "    Returns\n",
    "    -------\n",
    "    allowable_dims : list\n",
    "        A list containing the set of dimensions with allowable cuts.\n",
    "    \"\"\"\n",
    "    \n",
    "    # We don't know which dimensions will have allowable cuts yet, so we initialize allowable_dims to an empty list\n",
    "    allowable_dims = []\n",
    "    for dim_name in quasi_identifiers:\n",
    "        # For this dimension, the values are\n",
    "        dim_values = table_partition.loc[:,dim_name]\n",
    "        # and the cut value is\n",
    "        dim_boundry_cut = cut_choice_fcn(dim_values.to_list(), k)\n",
    "        lhs = table_partition.loc[table_partition.loc[:,dim_name] <= dim_boundry_cut,:]\n",
    "        rhs = table_partition.loc[table_partition.loc[:,dim_name] > dim_boundry_cut,:]\n",
    "        if lhs.shape[0] >= k and rhs.shape[0] >= k:\n",
    "            allowable_dims.append(dim_name)\n",
    "    return allowable_dims\n",
    "\n",
    "def Mondrian(table_in, quasi_identifiers, k, dim_choice_fcn, cut_choice_fcn):\n",
    "    \"\"\"The Mondrian algorithm implementation.\n",
    "    \n",
    "    Parameters\n",
    "    ----------\n",
    "    table_in : pandas.DataFrame\n",
    "        The input table to be generalized\n",
    "    k : int\n",
    "        The desired k\n",
    "    dim_choice_fcn : types.FunctionType (lambda partition, allowable_dims: string)\n",
    "        A function pointer to the dimension selection strategy\n",
    "    cut_choice_fcn : types.FunctionType (lambda data, k: number)\n",
    "        A function pointer to the cut value selection strategy\n",
    "    \n",
    "    Returns\n",
    "    -------\n",
    "    table_out : pandas.DataFrame\n",
    "        The generalized k-Anonymous table\n",
    "    partition_boundaries : pandas.DataFrame\n",
    "        A dataframe describing for each partition:\n",
    "            - the partition boundaries for each quasi-identifier (minimum, maximum), and\n",
    "            - the partition's final k value\n",
    "    \n",
    "    Raises\n",
    "    ------\n",
    "    Exception\n",
    "        If table_in cannot be made k-Anonymous.\n",
    "    \"\"\"\n",
    "    \n",
    "    if table_in.shape[0] < k:\n",
    "        # Impossible, we can't achieve k-Anonymity, there aren't enough\n",
    "        # rows in the table!\n",
    "        raise Exception('It is impossible to k-Anonymize the input table. There are fewer than k rows in the provided table')\n",
    "    allowable_dims = Mondrian_allowable_dims(table_in, quasi_identifiers, k, cut_choice_fcn)\n",
    "    if len(allowable_dims) == 0:\n",
    "        # In this case, there are no more allowable cuts for this partition.\n",
    "        # Go through the different attributes and change their values by the boundaries of the partition (i.e., sanitize).\n",
    "        nr_dims = len(quasi_identifiers)\n",
    "        # initialize the partitiens table\n",
    "        partition_boundaries = pandas.DataFrame(index=numpy.arange(1), columns=quasi_identifiers + ['k'])\n",
    "        # get the number of rows for the output table\n",
    "        nr_rows = table_in.shape[0]\n",
    "        # initialize the output table\n",
    "        table_out = pandas.DataFrame(index=table_in.index, columns=table_in.columns)\n",
    "        # In the output table, set the values of the quasi identifiers according to the partition boundaries\n",
    "        for dim_name in quasi_identifiers:\n",
    "            # find the boundaries\n",
    "            curr_boundaries = (min(table_in.loc[:,dim_name]), max(table_in.loc[:,dim_name]))\n",
    "            # set the boundries of this dimension in the output variable\n",
    "            partition_boundaries.loc[:,dim_name] = [curr_boundaries]\n",
    "            # and set all values of this column to the boundaries in the output table\n",
    "            # display(numpy.tile(partition_boundaries.loc[:,dim_name],(nr_rows,1)))\n",
    "            table_out.loc[:,dim_name] = [curr_boundaries]\n",
    "            \n",
    "        # Now that we've worked all quasi-identifiers, we need to copy the values of the sensitive attributes (untouched).\n",
    "        for dim_name in table_in.columns.difference(quasi_identifiers):\n",
    "            table_out.loc[:,dim_name] = table_in.loc[:,dim_name]\n",
    "        # # Package partition boundaries in a list (to prepare it to be appended to other partition boundaries later)\n",
    "        # partition_boundaries = [partition_boundaries]\n",
    "        # finally, the output k for this table is the size of the table\n",
    "        partition_boundaries.loc[:,'k'] = [table_out.shape[0]]\n",
    "    else:\n",
    "        # In this case, there is at least one dimension with an allowable cut.\n",
    "        # Choose a dimension according to our dimension choice function.\n",
    "        dim = dim_choice_fcn(table_in, allowable_dims)\n",
    "        \n",
    "        # Now we calculate the cut value\n",
    "        dim_boundry_values = table_in.loc[:,dim]\n",
    "        dim_boundry_cut = cut_choice_fcn(dim_boundry_values.to_list(), k)\n",
    "        \n",
    "        # The left hand side cut\n",
    "        lhs = table_in.loc[table_in.loc[:,dim] <= dim_boundry_cut,:]\n",
    "        lhs_out, lhs_boundaries = Mondrian(lhs, quasi_identifiers, k, dim_choice_fcn, cut_choice_fcn)\n",
    "        \n",
    "        # The right hand side cut\n",
    "        rhs = table_in.loc[table_in.loc[:,dim] > dim_boundry_cut,:]\n",
    "        rhs_out, rhs_boundaries = Mondrian(rhs, quasi_identifiers, k, dim_choice_fcn, cut_choice_fcn)\n",
    "        \n",
    "        # Combine the partitions\n",
    "        table_out = pandas.concat([lhs_out, rhs_out])\n",
    "        \n",
    "        # Combine the boundaries definitions\n",
    "        partition_boundaries = pandas.concat([lhs_boundaries, rhs_boundaries])\n",
    "             \n",
    "    # Sorting is unnecessary in practice, but doing it so that the results are more easily examinable\n",
    "    table_out = table_out.sort_values(by=quasi_identifiers).reset_index(drop=True)\n",
    "    partition_boundaries = partition_boundaries.sort_values(by=quasi_identifiers).reset_index(drop=True)\n",
    "    return table_out, partition_boundaries"
   ]
  },
  {
   "cell_type": "markdown",
   "id": "b6ad6581-7c0c-4669-8949-c4c3fd853878",
   "metadata": {},
   "source": [
    "The function `Mondrian` accepts the following input arguments:\n",
    "- `table_in`: The input table (as a whole, including quasi-identifiers and sensitive attributes).\n",
    "- `quasi_identifiers`: The list of quasi-identifiers, represented as a list of the column names of the quasi-identifiers.\n",
    "- `k`: the desired level of privacy in terms of k-Anonymity.\n",
    "- `dim_choice_fcn`: A function pointer for the choice of the next dimension to perform the cut on (cf. line 7 in the algorithm). More information about function pointers is given in [the beginning of the lab](#Function-Pointers). The type of the function `dim_choice_fcn` is `lambda partition, allowable_dims`, where `partition` is the current partition represents as a table and `allowable_dims` is the set of quasi-identifiers with allowable cuts (represented as a list of column names). [Read more on dimension choice functions below](#Dimension-Choice-Functions).\n",
    "- `cut_choice_fcn`: A function pointer for the choice of the cut value (split value) of the data of a given dimension (cf. line 9 in the algorithm). More information about function pointers is given in [the beginning of the lab](#Function-Pointers). The type of the function `cut_choice_fcn` is `lambda data, k` where `data` is a list containing the data points of the desired dimension (**a list, not a table**) and `k` is the desired level of $k$-Anonymity. [Read more on cut value choice functions below](#Cut-Value-Choice-Functions).\n",
    "\n",
    "The function `Mondrian` returns two outputs:\n",
    "- `table_out`: the output table sanitized to the desired level `k` in terms of $k$-Anonymity. In this table, the values of each quasi-identifier will be replaced by a pair of values representing the range of values (min and max) that the corresponding row falls in with respect to that quasi-idenfier (exmaples will follow).\n",
    "- `partition_boundaries`: a data frame, each row representing the boundaries (minimum, maximum) of a partition used to achieve $k$-Anonymity in terms of the quasi-identifers. Note that each partition is an equivalence class. In addition to the boundaries of the partition, each row of this dataframe will include the calculated k value of the same partition. The format of this output is similar to the output of the function `kAnonymity_Analyze` from Lab 2 (exmaples will follow).\n",
    "\n",
    "## Dimension Choice Functions\n",
    "\n",
    "A dimension choice function for `Mondrian` is a function that accepts two arguments:\n",
    "- `partition`: The current partition on which the next cut is going to be performed.\n",
    "- `allowable_dims`: The list of dimensions with allowable cuts on this partition. This list is represented as a list of column names from `partition`. You may assume that the provided Mondrian implementation will provide this parameter to your function correctly.\n",
    "\n",
    "And returns one output:\n",
    "- `dimension`: the dimension chosen for the next cut, from the list of dimenstions with allowable cuts `allowable_dims`.\n",
    "\n",
    "Through this function, you may specify the mechanism by which you would like `Mondrian` to select the next dimension for a cut.\n",
    "\n",
    "For example, consider the following function `Mondrian_choose_dim_random` that chooses a dimension at random (with equal probability) from the list of dimensions with allowable cuts (the default behavior described in class):"
   ]
  },
  {
   "cell_type": "code",
   "execution_count": 26,
   "id": "18881264-9eed-4e76-9aca-2fbf2e952793",
   "metadata": {
    "tags": []
   },
   "outputs": [],
   "source": [
    "def Mondrian_choose_dim_random(partition, allowable_dims):\n",
    "    \"\"\"A dimension choice function choosing a random dimension (with allowable cut) for the next cut.\n",
    "    \n",
    "    Parameters\n",
    "    ----------\n",
    "    partition : pandas.DataFrame\n",
    "        The partition on which to determine dimension for the next cut.\n",
    "    allowable_dims : list\n",
    "        A list containing the set of quasi-identifiers (or dimensions) with allowable cuts.\n",
    "        You may assume that the provided Mondrian implementation will provide this parameter to your function correctly.\n",
    "    \n",
    "    Returns\n",
    "    -------\n",
    "    dimension : string\n",
    "        The name of the quasi-identifier (or dimension) for the chosen cut.\n",
    "    \"\"\"\n",
    "    \n",
    "    # Since we select the next dimension randomly from allowable_dims, we ignore partition since it is irrelevant for this behavior\n",
    "    dimension = allowable_dims[numpy.random.randint(len(allowable_dims))]\n",
    "    return dimension"
   ]
  },
  {
   "cell_type": "markdown",
   "id": "8a9f5048-dd93-4bcd-8721-448814490d6c",
   "metadata": {},
   "source": [
    "Any function with this signature (input arguments and output) can be passed to `Mondrian` through the `dim_choice_fcn` argument. `Mondrian` will use the function specified in `dim_choice_fcn` to choose, in each step, the dimension for the next cut.\n",
    "\n",
    "## Cut Value Choice Functions\n",
    "\n",
    "A cut value choice function for `Mondrian` is a function that accepts two arguments:\n",
    "- `data`: A list containing the data values from the dimension chosen for the cut (not a table, just the values from the chosen dimension. E.g., `[94705, 94708, 94720, 94708, 94705]`).\n",
    "- `k`: The requested level of `k`-Anonymity.\n",
    "\n",
    "And returns one output:\n",
    "- `cut_value`: the value chosen for the next cut based on `data` and `k`.\n",
    "\n",
    "Through this function, you may specify the mechanism by which you would like `Mondrian` to select the value on which to perform the next cut.\n",
    "For example, consider the following function `Mondrian_choose_cut_median` that chooses a median value from the input data (the default behavior described in class):"
   ]
  },
  {
   "cell_type": "code",
   "execution_count": 27,
   "id": "e365ce22-45fc-4a06-af37-edd787b4cecc",
   "metadata": {
    "tags": []
   },
   "outputs": [],
   "source": [
    "def Mondrian_choose_cut_median(data,k):\n",
    "    \"\"\"A cut value choice function choosing the median as the value for the next cut.\n",
    "    \n",
    "    Parameters\n",
    "    ----------\n",
    "    data : list\n",
    "        A list containing the values of the chosen dimension from the current partition. This is not a DataFrame,\n",
    "        this is a list of the values from the chosen column only. That is, in your implementation you may assume that the format\n",
    "        of this argument is a list of values taken from the column chosen by the dimension choice function.\n",
    "        E.g., [94705, 94708, 94720, 94708, 94705].\n",
    "    k : int\n",
    "        The desired k value.\n",
    "    \n",
    "    Returns\n",
    "    -------\n",
    "    dimension : string\n",
    "        The name of the quasi-identifier (or dimension) for the chosen cut.\n",
    "    \"\"\"\n",
    "    \n",
    "    # k here is not needed for median calculation, so we ignore it\n",
    "    cut_value = numpy.median(data)\n",
    "    return cut_value"
   ]
  },
  {
   "cell_type": "markdown",
   "id": "c6d9a4db-d56c-4593-96b5-c77b4fef8e56",
   "metadata": {
    "tags": []
   },
   "source": [
    "Any function with this signature (input arguments and output) can be passed to `Mondrian` through the `cut_choice_fcn` argument. `Mondrian` will use the function specified in `cut_choice_fcn` to choose, in each step, the cut value for the next cut. This function will also be used by `Mondrian` to determine which dimensions have allowable cuts in the next step.\n",
    "\n",
    "---\n",
    "\n",
    "In this problem, we will study the effect of the different choices of 1) dimension choice functions; and 2) cut value choice functions, on the outcome of `Mondrian`.\n",
    "\n",
    "## (a) Let's Get Started: The Default Behavior\n",
    "\n",
    "In this first part, we will famirialize ourselves with the different components of the code and the functinos provided in this lab. For that purpose, we will use a simple example that we can analyze manually if needed:"
   ]
  },
  {
   "cell_type": "code",
   "execution_count": 28,
   "id": "4482ffb1-6e7e-48e6-b68b-8efec4dad071",
   "metadata": {
    "tags": []
   },
   "outputs": [
    {
     "data": {
      "text/html": [
       "<div>\n",
       "<style scoped>\n",
       "    .dataframe tbody tr th:only-of-type {\n",
       "        vertical-align: middle;\n",
       "    }\n",
       "\n",
       "    .dataframe tbody tr th {\n",
       "        vertical-align: top;\n",
       "    }\n",
       "\n",
       "    .dataframe thead th {\n",
       "        text-align: right;\n",
       "    }\n",
       "</style>\n",
       "<table border=\"1\" class=\"dataframe\">\n",
       "  <thead>\n",
       "    <tr style=\"text-align: right;\">\n",
       "      <th></th>\n",
       "      <th>Zipcode</th>\n",
       "      <th>Age</th>\n",
       "    </tr>\n",
       "  </thead>\n",
       "  <tbody>\n",
       "    <tr>\n",
       "      <th>0</th>\n",
       "      <td>94702</td>\n",
       "      <td>31</td>\n",
       "    </tr>\n",
       "    <tr>\n",
       "      <th>1</th>\n",
       "      <td>94704</td>\n",
       "      <td>31</td>\n",
       "    </tr>\n",
       "    <tr>\n",
       "      <th>2</th>\n",
       "      <td>94703</td>\n",
       "      <td>32</td>\n",
       "    </tr>\n",
       "    <tr>\n",
       "      <th>3</th>\n",
       "      <td>94705</td>\n",
       "      <td>32</td>\n",
       "    </tr>\n",
       "    <tr>\n",
       "      <th>4</th>\n",
       "      <td>94704</td>\n",
       "      <td>33</td>\n",
       "    </tr>\n",
       "    <tr>\n",
       "      <th>5</th>\n",
       "      <td>94703</td>\n",
       "      <td>34</td>\n",
       "    </tr>\n",
       "    <tr>\n",
       "      <th>6</th>\n",
       "      <td>94704</td>\n",
       "      <td>34</td>\n",
       "    </tr>\n",
       "    <tr>\n",
       "      <th>7</th>\n",
       "      <td>94706</td>\n",
       "      <td>31</td>\n",
       "    </tr>\n",
       "    <tr>\n",
       "      <th>8</th>\n",
       "      <td>94706</td>\n",
       "      <td>32</td>\n",
       "    </tr>\n",
       "    <tr>\n",
       "      <th>9</th>\n",
       "      <td>94706</td>\n",
       "      <td>34</td>\n",
       "    </tr>\n",
       "  </tbody>\n",
       "</table>\n",
       "</div>"
      ],
      "text/plain": [
       "   Zipcode  Age\n",
       "0    94702   31\n",
       "1    94704   31\n",
       "2    94703   32\n",
       "3    94705   32\n",
       "4    94704   33\n",
       "5    94703   34\n",
       "6    94704   34\n",
       "7    94706   31\n",
       "8    94706   32\n",
       "9    94706   34"
      ]
     },
     "metadata": {},
     "output_type": "display_data"
    }
   ],
   "source": [
    "display(Lab3_Problem1_demo)"
   ]
  },
  {
   "cell_type": "markdown",
   "id": "136e733a-3f07-47dd-b864-fbbd2e95aacf",
   "metadata": {
    "tags": []
   },
   "source": [
    "We will use a function provided to you in this lab `visualize_data` that visualizes 2D data:"
   ]
  },
  {
   "cell_type": "code",
   "execution_count": 29,
   "id": "0e33676c-3f40-41aa-b534-e6809f22cbb8",
   "metadata": {
    "tags": []
   },
   "outputs": [],
   "source": [
    "def visualize_data(table_in, quasi_identifiers, fh=False):\n",
    "    \"\"\"A function to visualize the a table on a 2D plane (using exactly 2 quasi-identifiers).\n",
    "    \n",
    "    Parameters\n",
    "    ----------\n",
    "    table_in : pandas.DataFrame\n",
    "        The original table (not the output of Mondrian, but the original non-generalized table).\n",
    "    quasi_identifiers : list\n",
    "        A list containing the set of quasi-identifiers.\n",
    "    \n",
    "    Example\n",
    "    -------\n",
    "    visualize_data(Lab3_Problem1_demo, ['Zipcode', 'Age'])\n",
    "    \"\"\"\n",
    "    \n",
    "    assert len(quasi_identifiers) == 2, 'This function is meant to only be used for visualizing two dimensional partitions'\n",
    "    if not fh:\n",
    "        pyplot.subplots(figsize=(12,12))\n",
    "    # Here are the dimension names to plot\n",
    "    dim1=quasi_identifiers[0]\n",
    "    dim2=quasi_identifiers[1]\n",
    "    # Plot our data points\n",
    "    pyplot.scatter(table_in.loc[:,dim1], table_in.loc[:,dim2], s=25, c='red')\n",
    "    # Focus on the relevant area of the plot\n",
    "    pyplot.xlim([min(table_in.loc[:,dim1])-.5, max(table_in.loc[:,dim1])+.5])\n",
    "    pyplot.ylim([min(table_in.loc[:,dim2])-.5, max(table_in.loc[:,dim2])+.5])\n",
    "    # Only the ticks that matter\n",
    "    pyplot.xticks(numpy.unique(table_in.loc[:,dim1]))\n",
    "    pyplot.yticks(numpy.unique(table_in.loc[:,dim2]))\n",
    "    # Add some labels\n",
    "    pyplot.xlabel(dim1)\n",
    "    pyplot.ylabel(dim2)\n",
    "    pyplot.title('Values of quasi-identifiers')"
   ]
  },
  {
   "cell_type": "markdown",
   "id": "bea770b2-b085-465c-8e7b-77b116bcec91",
   "metadata": {},
   "source": [
    "To visualize the same sample dataset:"
   ]
  },
  {
   "cell_type": "code",
   "execution_count": 30,
   "id": "5863e677-cedf-48a8-87fe-f96c07f2ea42",
   "metadata": {
    "tags": []
   },
   "outputs": [
    {
     "data": {
      "image/png": "[encoded data removed]",
      "text/plain": [
       "<Figure size 1200x1200 with 1 Axes>"
      ]
     },
     "metadata": {},
     "output_type": "display_data"
    }
   ],
   "source": [
    "qID = ['Zipcode','Age']\n",
    "visualize_data(Lab3_Problem1_demo, qID)"
   ]
  },
  {
   "cell_type": "markdown",
   "id": "524a1123-ccca-409b-8f60-7573e49236ce",
   "metadata": {
    "tags": []
   },
   "source": [
    "If we run the Mondrian algorithm on this data, with\n",
    "- `dim_choice_fcn` to select a random dimension from the dimensions with allowable cuts (i.e., the function `Mondrian_choose_dim_random`), and\n",
    "- `cut_choice_fcn` to select the median value from the values of the given dimension as the split value (i.e., the function `Mondrian_choose_cut_median`).\n",
    "\n",
    "We should be able to manualy analyze the possible ways this algorithm can converge.\n",
    "\n",
    "Using these (already implemented) functions, we run the following code to sanitize the data from `Lab3_Problem1_demo` as desired in the description above:"
   ]
  },
  {
   "cell_type": "code",
   "execution_count": 31,
   "id": "9f750f30-d181-46d6-abe8-bc560960df09",
   "metadata": {
    "tags": []
   },
   "outputs": [],
   "source": [
    "desired_k = 3\n",
    "p1a_tableOut, p1a_boundaries = Mondrian(Lab3_Problem1_demo, qID, desired_k, Mondrian_choose_dim_random, Mondrian_choose_cut_median)"
   ]
  },
  {
   "cell_type": "markdown",
   "id": "97820d34-f22d-4239-a239-418eec8f56f2",
   "metadata": {
    "tags": []
   },
   "source": [
    "Let's take look at the output table"
   ]
  },
  {
   "cell_type": "code",
   "execution_count": 32,
   "id": "519acdf2-5618-4c85-a835-c8151034b13b",
   "metadata": {
    "tags": []
   },
   "outputs": [
    {
     "data": {
      "text/html": [
       "<div>\n",
       "<style scoped>\n",
       "    .dataframe tbody tr th:only-of-type {\n",
       "        vertical-align: middle;\n",
       "    }\n",
       "\n",
       "    .dataframe tbody tr th {\n",
       "        vertical-align: top;\n",
       "    }\n",
       "\n",
       "    .dataframe thead th {\n",
       "        text-align: right;\n",
       "    }\n",
       "</style>\n",
       "<table border=\"1\" class=\"dataframe\">\n",
       "  <thead>\n",
       "    <tr style=\"text-align: right;\">\n",
       "      <th></th>\n",
       "      <th>Zipcode</th>\n",
       "      <th>Age</th>\n",
       "    </tr>\n",
       "  </thead>\n",
       "  <tbody>\n",
       "    <tr>\n",
       "      <th>0</th>\n",
       "      <td>(94702, 94706)</td>\n",
       "      <td>(31, 31)</td>\n",
       "    </tr>\n",
       "    <tr>\n",
       "      <th>1</th>\n",
       "      <td>(94702, 94706)</td>\n",
       "      <td>(31, 31)</td>\n",
       "    </tr>\n",
       "    <tr>\n",
       "      <th>2</th>\n",
       "      <td>(94702, 94706)</td>\n",
       "      <td>(31, 31)</td>\n",
       "    </tr>\n",
       "    <tr>\n",
       "      <th>3</th>\n",
       "      <td>(94703, 94706)</td>\n",
       "      <td>(32, 32)</td>\n",
       "    </tr>\n",
       "    <tr>\n",
       "      <th>4</th>\n",
       "      <td>(94703, 94706)</td>\n",
       "      <td>(32, 32)</td>\n",
       "    </tr>\n",
       "    <tr>\n",
       "      <th>5</th>\n",
       "      <td>(94703, 94706)</td>\n",
       "      <td>(32, 32)</td>\n",
       "    </tr>\n",
       "    <tr>\n",
       "      <th>6</th>\n",
       "      <td>(94703, 94706)</td>\n",
       "      <td>(33, 34)</td>\n",
       "    </tr>\n",
       "    <tr>\n",
       "      <th>7</th>\n",
       "      <td>(94703, 94706)</td>\n",
       "      <td>(33, 34)</td>\n",
       "    </tr>\n",
       "    <tr>\n",
       "      <th>8</th>\n",
       "      <td>(94703, 94706)</td>\n",
       "      <td>(33, 34)</td>\n",
       "    </tr>\n",
       "    <tr>\n",
       "      <th>9</th>\n",
       "      <td>(94703, 94706)</td>\n",
       "      <td>(33, 34)</td>\n",
       "    </tr>\n",
       "  </tbody>\n",
       "</table>\n",
       "</div>"
      ],
      "text/plain": [
       "          Zipcode       Age\n",
       "0  (94702, 94706)  (31, 31)\n",
       "1  (94702, 94706)  (31, 31)\n",
       "2  (94702, 94706)  (31, 31)\n",
       "3  (94703, 94706)  (32, 32)\n",
       "4  (94703, 94706)  (32, 32)\n",
       "5  (94703, 94706)  (32, 32)\n",
       "6  (94703, 94706)  (33, 34)\n",
       "7  (94703, 94706)  (33, 34)\n",
       "8  (94703, 94706)  (33, 34)\n",
       "9  (94703, 94706)  (33, 34)"
      ]
     },
     "metadata": {},
     "output_type": "display_data"
    }
   ],
   "source": [
    "display(p1a_tableOut)"
   ]
  },
  {
   "cell_type": "markdown",
   "id": "4ee979de-cc74-44af-9e56-2a8ab81246b8",
   "metadata": {},
   "source": [
    "Note how each quasi-identifier now has a range of values instead of a single value. The new value indicates the range that the original value falls in.\n",
    "\n",
    "Let's take a look at the different partitions (equivalence classes) returned by `Mondrian` and the corresponding value $k$ of that partition:"
   ]
  },
  {
   "cell_type": "code",
   "execution_count": 33,
   "id": "371e7fb5-7a82-4661-b844-a7706bec8a15",
   "metadata": {
    "tags": []
   },
   "outputs": [
    {
     "data": {
      "text/markdown": [
       "Partition number 1:"
      ],
      "text/plain": [
       "<IPython.core.display.Markdown object>"
      ]
     },
     "metadata": {},
     "output_type": "display_data"
    },
    {
     "data": {
      "text/plain": [
       "Zipcode    (94702, 94706)\n",
       "Age              (31, 31)\n",
       "k                       3\n",
       "Name: 0, dtype: object"
      ]
     },
     "metadata": {},
     "output_type": "display_data"
    },
    {
     "data": {
      "text/markdown": [
       "Partition number 2:"
      ],
      "text/plain": [
       "<IPython.core.display.Markdown object>"
      ]
     },
     "metadata": {},
     "output_type": "display_data"
    },
    {
     "data": {
      "text/plain": [
       "Zipcode    (94703, 94706)\n",
       "Age              (32, 32)\n",
       "k                       3\n",
       "Name: 1, dtype: object"
      ]
     },
     "metadata": {},
     "output_type": "display_data"
    },
    {
     "data": {
      "text/markdown": [
       "Partition number 3:"
      ],
      "text/plain": [
       "<IPython.core.display.Markdown object>"
      ]
     },
     "metadata": {},
     "output_type": "display_data"
    },
    {
     "data": {
      "text/plain": [
       "Zipcode    (94703, 94706)\n",
       "Age              (33, 34)\n",
       "k                       4\n",
       "Name: 2, dtype: object"
      ]
     },
     "metadata": {},
     "output_type": "display_data"
    }
   ],
   "source": [
    "for partition_i in range(p1a_boundaries.shape[0]):\n",
    "    display(Markdown(f'Partition number {partition_i+1}:'))\n",
    "    display(p1a_boundaries.iloc[partition_i,:])"
   ]
  },
  {
   "cell_type": "markdown",
   "id": "47846f4c-3e48-46be-9eb6-b71f28848f81",
   "metadata": {},
   "source": [
    "For each partition, the value of each quasi-identifier is formatted as `(minimum, maximum)` which are the smallest and largest values of the quasi-identifier within the partition, respectively.\n",
    "\n",
    "Concisely, we can view all partitions at once:"
   ]
  },
  {
   "cell_type": "code",
   "execution_count": 34,
   "id": "0f74ef31-d77f-4277-9ac8-7e15bc434e56",
   "metadata": {
    "tags": []
   },
   "outputs": [
    {
     "data": {
      "text/html": [
       "<div>\n",
       "<style scoped>\n",
       "    .dataframe tbody tr th:only-of-type {\n",
       "        vertical-align: middle;\n",
       "    }\n",
       "\n",
       "    .dataframe tbody tr th {\n",
       "        vertical-align: top;\n",
       "    }\n",
       "\n",
       "    .dataframe thead th {\n",
       "        text-align: right;\n",
       "    }\n",
       "</style>\n",
       "<table border=\"1\" class=\"dataframe\">\n",
       "  <thead>\n",
       "    <tr style=\"text-align: right;\">\n",
       "      <th></th>\n",
       "      <th>Zipcode</th>\n",
       "      <th>Age</th>\n",
       "      <th>k</th>\n",
       "    </tr>\n",
       "  </thead>\n",
       "  <tbody>\n",
       "    <tr>\n",
       "      <th>0</th>\n",
       "      <td>(94702, 94706)</td>\n",
       "      <td>(31, 31)</td>\n",
       "      <td>3</td>\n",
       "    </tr>\n",
       "    <tr>\n",
       "      <th>1</th>\n",
       "      <td>(94703, 94706)</td>\n",
       "      <td>(32, 32)</td>\n",
       "      <td>3</td>\n",
       "    </tr>\n",
       "    <tr>\n",
       "      <th>2</th>\n",
       "      <td>(94703, 94706)</td>\n",
       "      <td>(33, 34)</td>\n",
       "      <td>4</td>\n",
       "    </tr>\n",
       "  </tbody>\n",
       "</table>\n",
       "</div>"
      ],
      "text/plain": [
       "          Zipcode       Age  k\n",
       "0  (94702, 94706)  (31, 31)  3\n",
       "1  (94703, 94706)  (32, 32)  3\n",
       "2  (94703, 94706)  (33, 34)  4"
      ]
     },
     "metadata": {},
     "output_type": "display_data"
    }
   ],
   "source": [
    "display(p1a_boundaries)"
   ]
  },
  {
   "cell_type": "markdown",
   "id": "38283bf7-4989-4ebb-915a-2e5a6559be2f",
   "metadata": {},
   "source": [
    "Let's verify that this output using our trusted code from Lab 2:"
   ]
  },
  {
   "cell_type": "code",
   "execution_count": 35,
   "id": "3775c92c-9b52-40ad-ba2a-9e47f6d44f04",
   "metadata": {
    "tags": []
   },
   "outputs": [
    {
     "data": {
      "text/html": [
       "<div>\n",
       "<style scoped>\n",
       "    .dataframe tbody tr th:only-of-type {\n",
       "        vertical-align: middle;\n",
       "    }\n",
       "\n",
       "    .dataframe tbody tr th {\n",
       "        vertical-align: top;\n",
       "    }\n",
       "\n",
       "    .dataframe thead th {\n",
       "        text-align: right;\n",
       "    }\n",
       "</style>\n",
       "<table border=\"1\" class=\"dataframe\">\n",
       "  <thead>\n",
       "    <tr style=\"text-align: right;\">\n",
       "      <th></th>\n",
       "      <th>Zipcode</th>\n",
       "      <th>Age</th>\n",
       "      <th>k</th>\n",
       "    </tr>\n",
       "  </thead>\n",
       "  <tbody>\n",
       "    <tr>\n",
       "      <th>0</th>\n",
       "      <td>(94702, 94706)</td>\n",
       "      <td>(31, 31)</td>\n",
       "      <td>3</td>\n",
       "    </tr>\n",
       "    <tr>\n",
       "      <th>1</th>\n",
       "      <td>(94703, 94706)</td>\n",
       "      <td>(32, 32)</td>\n",
       "      <td>3</td>\n",
       "    </tr>\n",
       "    <tr>\n",
       "      <th>2</th>\n",
       "      <td>(94703, 94706)</td>\n",
       "      <td>(33, 34)</td>\n",
       "      <td>4</td>\n",
       "    </tr>\n",
       "  </tbody>\n",
       "</table>\n",
       "</div>"
      ],
      "text/plain": [
       "          Zipcode       Age  k\n",
       "0  (94702, 94706)  (31, 31)  3\n",
       "1  (94703, 94706)  (32, 32)  3\n",
       "2  (94703, 94706)  (33, 34)  4"
      ]
     },
     "metadata": {},
     "output_type": "display_data"
    },
    {
     "data": {
      "text/markdown": [
       "Yielding k = 3"
      ],
      "text/plain": [
       "<IPython.core.display.Markdown object>"
      ]
     },
     "metadata": {},
     "output_type": "display_data"
    }
   ],
   "source": [
    "def kAnonymity_Analyze(data, qID):\n",
    "    eqv_classes = data.groupby(qID).apply(lambda x: len(x), include_groups=False).reset_index(name='k')    \n",
    "    return min(eqv_classes.k), eqv_classes\n",
    "\n",
    "qID = ['Zipcode','Age']\n",
    "[actual_k,ec_report] = kAnonymity_Analyze(p1a_tableOut, qID)\n",
    "display(ec_report)\n",
    "display(Markdown(f'Yielding k = {actual_k}'))"
   ]
  },
  {
   "cell_type": "markdown",
   "id": "b0461d6e-bf1c-478b-8b51-f8635578db09",
   "metadata": {
    "tags": []
   },
   "source": [
    "We see that the results match! Hooray!\n",
    "\n",
    "However, it may be easier to visualize the generalized table as we've seen in the async and in discussion. For this purpose, you are provided another function in this lab, `visualize_Mondrian`, which visulizes the resulting partitions of the function `Mondrian` and superimposes them on the original data (for cases with $2$ quasi-identifiers only):"
   ]
  },
  {
   "cell_type": "code",
   "execution_count": 36,
   "id": "42bbb6bf-3396-4668-b0f3-c7c5f66ed098",
   "metadata": {
    "tags": []
   },
   "outputs": [],
   "source": [
    "def visualize_Mondrian(table_in, quasi_identifiers, boundaries):\n",
    "    \"\"\"A function to visualize the outcome of the Mondrian algorithm\n",
    "    \n",
    "    Parameters\n",
    "    ----------\n",
    "    table_in : pandas.DataFrame\n",
    "        The original table (not the output of Mondrian, but the original non-generalized table).\n",
    "    quasi_identifiers : list\n",
    "        A list containing the set of quasi-identifiers.\n",
    "    boundaries : pandas.DataFrame\n",
    "        The second output of the function Mondrian() containing the boundaries for each partition\n",
    "    \"\"\"\n",
    "    \n",
    "    assert len(quasi_identifiers) == 2, 'This function is meant to only be used for visualizing two dimensional partitions'\n",
    "    # Start a figure\n",
    "    fh, ax= pyplot.subplots(figsize=(12,12))\n",
    "    \n",
    "    \n",
    "    # Calculate the min distances between datapoints in each dimension\n",
    "    dim_granularities = numpy.full((table_in.shape[1],1), numpy.nan)\n",
    "    for dim in range(2):\n",
    "        dim_unique = numpy.unique(table_in.iloc[:,dim])\n",
    "        dim_granularities[dim] = min(numpy.diff(dim_unique))/2\n",
    "        \n",
    "\n",
    "    # Generate the colors for the boundary boxes\n",
    "    cols = pyplot.cm.gray(numpy.linspace(0,1,len(boundaries)), alpha=1)\n",
    "    \n",
    "    # For each boundary\n",
    "    for boundary_i in range(0,len(boundaries)):\n",
    "        # Get the current boundary dimensions\n",
    "        curr_boundary = boundaries.loc[boundary_i,quasi_identifiers]\n",
    "        \n",
    "        # These are the x,y coordinates of the bottom left corner\n",
    "        x = curr_boundary.iloc[0][0]-dim_granularities[0]\n",
    "        y = curr_boundary.iloc[1][0]-dim_granularities[1]\n",
    "        \n",
    "        # These are the width and height of the box\n",
    "        w = curr_boundary.iloc[0][1] - x + dim_granularities[0]\n",
    "        h = curr_boundary.iloc[1][1] - y + dim_granularities[1]\n",
    "        \n",
    "        # Plot the box\n",
    "        curr_ec = matplotlib.patches.Rectangle((x,y), w, h, linewidth=1, edgecolor='red', facecolor=cols[boundary_i])\n",
    "        \n",
    "        ax.add_patch(curr_ec)\n",
    "        \n",
    "        pyplot.text(x+dim_granularities[0]*0.5, y+h/2+dim_granularities[1]*0, boundaries.loc[boundary_i,'k'] ,horizontalalignment='center', verticalalignment='center', size=10, c='red', bbox=dict(boxstyle='square,pad=0', facecolor='blue', alpha=0))\n",
    "        \n",
    "    visualize_data(table_in, quasi_identifiers, fh)\n",
    "    pyplot.show()\n",
    "\n",
    "    "
   ]
  },
  {
   "cell_type": "markdown",
   "id": "706fa2cf-70a1-4ef4-b9a7-e1a4cdb5172c",
   "metadata": {},
   "source": [
    "We will use this function to visualize the output of `Mondrian` on our sample dataset:"
   ]
  },
  {
   "cell_type": "code",
   "execution_count": 37,
   "id": "a432bebc-9199-4916-b5d6-371f1a06175a",
   "metadata": {
    "tags": []
   },
   "outputs": [
    {
     "data": {
      "image/png": "[encoded data removed]",
      "text/plain": [
       "<Figure size 1200x1200 with 1 Axes>"
      ]
     },
     "metadata": {},
     "output_type": "display_data"
    }
   ],
   "source": [
    "visualize_Mondrian(Lab3_Problem1_demo, qID, p1a_boundaries)"
   ]
  },
  {
   "cell_type": "markdown",
   "id": "c3cc2546-c7b1-4be2-84aa-214c5c6294e8",
   "metadata": {},
   "source": [
    "**Note** how the first argument to the function `visualize_Mondrian` is the original dataset (the input to `Mondrian`, not the output of `Mondrian`), this is because we would like to visualize the partitions on top of the original (non-generalized) dataset.\n",
    "\n",
    "The function `visualize_Mondrian` plots bounding boxes around each partition, color them differently, and depict the number of data points in each partition inside the figure.\n",
    "\n",
    "Since the choice of the next dimension to cut is random in this example, the algorithm will potentially output a different partition every run.\n",
    "\n",
    "Run the following snippet of code repeatedly to determine the number of different outputs this algorithm can generate, and store that value in the variable `p1a_nr_outputs`. You may hardcode the answer in your code.\n",
    "\n",
    "Complete the following code snippet with your answer:"
   ]
  },
  {
   "cell_type": "code",
   "execution_count": 38,
   "id": "4a36bd26-6405-4080-bcb4-7c0b38a469e9",
   "metadata": {
    "tags": []
   },
   "outputs": [
    {
     "data": {
      "image/png": "[encoded data removed]",
      "text/plain": [
       "<Figure size 1200x1200 with 1 Axes>"
      ]
     },
     "metadata": {},
     "output_type": "display_data"
    }
   ],
   "source": [
    "qID = ['Zipcode','Age']\n",
    "desired_k = 3\n",
    "[p1a_tableOut, p1a_boundaries] = Mondrian(Lab3_Problem1_demo, qID, desired_k, Mondrian_choose_dim_random, Mondrian_choose_cut_median)\n",
    "visualize_Mondrian(Lab3_Problem1_demo, qID, p1a_boundaries)\n",
    "\n",
    "# Fill in the answer in the following variable\n",
    "p1a_nr_outputs = 4 # <-- your answer here"
   ]
  },
  {
   "cell_type": "markdown",
   "id": "c34b7b14-a56f-44e9-92ce-6bd3f2c1e89d",
   "metadata": {},
   "source": [
    "Run the following cell to print the outcomes of your code."
   ]
  },
  {
   "cell_type": "code",
   "execution_count": 39,
   "id": "37286587-025d-4f28-ad72-2fcc6e9fc05e",
   "metadata": {
    "tags": []
   },
   "outputs": [
    {
     "data": {
      "text/markdown": [
       "**Question**: How many possible outputs can `Mondrian` output for the sample dataset?<br>**Answer**: $4$"
      ],
      "text/plain": [
       "<IPython.core.display.Markdown object>"
      ]
     },
     "metadata": {},
     "output_type": "display_data"
    }
   ],
   "source": [
    "__problem = '1a'\n",
    "\n",
    "try:\n",
    "    print_mk(f'**Question**: How many possible outputs can `Mondrian` output for the sample dataset?<br>**Answer**: ${p1a_nr_outputs}$')\n",
    "except Exception as e:\n",
    "    safe_print_err(e)"
   ]
  },
  {
   "cell_type": "markdown",
   "id": "2e7a2eca-bd7a-42ae-8217-75374fe0dd2e",
   "metadata": {},
   "source": [
    "---\n",
    "\n",
    "## (b) More Data, Default Behavior\n",
    "\n",
    "In this part, you will run the `Mondrian` algorithm on `Lab3_Data` on various sets of quasi-identifiers and $k$ values. All of the trials in this part should use the dimension choice function `Mondrian_choose_dim_random` and the cut value choice function `Mondrian_choose_cut_median`.\n",
    "\n",
    "Concretely, run the function `Mondrian` on `Lab3_Data` five times, and assign the results in the following variables:\n",
    "- `p1b_tableOut_ra_20` and `p1b_boundaries_ra_20`: For the results of `Mondrian` on `Lab3_Data` with `qID = ['Race', 'Age']` and $k=20$.\n",
    "    - `p1b_actual_k_ra_20`: Store the resulting $k$ value of the table after generalization.\n",
    "- `p1b_tableOut_ra_40` and `p1b_boundaries_ra_40`: For the results of `Mondrian` on `Lab3_Data` with `qID = ['Race', 'Age']` and $k=40$.\n",
    "    - `p1b_actual_k_ra_40`: Store the resulting $k$ value of the table after generalization.\n",
    "- `p1b_tableOut_ra_80` and `p1b_boundaries_ra_80`: For the results of `Mondrian` on `Lab3_Data` with `qID = ['Race', 'Age']` and $k=80$.\n",
    "    - `p1b_actual_k_ra_80`: Store the resulting $k$ value of the table after generalization.\n",
    "- `p1b_tableOut_rm_20` and `p1b_boundaries_rm_20`: For the results of `Mondrian` on `Lab3_Data` with `qID = ['Race', 'Marital_Status']` and $k=20$ .\n",
    "    - `p1b_actual_k_rm_20`: Store the resulting $k$ value of the table after generalization.\n",
    "- `p1b_tableOut_gm_40` and `p1b_boundaries_gm_40`: For the results of `Mondrian` on `Lab3_Data` with `qID = ['Gender', 'Marital_Status']`, and $k=40$.\n",
    "    - `p1b_actual_k_gm_40`: Store the resulting $k$ value of the table after generalization.\n",
    "\n",
    "Replace the following code snippet with your answer:"
   ]
  },
  {
   "cell_type": "code",
   "execution_count": 40,
   "id": "67b71667-e07b-4f5d-b4e7-e87a21c5ac80",
   "metadata": {
    "tags": []
   },
   "outputs": [],
   "source": [
    "# Your solution goes here\n",
    "def runAndVisualizeMondrian(table, Q, desired_k, dim_fn, cut_fn, visualize=False):\n",
    "  [tableOut, boundaries] = Mondrian(table, Q, desired_k, dim_fn, cut_fn)\n",
    "  if visualize:\n",
    "    visualize_Mondrian(table, Q, boundaries)\n",
    "  return [tableOut, boundaries]\n",
    "\n",
    "def p1b_Mondrian(Q, k):\n",
    "  [tableOut, boundaries] = runAndVisualizeMondrian(Lab3_Data, Q, k, Mondrian_choose_dim_random, Mondrian_choose_cut_median)\n",
    "  [actual_k,ec_report] = kAnonymity_Analyze(tableOut, Q)\n",
    "  return [tableOut, boundaries, actual_k, ec_report]\n",
    "\n",
    "[p1b_tableOut_ra_20, p1b_boundaries_ra_20, p1b_actual_k_ra_20, p1b_ec_report_ra_20] = p1b_Mondrian(['Race', 'Age'], 20)\n",
    "[p1b_tableOut_ra_40, p1b_boundaries_ra_40, p1b_actual_k_ra_40, p1b_ec_report_ra_40] = p1b_Mondrian(['Race', 'Age'], 40)\n",
    "[p1b_tableOut_ra_80, p1b_boundaries_ra_80, p1b_actual_k_ra_80, p1b_ec_report_ra_80] = p1b_Mondrian(['Race', 'Age'], 80)\n",
    "[p1b_tableOut_rm_20, p1b_boundaries_rm_20, p1b_actual_k_rm_20, p1b_ec_report_rm_20] = p1b_Mondrian(['Race', 'Marital_Status'], 20)\n",
    "[p1b_tableOut_gm_40, p1b_boundaries_gm_40, p1b_actual_k_gm_40, p1b_ec_report_gm_40] = p1b_Mondrian(['Gender', 'Marital_Status'], 40)\n",
    "\n",
    "qID = ['Zipcode','Age']\n",
    "desired_k = 3"
   ]
  },
  {
   "cell_type": "markdown",
   "id": "4fc852da-9944-4a96-a606-81b5e386cd86",
   "metadata": {},
   "source": [
    "Run the following cell to present the outcomes of your code."
   ]
  },
  {
   "cell_type": "code",
   "execution_count": 41,
   "id": "c8d6b3bc-12e4-496e-bb14-4cef2ac6b8fa",
   "metadata": {
    "tags": []
   },
   "outputs": [
    {
     "data": {
      "text/markdown": [
       "The results of the run for qID=['Race', 'Age'] with $k=20$ are:"
      ],
      "text/plain": [
       "<IPython.core.display.Markdown object>"
      ]
     },
     "metadata": {},
     "output_type": "display_data"
    },
    {
     "data": {
      "image/png": "[encoded data removed]",
      "text/plain": [
       "<Figure size 1200x1200 with 1 Axes>"
      ]
     },
     "metadata": {},
     "output_type": "display_data"
    },
    {
     "data": {
      "text/markdown": [
       "The generalized table is:"
      ],
      "text/plain": [
       "<IPython.core.display.Markdown object>"
      ]
     },
     "metadata": {},
     "output_type": "display_data"
    },
    {
     "data": {
      "text/html": [
       "<div>\n",
       "<style scoped>\n",
       "    .dataframe tbody tr th:only-of-type {\n",
       "        vertical-align: middle;\n",
       "    }\n",
       "\n",
       "    .dataframe tbody tr th {\n",
       "        vertical-align: top;\n",
       "    }\n",
       "\n",
       "    .dataframe thead th {\n",
       "        text-align: right;\n",
       "    }\n",
       "</style>\n",
       "<table border=\"1\" class=\"dataframe\">\n",
       "  <thead>\n",
       "    <tr style=\"text-align: right;\">\n",
       "      <th></th>\n",
       "      <th>Subject_ID</th>\n",
       "      <th>Gender</th>\n",
       "      <th>Age</th>\n",
       "      <th>Marital_Status</th>\n",
       "      <th>Country_Birth</th>\n",
       "      <th>Race</th>\n",
       "      <th>Alcohol_Average</th>\n",
       "      <th>LDL_Cholesterol</th>\n",
       "      <th>HDL_Cholesterol</th>\n",
       "      <th>Total_Cholesterol</th>\n",
       "      <th>Sys_Blood_Pressure</th>\n",
       "    </tr>\n",
       "  </thead>\n",
       "  <tbody>\n",
       "    <tr>\n",
       "      <th>0</th>\n",
       "      <td>83988</td>\n",
       "      <td>1</td>\n",
       "      <td>(20, 23)</td>\n",
       "      <td>5</td>\n",
       "      <td>1</td>\n",
       "      <td>(1, 2)</td>\n",
       "      <td>5</td>\n",
       "      <td>109</td>\n",
       "      <td>59</td>\n",
       "      <td>184</td>\n",
       "      <td>124.666667</td>\n",
       "    </tr>\n",
       "    <tr>\n",
       "      <th>1</th>\n",
       "      <td>84587</td>\n",
       "      <td>2</td>\n",
       "      <td>(20, 23)</td>\n",
       "      <td>5</td>\n",
       "      <td>1</td>\n",
       "      <td>(1, 2)</td>\n",
       "      <td>2</td>\n",
       "      <td>68</td>\n",
       "      <td>43</td>\n",
       "      <td>118</td>\n",
       "      <td>138.666667</td>\n",
       "    </tr>\n",
       "    <tr>\n",
       "      <th>2</th>\n",
       "      <td>84748</td>\n",
       "      <td>1</td>\n",
       "      <td>(20, 23)</td>\n",
       "      <td>6</td>\n",
       "      <td>1</td>\n",
       "      <td>(1, 2)</td>\n",
       "      <td>3</td>\n",
       "      <td>96</td>\n",
       "      <td>38</td>\n",
       "      <td>160</td>\n",
       "      <td>102.666667</td>\n",
       "    </tr>\n",
       "    <tr>\n",
       "      <th>3</th>\n",
       "      <td>84964</td>\n",
       "      <td>2</td>\n",
       "      <td>(20, 23)</td>\n",
       "      <td>1</td>\n",
       "      <td>2</td>\n",
       "      <td>(1, 2)</td>\n",
       "      <td>1</td>\n",
       "      <td>67</td>\n",
       "      <td>61</td>\n",
       "      <td>143</td>\n",
       "      <td>116.0</td>\n",
       "    </tr>\n",
       "    <tr>\n",
       "      <th>4</th>\n",
       "      <td>85042</td>\n",
       "      <td>1</td>\n",
       "      <td>(20, 23)</td>\n",
       "      <td>6</td>\n",
       "      <td>2</td>\n",
       "      <td>(1, 2)</td>\n",
       "      <td>10</td>\n",
       "      <td>98</td>\n",
       "      <td>61</td>\n",
       "      <td>181</td>\n",
       "      <td>141.333333</td>\n",
       "    </tr>\n",
       "    <tr>\n",
       "      <th>...</th>\n",
       "      <td>...</td>\n",
       "      <td>...</td>\n",
       "      <td>...</td>\n",
       "      <td>...</td>\n",
       "      <td>...</td>\n",
       "      <td>...</td>\n",
       "      <td>...</td>\n",
       "      <td>...</td>\n",
       "      <td>...</td>\n",
       "      <td>...</td>\n",
       "      <td>...</td>\n",
       "    </tr>\n",
       "    <tr>\n",
       "      <th>1296</th>\n",
       "      <td>91292</td>\n",
       "      <td>1</td>\n",
       "      <td>(38, 80)</td>\n",
       "      <td>5</td>\n",
       "      <td>1</td>\n",
       "      <td>(7, 7)</td>\n",
       "      <td>2</td>\n",
       "      <td>74</td>\n",
       "      <td>54</td>\n",
       "      <td>140</td>\n",
       "      <td>126.0</td>\n",
       "    </tr>\n",
       "    <tr>\n",
       "      <th>1297</th>\n",
       "      <td>92486</td>\n",
       "      <td>1</td>\n",
       "      <td>(38, 80)</td>\n",
       "      <td>1</td>\n",
       "      <td>1</td>\n",
       "      <td>(7, 7)</td>\n",
       "      <td>2</td>\n",
       "      <td>194</td>\n",
       "      <td>33</td>\n",
       "      <td>281</td>\n",
       "      <td>124.666667</td>\n",
       "    </tr>\n",
       "    <tr>\n",
       "      <th>1298</th>\n",
       "      <td>92494</td>\n",
       "      <td>2</td>\n",
       "      <td>(38, 80)</td>\n",
       "      <td>1</td>\n",
       "      <td>1</td>\n",
       "      <td>(7, 7)</td>\n",
       "      <td>1</td>\n",
       "      <td>149</td>\n",
       "      <td>47</td>\n",
       "      <td>228</td>\n",
       "      <td>128.0</td>\n",
       "    </tr>\n",
       "    <tr>\n",
       "      <th>1299</th>\n",
       "      <td>92625</td>\n",
       "      <td>2</td>\n",
       "      <td>(38, 80)</td>\n",
       "      <td>1</td>\n",
       "      <td>1</td>\n",
       "      <td>(7, 7)</td>\n",
       "      <td>1</td>\n",
       "      <td>142</td>\n",
       "      <td>36</td>\n",
       "      <td>201</td>\n",
       "      <td>116.666667</td>\n",
       "    </tr>\n",
       "    <tr>\n",
       "      <th>1300</th>\n",
       "      <td>93268</td>\n",
       "      <td>2</td>\n",
       "      <td>(38, 80)</td>\n",
       "      <td>3</td>\n",
       "      <td>1</td>\n",
       "      <td>(7, 7)</td>\n",
       "      <td>3</td>\n",
       "      <td>189</td>\n",
       "      <td>48</td>\n",
       "      <td>272</td>\n",
       "      <td>102.0</td>\n",
       "    </tr>\n",
       "  </tbody>\n",
       "</table>\n",
       "<p>1301 rows × 11 columns</p>\n",
       "</div>"
      ],
      "text/plain": [
       "     Subject_ID Gender       Age Marital_Status Country_Birth    Race  \\\n",
       "0         83988      1  (20, 23)              5             1  (1, 2)   \n",
       "1         84587      2  (20, 23)              5             1  (1, 2)   \n",
       "2         84748      1  (20, 23)              6             1  (1, 2)   \n",
       "3         84964      2  (20, 23)              1             2  (1, 2)   \n",
       "4         85042      1  (20, 23)              6             2  (1, 2)   \n",
       "...         ...    ...       ...            ...           ...     ...   \n",
       "1296      91292      1  (38, 80)              5             1  (7, 7)   \n",
       "1297      92486      1  (38, 80)              1             1  (7, 7)   \n",
       "1298      92494      2  (38, 80)              1             1  (7, 7)   \n",
       "1299      92625      2  (38, 80)              1             1  (7, 7)   \n",
       "1300      93268      2  (38, 80)              3             1  (7, 7)   \n",
       "\n",
       "     Alcohol_Average LDL_Cholesterol HDL_Cholesterol Total_Cholesterol  \\\n",
       "0                  5             109              59               184   \n",
       "1                  2              68              43               118   \n",
       "2                  3              96              38               160   \n",
       "3                  1              67              61               143   \n",
       "4                 10              98              61               181   \n",
       "...              ...             ...             ...               ...   \n",
       "1296               2              74              54               140   \n",
       "1297               2             194              33               281   \n",
       "1298               1             149              47               228   \n",
       "1299               1             142              36               201   \n",
       "1300               3             189              48               272   \n",
       "\n",
       "     Sys_Blood_Pressure  \n",
       "0            124.666667  \n",
       "1            138.666667  \n",
       "2            102.666667  \n",
       "3                 116.0  \n",
       "4            141.333333  \n",
       "...                 ...  \n",
       "1296              126.0  \n",
       "1297         124.666667  \n",
       "1298              128.0  \n",
       "1299         116.666667  \n",
       "1300              102.0  \n",
       "\n",
       "[1301 rows x 11 columns]"
      ]
     },
     "metadata": {},
     "output_type": "display_data"
    },
    {
     "data": {
      "text/markdown": [
       "The actual $k$ in the resulting generalization was $21$ (reference: requested $k$ was $20$)."
      ],
      "text/plain": [
       "<IPython.core.display.Markdown object>"
      ]
     },
     "metadata": {},
     "output_type": "display_data"
    },
    {
     "data": {
      "text/markdown": [
       "<br><br>"
      ],
      "text/plain": [
       "<IPython.core.display.Markdown object>"
      ]
     },
     "metadata": {},
     "output_type": "display_data"
    },
    {
     "data": {
      "text/markdown": [
       "The results of the run for qID=['Race', 'Age'] with $k=40$ are:"
      ],
      "text/plain": [
       "<IPython.core.display.Markdown object>"
      ]
     },
     "metadata": {},
     "output_type": "display_data"
    },
    {
     "data": {
      "image/png": "[encoded data removed]",
      "text/plain": [
       "<Figure size 1200x1200 with 1 Axes>"
      ]
     },
     "metadata": {},
     "output_type": "display_data"
    },
    {
     "data": {
      "text/markdown": [
       "The generalized table is:"
      ],
      "text/plain": [
       "<IPython.core.display.Markdown object>"
      ]
     },
     "metadata": {},
     "output_type": "display_data"
    },
    {
     "data": {
      "text/html": [
       "<div>\n",
       "<style scoped>\n",
       "    .dataframe tbody tr th:only-of-type {\n",
       "        vertical-align: middle;\n",
       "    }\n",
       "\n",
       "    .dataframe tbody tr th {\n",
       "        vertical-align: top;\n",
       "    }\n",
       "\n",
       "    .dataframe thead th {\n",
       "        text-align: right;\n",
       "    }\n",
       "</style>\n",
       "<table border=\"1\" class=\"dataframe\">\n",
       "  <thead>\n",
       "    <tr style=\"text-align: right;\">\n",
       "      <th></th>\n",
       "      <th>Subject_ID</th>\n",
       "      <th>Gender</th>\n",
       "      <th>Age</th>\n",
       "      <th>Marital_Status</th>\n",
       "      <th>Country_Birth</th>\n",
       "      <th>Race</th>\n",
       "      <th>Alcohol_Average</th>\n",
       "      <th>LDL_Cholesterol</th>\n",
       "      <th>HDL_Cholesterol</th>\n",
       "      <th>Total_Cholesterol</th>\n",
       "      <th>Sys_Blood_Pressure</th>\n",
       "    </tr>\n",
       "  </thead>\n",
       "  <tbody>\n",
       "    <tr>\n",
       "      <th>0</th>\n",
       "      <td>84626</td>\n",
       "      <td>1</td>\n",
       "      <td>(42, 45)</td>\n",
       "      <td>3</td>\n",
       "      <td>2</td>\n",
       "      <td>(1, 3)</td>\n",
       "      <td>4</td>\n",
       "      <td>119</td>\n",
       "      <td>35</td>\n",
       "      <td>186</td>\n",
       "      <td>118.666667</td>\n",
       "    </tr>\n",
       "    <tr>\n",
       "      <th>1</th>\n",
       "      <td>84927</td>\n",
       "      <td>2</td>\n",
       "      <td>(42, 45)</td>\n",
       "      <td>1</td>\n",
       "      <td>1</td>\n",
       "      <td>(1, 3)</td>\n",
       "      <td>1</td>\n",
       "      <td>85</td>\n",
       "      <td>40</td>\n",
       "      <td>145</td>\n",
       "      <td>124.0</td>\n",
       "    </tr>\n",
       "    <tr>\n",
       "      <th>2</th>\n",
       "      <td>85209</td>\n",
       "      <td>2</td>\n",
       "      <td>(42, 45)</td>\n",
       "      <td>3</td>\n",
       "      <td>2</td>\n",
       "      <td>(1, 3)</td>\n",
       "      <td>3</td>\n",
       "      <td>114</td>\n",
       "      <td>64</td>\n",
       "      <td>202</td>\n",
       "      <td>102.666667</td>\n",
       "    </tr>\n",
       "    <tr>\n",
       "      <th>3</th>\n",
       "      <td>85453</td>\n",
       "      <td>2</td>\n",
       "      <td>(42, 45)</td>\n",
       "      <td>1</td>\n",
       "      <td>1</td>\n",
       "      <td>(1, 3)</td>\n",
       "      <td>2</td>\n",
       "      <td>113</td>\n",
       "      <td>42</td>\n",
       "      <td>182</td>\n",
       "      <td>121.333333</td>\n",
       "    </tr>\n",
       "    <tr>\n",
       "      <th>4</th>\n",
       "      <td>85566</td>\n",
       "      <td>2</td>\n",
       "      <td>(42, 45)</td>\n",
       "      <td>6</td>\n",
       "      <td>1</td>\n",
       "      <td>(1, 3)</td>\n",
       "      <td>1</td>\n",
       "      <td>167</td>\n",
       "      <td>65</td>\n",
       "      <td>253</td>\n",
       "      <td>110.666667</td>\n",
       "    </tr>\n",
       "    <tr>\n",
       "      <th>...</th>\n",
       "      <td>...</td>\n",
       "      <td>...</td>\n",
       "      <td>...</td>\n",
       "      <td>...</td>\n",
       "      <td>...</td>\n",
       "      <td>...</td>\n",
       "      <td>...</td>\n",
       "      <td>...</td>\n",
       "      <td>...</td>\n",
       "      <td>...</td>\n",
       "      <td>...</td>\n",
       "    </tr>\n",
       "    <tr>\n",
       "      <th>1296</th>\n",
       "      <td>93109</td>\n",
       "      <td>1</td>\n",
       "      <td>(64, 80)</td>\n",
       "      <td>5</td>\n",
       "      <td>1</td>\n",
       "      <td>(4, 7)</td>\n",
       "      <td>1</td>\n",
       "      <td>86</td>\n",
       "      <td>104</td>\n",
       "      <td>200</td>\n",
       "      <td>168.666667</td>\n",
       "    </tr>\n",
       "    <tr>\n",
       "      <th>1297</th>\n",
       "      <td>93268</td>\n",
       "      <td>2</td>\n",
       "      <td>(64, 80)</td>\n",
       "      <td>3</td>\n",
       "      <td>1</td>\n",
       "      <td>(4, 7)</td>\n",
       "      <td>3</td>\n",
       "      <td>189</td>\n",
       "      <td>48</td>\n",
       "      <td>272</td>\n",
       "      <td>102.0</td>\n",
       "    </tr>\n",
       "    <tr>\n",
       "      <th>1298</th>\n",
       "      <td>93326</td>\n",
       "      <td>1</td>\n",
       "      <td>(64, 80)</td>\n",
       "      <td>1</td>\n",
       "      <td>1</td>\n",
       "      <td>(4, 7)</td>\n",
       "      <td>3</td>\n",
       "      <td>51</td>\n",
       "      <td>39</td>\n",
       "      <td>118</td>\n",
       "      <td>128.666667</td>\n",
       "    </tr>\n",
       "    <tr>\n",
       "      <th>1299</th>\n",
       "      <td>93337</td>\n",
       "      <td>1</td>\n",
       "      <td>(64, 80)</td>\n",
       "      <td>3</td>\n",
       "      <td>1</td>\n",
       "      <td>(4, 7)</td>\n",
       "      <td>4</td>\n",
       "      <td>110</td>\n",
       "      <td>38</td>\n",
       "      <td>183</td>\n",
       "      <td>189.333333</td>\n",
       "    </tr>\n",
       "    <tr>\n",
       "      <th>1300</th>\n",
       "      <td>93643</td>\n",
       "      <td>2</td>\n",
       "      <td>(64, 80)</td>\n",
       "      <td>1</td>\n",
       "      <td>1</td>\n",
       "      <td>(4, 7)</td>\n",
       "      <td>2</td>\n",
       "      <td>166</td>\n",
       "      <td>63</td>\n",
       "      <td>245</td>\n",
       "      <td>178.0</td>\n",
       "    </tr>\n",
       "  </tbody>\n",
       "</table>\n",
       "<p>1301 rows × 11 columns</p>\n",
       "</div>"
      ],
      "text/plain": [
       "     Subject_ID Gender       Age Marital_Status Country_Birth    Race  \\\n",
       "0         84626      1  (42, 45)              3             2  (1, 3)   \n",
       "1         84927      2  (42, 45)              1             1  (1, 3)   \n",
       "2         85209      2  (42, 45)              3             2  (1, 3)   \n",
       "3         85453      2  (42, 45)              1             1  (1, 3)   \n",
       "4         85566      2  (42, 45)              6             1  (1, 3)   \n",
       "...         ...    ...       ...            ...           ...     ...   \n",
       "1296      93109      1  (64, 80)              5             1  (4, 7)   \n",
       "1297      93268      2  (64, 80)              3             1  (4, 7)   \n",
       "1298      93326      1  (64, 80)              1             1  (4, 7)   \n",
       "1299      93337      1  (64, 80)              3             1  (4, 7)   \n",
       "1300      93643      2  (64, 80)              1             1  (4, 7)   \n",
       "\n",
       "     Alcohol_Average LDL_Cholesterol HDL_Cholesterol Total_Cholesterol  \\\n",
       "0                  4             119              35               186   \n",
       "1                  1              85              40               145   \n",
       "2                  3             114              64               202   \n",
       "3                  2             113              42               182   \n",
       "4                  1             167              65               253   \n",
       "...              ...             ...             ...               ...   \n",
       "1296               1              86             104               200   \n",
       "1297               3             189              48               272   \n",
       "1298               3              51              39               118   \n",
       "1299               4             110              38               183   \n",
       "1300               2             166              63               245   \n",
       "\n",
       "     Sys_Blood_Pressure  \n",
       "0            118.666667  \n",
       "1                 124.0  \n",
       "2            102.666667  \n",
       "3            121.333333  \n",
       "4            110.666667  \n",
       "...                 ...  \n",
       "1296         168.666667  \n",
       "1297              102.0  \n",
       "1298         128.666667  \n",
       "1299         189.333333  \n",
       "1300              178.0  \n",
       "\n",
       "[1301 rows x 11 columns]"
      ]
     },
     "metadata": {},
     "output_type": "display_data"
    },
    {
     "data": {
      "text/markdown": [
       "The actual $k$ in the resulting generalization was $41$ (reference: requested $k$ was $40$)."
      ],
      "text/plain": [
       "<IPython.core.display.Markdown object>"
      ]
     },
     "metadata": {},
     "output_type": "display_data"
    },
    {
     "data": {
      "text/markdown": [
       "<br><br>"
      ],
      "text/plain": [
       "<IPython.core.display.Markdown object>"
      ]
     },
     "metadata": {},
     "output_type": "display_data"
    },
    {
     "data": {
      "text/markdown": [
       "The results of the run for qID=['Race', 'Age'] with $k=80$ are:"
      ],
      "text/plain": [
       "<IPython.core.display.Markdown object>"
      ]
     },
     "metadata": {},
     "output_type": "display_data"
    },
    {
     "data": {
      "image/png": "[encoded data removed]",
      "text/plain": [
       "<Figure size 1200x1200 with 1 Axes>"
      ]
     },
     "metadata": {},
     "output_type": "display_data"
    },
    {
     "data": {
      "text/markdown": [
       "The generalized table is:"
      ],
      "text/plain": [
       "<IPython.core.display.Markdown object>"
      ]
     },
     "metadata": {},
     "output_type": "display_data"
    },
    {
     "data": {
      "text/html": [
       "<div>\n",
       "<style scoped>\n",
       "    .dataframe tbody tr th:only-of-type {\n",
       "        vertical-align: middle;\n",
       "    }\n",
       "\n",
       "    .dataframe tbody tr th {\n",
       "        vertical-align: top;\n",
       "    }\n",
       "\n",
       "    .dataframe thead th {\n",
       "        text-align: right;\n",
       "    }\n",
       "</style>\n",
       "<table border=\"1\" class=\"dataframe\">\n",
       "  <thead>\n",
       "    <tr style=\"text-align: right;\">\n",
       "      <th></th>\n",
       "      <th>Subject_ID</th>\n",
       "      <th>Gender</th>\n",
       "      <th>Age</th>\n",
       "      <th>Marital_Status</th>\n",
       "      <th>Country_Birth</th>\n",
       "      <th>Race</th>\n",
       "      <th>Alcohol_Average</th>\n",
       "      <th>LDL_Cholesterol</th>\n",
       "      <th>HDL_Cholesterol</th>\n",
       "      <th>Total_Cholesterol</th>\n",
       "      <th>Sys_Blood_Pressure</th>\n",
       "    </tr>\n",
       "  </thead>\n",
       "  <tbody>\n",
       "    <tr>\n",
       "      <th>0</th>\n",
       "      <td>83828</td>\n",
       "      <td>2</td>\n",
       "      <td>(35, 41)</td>\n",
       "      <td>1</td>\n",
       "      <td>2</td>\n",
       "      <td>(1, 3)</td>\n",
       "      <td>2</td>\n",
       "      <td>114</td>\n",
       "      <td>55</td>\n",
       "      <td>189</td>\n",
       "      <td>102.0</td>\n",
       "    </tr>\n",
       "    <tr>\n",
       "      <th>1</th>\n",
       "      <td>83851</td>\n",
       "      <td>2</td>\n",
       "      <td>(35, 41)</td>\n",
       "      <td>1</td>\n",
       "      <td>1</td>\n",
       "      <td>(1, 3)</td>\n",
       "      <td>1</td>\n",
       "      <td>145</td>\n",
       "      <td>39</td>\n",
       "      <td>197</td>\n",
       "      <td>123.333333</td>\n",
       "    </tr>\n",
       "    <tr>\n",
       "      <th>2</th>\n",
       "      <td>83863</td>\n",
       "      <td>1</td>\n",
       "      <td>(35, 41)</td>\n",
       "      <td>1</td>\n",
       "      <td>2</td>\n",
       "      <td>(1, 3)</td>\n",
       "      <td>3</td>\n",
       "      <td>151</td>\n",
       "      <td>33</td>\n",
       "      <td>213</td>\n",
       "      <td>112.666667</td>\n",
       "    </tr>\n",
       "    <tr>\n",
       "      <th>3</th>\n",
       "      <td>84039</td>\n",
       "      <td>1</td>\n",
       "      <td>(35, 41)</td>\n",
       "      <td>1</td>\n",
       "      <td>1</td>\n",
       "      <td>(1, 3)</td>\n",
       "      <td>4</td>\n",
       "      <td>134</td>\n",
       "      <td>39</td>\n",
       "      <td>204</td>\n",
       "      <td>102.666667</td>\n",
       "    </tr>\n",
       "    <tr>\n",
       "      <th>4</th>\n",
       "      <td>84070</td>\n",
       "      <td>1</td>\n",
       "      <td>(35, 41)</td>\n",
       "      <td>5</td>\n",
       "      <td>1</td>\n",
       "      <td>(1, 3)</td>\n",
       "      <td>3</td>\n",
       "      <td>128</td>\n",
       "      <td>74</td>\n",
       "      <td>213</td>\n",
       "      <td>136.0</td>\n",
       "    </tr>\n",
       "    <tr>\n",
       "      <th>...</th>\n",
       "      <td>...</td>\n",
       "      <td>...</td>\n",
       "      <td>...</td>\n",
       "      <td>...</td>\n",
       "      <td>...</td>\n",
       "      <td>...</td>\n",
       "      <td>...</td>\n",
       "      <td>...</td>\n",
       "      <td>...</td>\n",
       "      <td>...</td>\n",
       "      <td>...</td>\n",
       "    </tr>\n",
       "    <tr>\n",
       "      <th>1296</th>\n",
       "      <td>93337</td>\n",
       "      <td>1</td>\n",
       "      <td>(49, 80)</td>\n",
       "      <td>3</td>\n",
       "      <td>1</td>\n",
       "      <td>(4, 7)</td>\n",
       "      <td>4</td>\n",
       "      <td>110</td>\n",
       "      <td>38</td>\n",
       "      <td>183</td>\n",
       "      <td>189.333333</td>\n",
       "    </tr>\n",
       "    <tr>\n",
       "      <th>1297</th>\n",
       "      <td>93374</td>\n",
       "      <td>2</td>\n",
       "      <td>(49, 80)</td>\n",
       "      <td>1</td>\n",
       "      <td>2</td>\n",
       "      <td>(4, 7)</td>\n",
       "      <td>1</td>\n",
       "      <td>142</td>\n",
       "      <td>81</td>\n",
       "      <td>235</td>\n",
       "      <td>118.0</td>\n",
       "    </tr>\n",
       "    <tr>\n",
       "      <th>1298</th>\n",
       "      <td>93386</td>\n",
       "      <td>2</td>\n",
       "      <td>(49, 80)</td>\n",
       "      <td>3</td>\n",
       "      <td>1</td>\n",
       "      <td>(4, 7)</td>\n",
       "      <td>2</td>\n",
       "      <td>108</td>\n",
       "      <td>63</td>\n",
       "      <td>178</td>\n",
       "      <td>136.0</td>\n",
       "    </tr>\n",
       "    <tr>\n",
       "      <th>1299</th>\n",
       "      <td>93503</td>\n",
       "      <td>2</td>\n",
       "      <td>(49, 80)</td>\n",
       "      <td>3</td>\n",
       "      <td>1</td>\n",
       "      <td>(4, 7)</td>\n",
       "      <td>1</td>\n",
       "      <td>99</td>\n",
       "      <td>70</td>\n",
       "      <td>182</td>\n",
       "      <td>138.0</td>\n",
       "    </tr>\n",
       "    <tr>\n",
       "      <th>1300</th>\n",
       "      <td>93643</td>\n",
       "      <td>2</td>\n",
       "      <td>(49, 80)</td>\n",
       "      <td>1</td>\n",
       "      <td>1</td>\n",
       "      <td>(4, 7)</td>\n",
       "      <td>2</td>\n",
       "      <td>166</td>\n",
       "      <td>63</td>\n",
       "      <td>245</td>\n",
       "      <td>178.0</td>\n",
       "    </tr>\n",
       "  </tbody>\n",
       "</table>\n",
       "<p>1301 rows × 11 columns</p>\n",
       "</div>"
      ],
      "text/plain": [
       "     Subject_ID Gender       Age Marital_Status Country_Birth    Race  \\\n",
       "0         83828      2  (35, 41)              1             2  (1, 3)   \n",
       "1         83851      2  (35, 41)              1             1  (1, 3)   \n",
       "2         83863      1  (35, 41)              1             2  (1, 3)   \n",
       "3         84039      1  (35, 41)              1             1  (1, 3)   \n",
       "4         84070      1  (35, 41)              5             1  (1, 3)   \n",
       "...         ...    ...       ...            ...           ...     ...   \n",
       "1296      93337      1  (49, 80)              3             1  (4, 7)   \n",
       "1297      93374      2  (49, 80)              1             2  (4, 7)   \n",
       "1298      93386      2  (49, 80)              3             1  (4, 7)   \n",
       "1299      93503      2  (49, 80)              3             1  (4, 7)   \n",
       "1300      93643      2  (49, 80)              1             1  (4, 7)   \n",
       "\n",
       "     Alcohol_Average LDL_Cholesterol HDL_Cholesterol Total_Cholesterol  \\\n",
       "0                  2             114              55               189   \n",
       "1                  1             145              39               197   \n",
       "2                  3             151              33               213   \n",
       "3                  4             134              39               204   \n",
       "4                  3             128              74               213   \n",
       "...              ...             ...             ...               ...   \n",
       "1296               4             110              38               183   \n",
       "1297               1             142              81               235   \n",
       "1298               2             108              63               178   \n",
       "1299               1              99              70               182   \n",
       "1300               2             166              63               245   \n",
       "\n",
       "     Sys_Blood_Pressure  \n",
       "0                 102.0  \n",
       "1            123.333333  \n",
       "2            112.666667  \n",
       "3            102.666667  \n",
       "4                 136.0  \n",
       "...                 ...  \n",
       "1296         189.333333  \n",
       "1297              118.0  \n",
       "1298              136.0  \n",
       "1299              138.0  \n",
       "1300              178.0  \n",
       "\n",
       "[1301 rows x 11 columns]"
      ]
     },
     "metadata": {},
     "output_type": "display_data"
    },
    {
     "data": {
      "text/markdown": [
       "The actual $k$ in the resulting generalization was $83$ (reference: requested $k$ was $80$)."
      ],
      "text/plain": [
       "<IPython.core.display.Markdown object>"
      ]
     },
     "metadata": {},
     "output_type": "display_data"
    },
    {
     "data": {
      "text/markdown": [
       "<br><br>"
      ],
      "text/plain": [
       "<IPython.core.display.Markdown object>"
      ]
     },
     "metadata": {},
     "output_type": "display_data"
    },
    {
     "data": {
      "text/markdown": [
       "The results of the run for qID=['Race', 'Marital_Status'] with $k=20$ are:"
      ],
      "text/plain": [
       "<IPython.core.display.Markdown object>"
      ]
     },
     "metadata": {},
     "output_type": "display_data"
    },
    {
     "data": {
      "image/png": "[encoded data removed]",
      "text/plain": [
       "<Figure size 1200x1200 with 1 Axes>"
      ]
     },
     "metadata": {},
     "output_type": "display_data"
    },
    {
     "data": {
      "text/markdown": [
       "The generalized table is:"
      ],
      "text/plain": [
       "<IPython.core.display.Markdown object>"
      ]
     },
     "metadata": {},
     "output_type": "display_data"
    },
    {
     "data": {
      "text/html": [
       "<div>\n",
       "<style scoped>\n",
       "    .dataframe tbody tr th:only-of-type {\n",
       "        vertical-align: middle;\n",
       "    }\n",
       "\n",
       "    .dataframe tbody tr th {\n",
       "        vertical-align: top;\n",
       "    }\n",
       "\n",
       "    .dataframe thead th {\n",
       "        text-align: right;\n",
       "    }\n",
       "</style>\n",
       "<table border=\"1\" class=\"dataframe\">\n",
       "  <thead>\n",
       "    <tr style=\"text-align: right;\">\n",
       "      <th></th>\n",
       "      <th>Subject_ID</th>\n",
       "      <th>Gender</th>\n",
       "      <th>Age</th>\n",
       "      <th>Marital_Status</th>\n",
       "      <th>Country_Birth</th>\n",
       "      <th>Race</th>\n",
       "      <th>Alcohol_Average</th>\n",
       "      <th>LDL_Cholesterol</th>\n",
       "      <th>HDL_Cholesterol</th>\n",
       "      <th>Total_Cholesterol</th>\n",
       "      <th>Sys_Blood_Pressure</th>\n",
       "    </tr>\n",
       "  </thead>\n",
       "  <tbody>\n",
       "    <tr>\n",
       "      <th>0</th>\n",
       "      <td>83754</td>\n",
       "      <td>2</td>\n",
       "      <td>67</td>\n",
       "      <td>(1, 1)</td>\n",
       "      <td>1</td>\n",
       "      <td>(1, 3)</td>\n",
       "      <td>1</td>\n",
       "      <td>88</td>\n",
       "      <td>50</td>\n",
       "      <td>169</td>\n",
       "      <td>118.666667</td>\n",
       "    </tr>\n",
       "    <tr>\n",
       "      <th>1</th>\n",
       "      <td>83801</td>\n",
       "      <td>2</td>\n",
       "      <td>80</td>\n",
       "      <td>(1, 1)</td>\n",
       "      <td>1</td>\n",
       "      <td>(1, 3)</td>\n",
       "      <td>1</td>\n",
       "      <td>63</td>\n",
       "      <td>51</td>\n",
       "      <td>126</td>\n",
       "      <td>138.666667</td>\n",
       "    </tr>\n",
       "    <tr>\n",
       "      <th>2</th>\n",
       "      <td>83828</td>\n",
       "      <td>2</td>\n",
       "      <td>39</td>\n",
       "      <td>(1, 1)</td>\n",
       "      <td>2</td>\n",
       "      <td>(1, 3)</td>\n",
       "      <td>2</td>\n",
       "      <td>114</td>\n",
       "      <td>55</td>\n",
       "      <td>189</td>\n",
       "      <td>102.0</td>\n",
       "    </tr>\n",
       "    <tr>\n",
       "      <th>3</th>\n",
       "      <td>83851</td>\n",
       "      <td>2</td>\n",
       "      <td>37</td>\n",
       "      <td>(1, 1)</td>\n",
       "      <td>1</td>\n",
       "      <td>(1, 3)</td>\n",
       "      <td>1</td>\n",
       "      <td>145</td>\n",
       "      <td>39</td>\n",
       "      <td>197</td>\n",
       "      <td>123.333333</td>\n",
       "    </tr>\n",
       "    <tr>\n",
       "      <th>4</th>\n",
       "      <td>83854</td>\n",
       "      <td>2</td>\n",
       "      <td>46</td>\n",
       "      <td>(1, 1)</td>\n",
       "      <td>1</td>\n",
       "      <td>(1, 3)</td>\n",
       "      <td>1</td>\n",
       "      <td>120</td>\n",
       "      <td>48</td>\n",
       "      <td>185</td>\n",
       "      <td>123.333333</td>\n",
       "    </tr>\n",
       "    <tr>\n",
       "      <th>...</th>\n",
       "      <td>...</td>\n",
       "      <td>...</td>\n",
       "      <td>...</td>\n",
       "      <td>...</td>\n",
       "      <td>...</td>\n",
       "      <td>...</td>\n",
       "      <td>...</td>\n",
       "      <td>...</td>\n",
       "      <td>...</td>\n",
       "      <td>...</td>\n",
       "      <td>...</td>\n",
       "    </tr>\n",
       "    <tr>\n",
       "      <th>1296</th>\n",
       "      <td>91292</td>\n",
       "      <td>1</td>\n",
       "      <td>48</td>\n",
       "      <td>(2, 5)</td>\n",
       "      <td>1</td>\n",
       "      <td>(7, 7)</td>\n",
       "      <td>2</td>\n",
       "      <td>74</td>\n",
       "      <td>54</td>\n",
       "      <td>140</td>\n",
       "      <td>126.0</td>\n",
       "    </tr>\n",
       "    <tr>\n",
       "      <th>1297</th>\n",
       "      <td>91742</td>\n",
       "      <td>1</td>\n",
       "      <td>23</td>\n",
       "      <td>(2, 5)</td>\n",
       "      <td>1</td>\n",
       "      <td>(7, 7)</td>\n",
       "      <td>2</td>\n",
       "      <td>105</td>\n",
       "      <td>71</td>\n",
       "      <td>189</td>\n",
       "      <td>102.0</td>\n",
       "    </tr>\n",
       "    <tr>\n",
       "      <th>1298</th>\n",
       "      <td>91807</td>\n",
       "      <td>2</td>\n",
       "      <td>25</td>\n",
       "      <td>(2, 5)</td>\n",
       "      <td>1</td>\n",
       "      <td>(7, 7)</td>\n",
       "      <td>2</td>\n",
       "      <td>105</td>\n",
       "      <td>38</td>\n",
       "      <td>208</td>\n",
       "      <td>106.666667</td>\n",
       "    </tr>\n",
       "    <tr>\n",
       "      <th>1299</th>\n",
       "      <td>92044</td>\n",
       "      <td>1</td>\n",
       "      <td>21</td>\n",
       "      <td>(2, 5)</td>\n",
       "      <td>1</td>\n",
       "      <td>(7, 7)</td>\n",
       "      <td>2</td>\n",
       "      <td>82</td>\n",
       "      <td>44</td>\n",
       "      <td>135</td>\n",
       "      <td>108.0</td>\n",
       "    </tr>\n",
       "    <tr>\n",
       "      <th>1300</th>\n",
       "      <td>93268</td>\n",
       "      <td>2</td>\n",
       "      <td>73</td>\n",
       "      <td>(2, 5)</td>\n",
       "      <td>1</td>\n",
       "      <td>(7, 7)</td>\n",
       "      <td>3</td>\n",
       "      <td>189</td>\n",
       "      <td>48</td>\n",
       "      <td>272</td>\n",
       "      <td>102.0</td>\n",
       "    </tr>\n",
       "  </tbody>\n",
       "</table>\n",
       "<p>1301 rows × 11 columns</p>\n",
       "</div>"
      ],
      "text/plain": [
       "     Subject_ID Gender Age Marital_Status Country_Birth    Race  \\\n",
       "0         83754      2  67         (1, 1)             1  (1, 3)   \n",
       "1         83801      2  80         (1, 1)             1  (1, 3)   \n",
       "2         83828      2  39         (1, 1)             2  (1, 3)   \n",
       "3         83851      2  37         (1, 1)             1  (1, 3)   \n",
       "4         83854      2  46         (1, 1)             1  (1, 3)   \n",
       "...         ...    ...  ..            ...           ...     ...   \n",
       "1296      91292      1  48         (2, 5)             1  (7, 7)   \n",
       "1297      91742      1  23         (2, 5)             1  (7, 7)   \n",
       "1298      91807      2  25         (2, 5)             1  (7, 7)   \n",
       "1299      92044      1  21         (2, 5)             1  (7, 7)   \n",
       "1300      93268      2  73         (2, 5)             1  (7, 7)   \n",
       "\n",
       "     Alcohol_Average LDL_Cholesterol HDL_Cholesterol Total_Cholesterol  \\\n",
       "0                  1              88              50               169   \n",
       "1                  1              63              51               126   \n",
       "2                  2             114              55               189   \n",
       "3                  1             145              39               197   \n",
       "4                  1             120              48               185   \n",
       "...              ...             ...             ...               ...   \n",
       "1296               2              74              54               140   \n",
       "1297               2             105              71               189   \n",
       "1298               2             105              38               208   \n",
       "1299               2              82              44               135   \n",
       "1300               3             189              48               272   \n",
       "\n",
       "     Sys_Blood_Pressure  \n",
       "0            118.666667  \n",
       "1            138.666667  \n",
       "2                 102.0  \n",
       "3            123.333333  \n",
       "4            123.333333  \n",
       "...                 ...  \n",
       "1296              126.0  \n",
       "1297              102.0  \n",
       "1298         106.666667  \n",
       "1299              108.0  \n",
       "1300              102.0  \n",
       "\n",
       "[1301 rows x 11 columns]"
      ]
     },
     "metadata": {},
     "output_type": "display_data"
    },
    {
     "data": {
      "text/markdown": [
       "The actual $k$ in the resulting generalization was $21$ (reference: requested $k$ was $20$)."
      ],
      "text/plain": [
       "<IPython.core.display.Markdown object>"
      ]
     },
     "metadata": {},
     "output_type": "display_data"
    },
    {
     "data": {
      "text/markdown": [
       "<br><br>"
      ],
      "text/plain": [
       "<IPython.core.display.Markdown object>"
      ]
     },
     "metadata": {},
     "output_type": "display_data"
    },
    {
     "data": {
      "text/markdown": [
       "The results of the run for qID=['Gender', 'Marital_Status'] with $k=40$ are:"
      ],
      "text/plain": [
       "<IPython.core.display.Markdown object>"
      ]
     },
     "metadata": {},
     "output_type": "display_data"
    },
    {
     "data": {
      "image/png": "[encoded data removed]",
      "text/plain": [
       "<Figure size 1200x1200 with 1 Axes>"
      ]
     },
     "metadata": {},
     "output_type": "display_data"
    },
    {
     "data": {
      "text/markdown": [
       "The generalized table is:"
      ],
      "text/plain": [
       "<IPython.core.display.Markdown object>"
      ]
     },
     "metadata": {},
     "output_type": "display_data"
    },
    {
     "data": {
      "text/html": [
       "<div>\n",
       "<style scoped>\n",
       "    .dataframe tbody tr th:only-of-type {\n",
       "        vertical-align: middle;\n",
       "    }\n",
       "\n",
       "    .dataframe tbody tr th {\n",
       "        vertical-align: top;\n",
       "    }\n",
       "\n",
       "    .dataframe thead th {\n",
       "        text-align: right;\n",
       "    }\n",
       "</style>\n",
       "<table border=\"1\" class=\"dataframe\">\n",
       "  <thead>\n",
       "    <tr style=\"text-align: right;\">\n",
       "      <th></th>\n",
       "      <th>Subject_ID</th>\n",
       "      <th>Gender</th>\n",
       "      <th>Age</th>\n",
       "      <th>Marital_Status</th>\n",
       "      <th>Country_Birth</th>\n",
       "      <th>Race</th>\n",
       "      <th>Alcohol_Average</th>\n",
       "      <th>LDL_Cholesterol</th>\n",
       "      <th>HDL_Cholesterol</th>\n",
       "      <th>Total_Cholesterol</th>\n",
       "      <th>Sys_Blood_Pressure</th>\n",
       "    </tr>\n",
       "  </thead>\n",
       "  <tbody>\n",
       "    <tr>\n",
       "      <th>0</th>\n",
       "      <td>83860</td>\n",
       "      <td>(1, 1)</td>\n",
       "      <td>41</td>\n",
       "      <td>(1, 1)</td>\n",
       "      <td>1</td>\n",
       "      <td>4</td>\n",
       "      <td>3</td>\n",
       "      <td>125</td>\n",
       "      <td>45</td>\n",
       "      <td>194</td>\n",
       "      <td>125.333333</td>\n",
       "    </tr>\n",
       "    <tr>\n",
       "      <th>1</th>\n",
       "      <td>83863</td>\n",
       "      <td>(1, 1)</td>\n",
       "      <td>35</td>\n",
       "      <td>(1, 1)</td>\n",
       "      <td>2</td>\n",
       "      <td>1</td>\n",
       "      <td>3</td>\n",
       "      <td>151</td>\n",
       "      <td>33</td>\n",
       "      <td>213</td>\n",
       "      <td>112.666667</td>\n",
       "    </tr>\n",
       "    <tr>\n",
       "      <th>2</th>\n",
       "      <td>83886</td>\n",
       "      <td>(1, 1)</td>\n",
       "      <td>74</td>\n",
       "      <td>(1, 1)</td>\n",
       "      <td>1</td>\n",
       "      <td>3</td>\n",
       "      <td>5</td>\n",
       "      <td>79</td>\n",
       "      <td>79</td>\n",
       "      <td>176</td>\n",
       "      <td>142.666667</td>\n",
       "    </tr>\n",
       "    <tr>\n",
       "      <th>3</th>\n",
       "      <td>83894</td>\n",
       "      <td>(1, 1)</td>\n",
       "      <td>60</td>\n",
       "      <td>(1, 1)</td>\n",
       "      <td>1</td>\n",
       "      <td>4</td>\n",
       "      <td>5</td>\n",
       "      <td>95</td>\n",
       "      <td>129</td>\n",
       "      <td>233</td>\n",
       "      <td>173.333333</td>\n",
       "    </tr>\n",
       "    <tr>\n",
       "      <th>4</th>\n",
       "      <td>83908</td>\n",
       "      <td>(1, 1)</td>\n",
       "      <td>51</td>\n",
       "      <td>(1, 1)</td>\n",
       "      <td>2</td>\n",
       "      <td>4</td>\n",
       "      <td>1</td>\n",
       "      <td>80</td>\n",
       "      <td>82</td>\n",
       "      <td>179</td>\n",
       "      <td>111.333333</td>\n",
       "    </tr>\n",
       "    <tr>\n",
       "      <th>...</th>\n",
       "      <td>...</td>\n",
       "      <td>...</td>\n",
       "      <td>...</td>\n",
       "      <td>...</td>\n",
       "      <td>...</td>\n",
       "      <td>...</td>\n",
       "      <td>...</td>\n",
       "      <td>...</td>\n",
       "      <td>...</td>\n",
       "      <td>...</td>\n",
       "      <td>...</td>\n",
       "    </tr>\n",
       "    <tr>\n",
       "      <th>1296</th>\n",
       "      <td>92358</td>\n",
       "      <td>(2, 2)</td>\n",
       "      <td>21</td>\n",
       "      <td>(6, 6)</td>\n",
       "      <td>1</td>\n",
       "      <td>3</td>\n",
       "      <td>1</td>\n",
       "      <td>114</td>\n",
       "      <td>38</td>\n",
       "      <td>173</td>\n",
       "      <td>116.0</td>\n",
       "    </tr>\n",
       "    <tr>\n",
       "      <th>1297</th>\n",
       "      <td>92914</td>\n",
       "      <td>(2, 2)</td>\n",
       "      <td>65</td>\n",
       "      <td>(6, 6)</td>\n",
       "      <td>1</td>\n",
       "      <td>3</td>\n",
       "      <td>1</td>\n",
       "      <td>109</td>\n",
       "      <td>48</td>\n",
       "      <td>175</td>\n",
       "      <td>128.666667</td>\n",
       "    </tr>\n",
       "    <tr>\n",
       "      <th>1298</th>\n",
       "      <td>93002</td>\n",
       "      <td>(2, 2)</td>\n",
       "      <td>30</td>\n",
       "      <td>(6, 6)</td>\n",
       "      <td>1</td>\n",
       "      <td>3</td>\n",
       "      <td>2</td>\n",
       "      <td>77</td>\n",
       "      <td>113</td>\n",
       "      <td>198</td>\n",
       "      <td>112.666667</td>\n",
       "    </tr>\n",
       "    <tr>\n",
       "      <th>1299</th>\n",
       "      <td>93206</td>\n",
       "      <td>(2, 2)</td>\n",
       "      <td>44</td>\n",
       "      <td>(6, 6)</td>\n",
       "      <td>2</td>\n",
       "      <td>2</td>\n",
       "      <td>2</td>\n",
       "      <td>121</td>\n",
       "      <td>71</td>\n",
       "      <td>202</td>\n",
       "      <td>127.333333</td>\n",
       "    </tr>\n",
       "    <tr>\n",
       "      <th>1300</th>\n",
       "      <td>93325</td>\n",
       "      <td>(2, 2)</td>\n",
       "      <td>28</td>\n",
       "      <td>(6, 6)</td>\n",
       "      <td>1</td>\n",
       "      <td>3</td>\n",
       "      <td>1</td>\n",
       "      <td>91</td>\n",
       "      <td>58</td>\n",
       "      <td>163</td>\n",
       "      <td>118.666667</td>\n",
       "    </tr>\n",
       "  </tbody>\n",
       "</table>\n",
       "<p>1301 rows × 11 columns</p>\n",
       "</div>"
      ],
      "text/plain": [
       "     Subject_ID  Gender Age Marital_Status Country_Birth Race Alcohol_Average  \\\n",
       "0         83860  (1, 1)  41         (1, 1)             1    4               3   \n",
       "1         83863  (1, 1)  35         (1, 1)             2    1               3   \n",
       "2         83886  (1, 1)  74         (1, 1)             1    3               5   \n",
       "3         83894  (1, 1)  60         (1, 1)             1    4               5   \n",
       "4         83908  (1, 1)  51         (1, 1)             2    4               1   \n",
       "...         ...     ...  ..            ...           ...  ...             ...   \n",
       "1296      92358  (2, 2)  21         (6, 6)             1    3               1   \n",
       "1297      92914  (2, 2)  65         (6, 6)             1    3               1   \n",
       "1298      93002  (2, 2)  30         (6, 6)             1    3               2   \n",
       "1299      93206  (2, 2)  44         (6, 6)             2    2               2   \n",
       "1300      93325  (2, 2)  28         (6, 6)             1    3               1   \n",
       "\n",
       "     LDL_Cholesterol HDL_Cholesterol Total_Cholesterol Sys_Blood_Pressure  \n",
       "0                125              45               194         125.333333  \n",
       "1                151              33               213         112.666667  \n",
       "2                 79              79               176         142.666667  \n",
       "3                 95             129               233         173.333333  \n",
       "4                 80              82               179         111.333333  \n",
       "...              ...             ...               ...                ...  \n",
       "1296             114              38               173              116.0  \n",
       "1297             109              48               175         128.666667  \n",
       "1298              77             113               198         112.666667  \n",
       "1299             121              71               202         127.333333  \n",
       "1300              91              58               163         118.666667  \n",
       "\n",
       "[1301 rows x 11 columns]"
      ]
     },
     "metadata": {},
     "output_type": "display_data"
    },
    {
     "data": {
      "text/markdown": [
       "The actual $k$ in the resulting generalization was $51$ (reference: requested $k$ was $40$)."
      ],
      "text/plain": [
       "<IPython.core.display.Markdown object>"
      ]
     },
     "metadata": {},
     "output_type": "display_data"
    },
    {
     "data": {
      "text/markdown": [
       "<br><br>"
      ],
      "text/plain": [
       "<IPython.core.display.Markdown object>"
      ]
     },
     "metadata": {},
     "output_type": "display_data"
    }
   ],
   "source": [
    "__problem = '1b'\n",
    "\n",
    "try:\n",
    "    to_print = [{'qID': ['Race', 'Age'], 'k': 20, 'tableOut': p1b_tableOut_ra_20, 'boundaries': p1b_boundaries_ra_20, 'actual_k': p1b_actual_k_ra_20}, \\\n",
    "                {'qID': ['Race', 'Age'], 'k': 40, 'tableOut': p1b_tableOut_ra_40, 'boundaries': p1b_boundaries_ra_40, 'actual_k': p1b_actual_k_ra_40}, \\\n",
    "                {'qID': ['Race', 'Age'], 'k': 80, 'tableOut': p1b_tableOut_ra_80, 'boundaries': p1b_boundaries_ra_80, 'actual_k': p1b_actual_k_ra_80}, \\\n",
    "                {'qID': ['Race', 'Marital_Status'], 'k': 20, 'tableOut': p1b_tableOut_rm_20, 'boundaries': p1b_boundaries_rm_20, 'actual_k': p1b_actual_k_rm_20}, \\\n",
    "                {'qID': ['Gender', 'Marital_Status'], 'k': 40, 'tableOut': p1b_tableOut_gm_40, 'boundaries': p1b_boundaries_gm_40, 'actual_k': p1b_actual_k_gm_40}]\n",
    "\n",
    "    for next_to_print in to_print:\n",
    "        next_qID = next_to_print[\"qID\"]\n",
    "        next_k = next_to_print[\"k\"]\n",
    "        next_tableOut = next_to_print[\"tableOut\"]\n",
    "        next_boundaries = next_to_print[\"boundaries\"]\n",
    "        next_actual_k = next_to_print[\"actual_k\"]\n",
    "        print_mk(f'The results of the run for qID={next_qID} with $k={next_k}$ are:')\n",
    "        visualize_Mondrian(Lab3_Data, next_qID, next_boundaries)\n",
    "        print_mk('The generalized table is:')\n",
    "        display(next_tableOut)\n",
    "        print_mk(f'The actual $k$ in the resulting generalization was ${next_actual_k}$ (reference: requested $k$ was ${next_k}$).')\n",
    "        print_mk('<br><br>')\n",
    "\n",
    "except Exception as e:\n",
    "    safe_print_err(e)"
   ]
  },
  {
   "cell_type": "markdown",
   "id": "3dffb2b4-488c-47bd-aadd-b69dc7eb3824",
   "metadata": {},
   "source": [
    "### In this Markdown cell, answer the following question\n",
    "\n",
    "- Are the actual levels of $k$-Anonymity of the table after generalization always **equal** to the desired/requested levels of $k$-Anonymity? Why is that the case?\n",
    "\n",
    "***Place your answer here***"
   ]
  },
  {
   "cell_type": "markdown",
   "id": "f176f125-4c9c-4f90-b836-c68e3cbb9ae6",
   "metadata": {},
   "source": [
    "---\n",
    "\n",
    "## (c) Not Median This Time\n",
    "\n",
    "In this part, we will implement the cut value choice mechanism `Mondrian_choose_cut_first_split`.\n",
    "\n",
    "This mechanism is for `Mondrian` to select the split value for the cut (cf. line 9 in the algorithm), instead of being the median, this time based on the first value in the sorted order of values that permits both cuts to be of size at least $k$. If no such value exists, your function should return `numpy.nan`.\n",
    "\n",
    "For example, if our dimension has the following values `[1, 2, 3, 3, 3, 3, 4, 5, 6, 6, 6, 6, 10, 10, 10]` with $k=5$, the function `Mondrian_choose_cut_first_split` should select $3$ as the cut value because it is the smallest value that will yield at least five values to its left (to be exact, there are values to its left in this example: `[1, 2, 3, 3, 3, 3,]`) and at least five values to its right (to be exact, there are nine values in this example: `[4, 5, 6, 6, 6, 6, 10, 10, 10]`).\n",
    "\n",
    "Complete the implementation of the function `Mondrian_choose_cut_first_split` below."
   ]
  },
  {
   "cell_type": "code",
   "execution_count": null,
   "id": "f0c40a52-c693-4744-86c9-fd5514064089",
   "metadata": {
    "tags": []
   },
   "outputs": [],
   "source": [
    "def Mondrian_choose_cut_first_split(data,k):\n",
    "    \"\"\"\n",
    "    A cut value choice function choosing the smallest value that permits both partitions to be size at least k.\n",
    "    \n",
    "    Parameters\n",
    "    ----------\n",
    "    data : list\n",
    "        A list containing the values of the chosen dimension from the current partition. This is not a DataFrame,\n",
    "        this is a list of the values from the chosen column only. That is, in your implementation you may assume that the format\n",
    "        of this argument is a list of values taken from the column chosen by the dimension choice function.\n",
    "        E.g., [94705, 94708, 94720, 94708, 94705].\n",
    "    k : int\n",
    "        The desired k value.\n",
    "    \n",
    "    Returns\n",
    "    -------\n",
    "    dimension : string\n",
    "        The name of the quasi-identifier (or dimension) for the chosen cut. Otherwise, numpy.nan\n",
    "    \"\"\"\n",
    "    if len(data) < 2 * k:\n",
    "        return numpy.nan\n",
    "    sorted_data = data\n",
    "    sorted_data.sort()    \n",
    "    i = k\n",
    "    # print(sorted_data, k)\n",
    "\n",
    "    # Get the minimum value that results in k items to the left\n",
    "    cut_value = sorted_data[k-1]\n",
    "\n",
    "    # Pass i forward to the first point that's higher\n",
    "    while i < len(data):\n",
    "        if sorted_data[i] != cut_value:\n",
    "            break\n",
    "        i += 1\n",
    "    # If the right side of the cut is under k items, return NaN\n",
    "    if len(sorted_data[i:]) < k:\n",
    "        return numpy.nan\n",
    "\n",
    "    # Otherwise, the cut works\n",
    "    return cut_value"
   ]
  },
  {
   "attachments": {
    "47632028-41ca-460a-8a91-a962288c00e0.png": {
     "image/png": "[encoded data removed]"
    },
    "d97b087f-0e2c-4aa2-8130-e74eeb6d56fc.png": {
     "image/png": "[encoded data removed]"
    }
   },
   "cell_type": "markdown",
   "id": "7ee44945-bb71-4709-9e00-dc4ef7c30803",
   "metadata": {},
   "source": [
    "Once you complete the implementation of `Mondrian_choose_cut_first_split`, use the following code for a sanity check. The only two possible outputs of the following code are listed in the following table. Confirm that the code is generating both of these outputs, and no other output.\n",
    "\n",
    "| Possible Output #1 | Possible Output #2 |\n",
    "| :-: | :-: |\n",
    "| ![image.png](attachment:47632028-41ca-460a-8a91-a962288c00e0.png) | ![image.png](attachment:d97b087f-0e2c-4aa2-8130-e74eeb6d56fc.png) |"
   ]
  },
  {
   "cell_type": "code",
   "execution_count": 85,
   "id": "5f5d556b-cb5c-4757-bdcf-334e0f841452",
   "metadata": {
    "tags": []
   },
   "outputs": [
    {
     "name": "stdout",
     "output_type": "stream",
     "text": [
      "[94702, 94703, 94703, 94704, 94704, 94704, 94705, 94706, 94706, 94706] 4\n",
      "[31, 31, 31, 32, 32, 32, 33, 34, 34, 34] 4\n",
      "[31, 31, 31, 32, 32, 32, 33, 34, 34, 34] 4\n"
     ]
    },
    {
     "data": {
      "image/png": "[encoded data removed]",
      "text/plain": [
       "<Figure size 1200x1200 with 1 Axes>"
      ]
     },
     "metadata": {},
     "output_type": "display_data"
    }
   ],
   "source": [
    "__problem = '1c'\n",
    "\n",
    "try:\n",
    "    qID = ['Zipcode','Age']\n",
    "    desired_k = 4\n",
    "    p1c_tableOut, p1c_boundaries = Mondrian(Lab3_Problem1_demo, qID,desired_k, Mondrian_choose_dim_random, Mondrian_choose_cut_first_split)\n",
    "    visualize_Mondrian(Lab3_Problem1_demo, qID, p1c_boundaries)\n",
    "    \n",
    "except Exception as e:\n",
    "    safe_print_err(e)"
   ]
  },
  {
   "cell_type": "markdown",
   "id": "f401831d-c0ed-4041-8414-0fff9ecefbdb",
   "metadata": {},
   "source": [
    "---\n",
    "\n",
    "## (d) Not Median This Time - Continued\n",
    "\n",
    "In this part, we will compare the behavior of `Mondrian` between using the `Mondrian_choose_cut_first_split` cut value choice mechanism, and the `Mondrian_choose_cut_median` cut value choice mechanism.\n",
    "\n",
    "Concretely, run the function `Mondrian` on `Lab3_Data` twice, and assign the results in the following variables:\n",
    "- `p1d_tableOut_cfs` and `p1d_boundaries_cfs`: For the results of `Mondrian` on `Lab3_Data` with `qID = ['Race', 'Marital_Status']` and $k=60$ using the `Mondrian_choose_cut_first_split` cut value choice mechanism.\n",
    "    - `p1d_actual_k_cfs`: Store the resulting $k$ value of the table after generalization.\n",
    "- `p1d_tableOut_cm` and `p1d_boundaries_cm`: For the results of `Mondrian` on `Lab3_Data` with `qID = ['Race', 'Marital_Status']` and $k=60$ using the `Mondrian_choose_cut_median` cut value choice mechanism.\n",
    "    - `p1d_actual_k_cm`: Store the resulting $k$ value of the table after generalization.\n",
    "\n",
    "In both cases, use the `Mondrian_choose_dim_random` dimension choice mechanism.\n",
    "\n",
    "Complete the following code snippet with your code:"
   ]
  },
  {
   "cell_type": "code",
   "execution_count": 44,
   "id": "fe254e5d-d2ab-418f-91c8-f82e79988e21",
   "metadata": {
    "tags": []
   },
   "outputs": [],
   "source": [
    "qID=['Race','Marital_Status']\n",
    "desired_k=60\n",
    "\n",
    "# Your solution here"
   ]
  },
  {
   "cell_type": "markdown",
   "id": "c831a5d4-6e1c-415b-bc6a-798c70b0dff1",
   "metadata": {},
   "source": [
    "Run the following cell to present the outcomes of your code."
   ]
  },
  {
   "cell_type": "code",
   "execution_count": 45,
   "id": "0c4538f2-b148-4d46-82f0-cd169912b51d",
   "metadata": {
    "tags": []
   },
   "outputs": [
    {
     "data": {
      "text/markdown": [
       "The results of the run using `Mondrian_choose_cut_first_split` with qID=['Race', 'Marital_Status'] and $k=60$ are:"
      ],
      "text/plain": [
       "<IPython.core.display.Markdown object>"
      ]
     },
     "metadata": {},
     "output_type": "display_data"
    },
    {
     "data": {
      "text/markdown": [
       "<div class='alert alert-block alert-danger'><b>Error in problem 1d</b>: 'p1d_boundaries_cfs' is not defined.</div>"
      ],
      "text/plain": [
       "<IPython.core.display.Markdown object>"
      ]
     },
     "metadata": {},
     "output_type": "display_data"
    }
   ],
   "source": [
    "__problem = '1d'\n",
    "\n",
    "try:\n",
    "    qID=['Race','Marital_Status']\n",
    "    desired_k=60\n",
    "\n",
    "    # Case 1\n",
    "    print_mk(f'The results of the run using `Mondrian_choose_cut_first_split` with qID={qID} and $k={desired_k}$ are:')\n",
    "    visualize_Mondrian(Lab3_Data, qID, p1d_boundaries_cfs)\n",
    "    print_mk('The generalized table is:')\n",
    "    display(p1d_tableOut_cfs)\n",
    "    print_mk(f'The actual $k$ in the resulting generalization was ${p1d_actual_k_cfs}$ (reference: requested $k$ was ${desired_k}$).')\n",
    "    print_mk('<br><br>')\n",
    "\n",
    "    # Case 2\n",
    "    print_mk(f'The results of the run using `Mondrian_choose_cut_median` with qID={qID} and $k={desired_k}$ are:')\n",
    "    visualize_Mondrian(Lab3_Data, qID, p1d_boundaries_cm)\n",
    "    print_mk('The generalized table is:')\n",
    "    display(p1d_tableOut_cm)\n",
    "    print_mk(f'The actual $k$ in the resulting generalization was ${p1d_actual_k_cm}$ (reference: requested $k$ was ${desired_k}$).')\n",
    "    print_mk('<br><br>')\n",
    "\n",
    "except Exception as e:\n",
    "    safe_print_err(e)"
   ]
  },
  {
   "cell_type": "markdown",
   "id": "a9177089-9050-4e73-b72d-1b6130a7c915",
   "metadata": {},
   "source": [
    "---\n",
    "\n",
    "## (e) More Than Random\n",
    "\n",
    "In this part, we will implement the dimension choice mechanism `Mondrian_choose_dim_highest_distinct`.\n",
    "\n",
    "This mechanism is for `Mondrian` to select the next dimension for a cut (cf. line 7 in the algorithm), instead of randomly, this time based on the dimension with the highest number of distinct values **out of the dimensions with allowable cuts**. Note that the function should return **the name** of the dimension as a string (i.e., not its index).\n",
    "\n",
    "For example, if we have two dimensions **with allowable cuts**:\n",
    "- `'Q1'` with values `[10, 10, 10, 10, 10, 20, 20, 20, 20, 20]`; and\n",
    "- `'Q2'` with values `[1, 1, 2, 2, 3, 3, 3, 3, 3, 3]`\n",
    "\n",
    "Then `Mondrian_choose_dim_highest_distinct` should select `'Q2'` since it has $3$ distinct values (as opposed to $2$ distinct values for `'Q1'`). In case of a tie between multiple dimensions, your function should output the dimension (out of the tying dimensions) that appears first from the list of dimensions `allowable_dims`.\n",
    "\n",
    "Complete the implementation of the function `Mondrian_choose_dim_highest_distinct` below."
   ]
  },
  {
   "cell_type": "code",
   "execution_count": 46,
   "id": "d7fdf3cd-5eba-45b7-bf08-0695f179279d",
   "metadata": {
    "tags": []
   },
   "outputs": [],
   "source": [
    "def Mondrian_choose_dim_highest_distinct(table_partition, allowable_dims):\n",
    "    # Your solution here\n",
    "    raise Exception(\"Implementation of <i>Mondrian_choose_dim_highest_distinct</i> is missing\")"
   ]
  },
  {
   "attachments": {
    "8a483f90-a559-4065-9d19-73cae8ab7897.png": {
     "image/png": "[encoded data removed]"
    }
   },
   "cell_type": "markdown",
   "id": "302a574a-d396-4e8d-8304-93bc8ffd8c88",
   "metadata": {},
   "source": [
    "Once you complete the implementation of `Mondrian_choose_dim_highest_distinct`, use the following code for a sanity check. The only possible outputs of the following code is depicted below. Confirm that the code is generating this output, and no other output.\n",
    "\n",
    "![image.png](attachment:8a483f90-a559-4065-9d19-73cae8ab7897.png)"
   ]
  },
  {
   "cell_type": "code",
   "execution_count": 47,
   "id": "0c018bad-f827-4445-a6ba-cf144258d429",
   "metadata": {
    "tags": []
   },
   "outputs": [
    {
     "data": {
      "text/markdown": [
       "<div class='alert alert-block alert-danger'><b>Error in problem 1e</b>: Implementation of <i>Mondrian_choose_dim_highest_distinct</i> is missing</div>"
      ],
      "text/plain": [
       "<IPython.core.display.Markdown object>"
      ]
     },
     "metadata": {},
     "output_type": "display_data"
    }
   ],
   "source": [
    "__problem = '1e'\n",
    "\n",
    "try:\n",
    "    qID = ['Race','Marital_Status']\n",
    "    desired_k = 150\n",
    "    p1e_tableOut, p1e_boundaries = Mondrian(Lab3_Data, qID,desired_k, Mondrian_choose_dim_highest_distinct, Mondrian_choose_cut_median)\n",
    "    visualize_Mondrian(Lab3_Data, qID, p1e_boundaries)\n",
    "\n",
    "except Exception as e:\n",
    "    safe_print_err(e)"
   ]
  },
  {
   "cell_type": "markdown",
   "id": "23450052-e16c-417b-bcfe-669065fb4e9f",
   "metadata": {},
   "source": [
    "---\n",
    "\n",
    "## (f) More Than Random - Continued\n",
    "\n",
    "In this part, we will investigate the behavior of `Mondrian` using the `Mondrian_choose_dim_highest_distinct` dimension choice mechanism.\n",
    "\n",
    "Concretely, run the function `Mondrian` on `Lab3_Data` twice, and assign the results in the following variables:\n",
    "- `p1f_tableOut_cfs` and `p1f_boundaries_cfs`: For the results of `Mondrian` on `Lab3_Data` with `qID = ['Race', 'Marital_Status']` and $k=60$ using the `Mondrian_choose_cut_first_split` cut value choice mechanism.\n",
    "    - `p1f_actual_k_cfs`: Store the resulting $k$ value of the table after generalization.\n",
    "- `p1f_tableOut_cm` and `p1f_boundaries_cm`: For the results of `Mondrian` on `Lab3_Data` with `qID = ['Race', 'Marital_Status']` and $k=60$ using the `Mondrian_choose_cut_median` cut value choice mechanism.\n",
    "    - `p1f_actual_k_cm`: Store the resulting $k$ value of the table after generalization.\n",
    "\n",
    "In both cases, use the `Mondrian_choose_dim_highest_distinct` dimension choice mechanism.\n",
    "\n",
    "Complete the following code snippet with your code:"
   ]
  },
  {
   "cell_type": "code",
   "execution_count": 48,
   "id": "0209eaf9-e121-4a70-9218-3253acec9987",
   "metadata": {
    "tags": []
   },
   "outputs": [],
   "source": [
    "qID=['Race','Marital_Status']\n",
    "desired_k=60\n",
    "\n",
    "# Your solution here"
   ]
  },
  {
   "cell_type": "markdown",
   "id": "a4533f30-ec84-4ee6-bca7-ef1e7895bfc8",
   "metadata": {},
   "source": [
    "Run the following cell to present the outcomes of your code."
   ]
  },
  {
   "cell_type": "code",
   "execution_count": 49,
   "id": "4c704199-e288-4a21-88a0-3c83aeb787fe",
   "metadata": {
    "tags": []
   },
   "outputs": [
    {
     "data": {
      "text/markdown": [
       "The results of the run using `Mondrian_choose_cut_first_split` with qID=['Race', 'Marital_Status'] and $k=60$ are:"
      ],
      "text/plain": [
       "<IPython.core.display.Markdown object>"
      ]
     },
     "metadata": {},
     "output_type": "display_data"
    },
    {
     "data": {
      "text/markdown": [
       "<div class='alert alert-block alert-danger'><b>Error in problem 1f</b>: 'p1f_boundaries_cfs' is not defined.</div>"
      ],
      "text/plain": [
       "<IPython.core.display.Markdown object>"
      ]
     },
     "metadata": {},
     "output_type": "display_data"
    }
   ],
   "source": [
    "__problem = '1f'\n",
    "\n",
    "try:\n",
    "    qID=['Race','Marital_Status']\n",
    "    desired_k=60\n",
    "\n",
    "    # Case 1\n",
    "    print_mk(f'The results of the run using `Mondrian_choose_cut_first_split` with qID={qID} and $k={desired_k}$ are:')\n",
    "    visualize_Mondrian(Lab3_Data, qID, p1f_boundaries_cfs)\n",
    "    print_mk('The generalized table is:')\n",
    "    display(p1f_tableOut_cfs)\n",
    "    print_mk(f'The actual $k$ in the resulting generalization was ${p1f_actual_k_cfs}$ (reference: requested $k$ was ${desired_k}$).')\n",
    "    print_mk('<br><br>')\n",
    "\n",
    "    # Case 2\n",
    "    print_mk(f'The results of the run using `Mondrian_choose_cut_median` with qID={qID} and $k={desired_k}$ are:')\n",
    "    visualize_Mondrian(Lab3_Data, qID, p1f_boundaries_cm)\n",
    "    print_mk('The generalized table is:')\n",
    "    display(p1f_tableOut_cm)\n",
    "    print_mk(f'The actual $k$ in the resulting generalization was ${p1f_actual_k_cm}$ (reference: requested $k$ was ${desired_k}$).')\n",
    "    print_mk('<br><br>')\n",
    "\n",
    "except Exception as e:\n",
    "    safe_print_err(e)"
   ]
  },
  {
   "cell_type": "markdown",
   "id": "673f879b-f40b-4756-8f50-83e034fa6b6f",
   "metadata": {},
   "source": [
    "---\n",
    "\n",
    "## (g) One More Dimension Selection Mechanism\n",
    "\n",
    "In this part, we will implement the dimension choice mechanism `Mondrian_choose_dim_highest_var`.\n",
    "\n",
    "This mechanism is for `Mondrian` to select the next dimension for a cut (cf. line 7 in the algorithm), instead of randomly or based on the dimension with the highest number of distinct values, this time based on the dimension with the highest variance **out of the dimensions with allowable cuts**. Note that the function should return **the name** of the dimension as a string (i.e., not its index). In case of a tie between multiple dimensions, your function should output the dimension (out of the tying dimensions) that appears first from the list of dimensions `allowable_dims`.\n",
    "\n",
    "For example, if we have two dimensions with allowable cuts:\n",
    "- `'Q1'` with values `[10, 10, 10, 10, 10, 20, 20, 20, 20, 20]` (has variance $25$); and\n",
    "- `'Q2'` with values `[1, 1, 2, 2, 3, 3, 3, 3, 3, 3]` (has variance $0.64$)\n",
    "\n",
    "Then `Mondrian_choose_dim_highest_var` should select `'Q1'` since it has higher variance than `'Q2'`.\n",
    "\n",
    "Complete the implementation of the function `Mondrian_choose_dim_highest_var` below."
   ]
  },
  {
   "cell_type": "code",
   "execution_count": 50,
   "id": "ac176c2c-c7bf-4ab2-926f-62a1d5ed1b93",
   "metadata": {
    "tags": []
   },
   "outputs": [],
   "source": [
    "def Mondrian_choose_dim_highest_var(table_partition, allowable_dims):\n",
    "    # Your solution here\n",
    "    raise Exception(\"Implementation of <i>Mondrian_choose_dim_highest_var</i> is missing\")"
   ]
  },
  {
   "attachments": {
    "747e42db-4c68-48f5-9ea4-34de5ae2b9df.png": {
     "image/png": "[encoded data removed]"
    }
   },
   "cell_type": "markdown",
   "id": "08673c50-6794-4fe1-8710-1f0f13a3bbdb",
   "metadata": {},
   "source": [
    "Once you complete the implementation of `Mondrian_choose_dim_highest_var`, use the following code for a sanity check. The only possible outputs of the following code is depicted below. Confirm that the code is generating this output, and no other output.\n",
    "\n",
    "![image.png](attachment:747e42db-4c68-48f5-9ea4-34de5ae2b9df.png)"
   ]
  },
  {
   "cell_type": "code",
   "execution_count": 51,
   "id": "f7af603a-22f7-4c58-86f6-296df8452752",
   "metadata": {
    "tags": []
   },
   "outputs": [
    {
     "data": {
      "text/markdown": [
       "<div class='alert alert-block alert-danger'><b>Error in problem 1g</b>: Implementation of <i>Mondrian_choose_dim_highest_var</i> is missing</div>"
      ],
      "text/plain": [
       "<IPython.core.display.Markdown object>"
      ]
     },
     "metadata": {},
     "output_type": "display_data"
    }
   ],
   "source": [
    "__problem = '1g'\n",
    "\n",
    "try:\n",
    "    qID = ['Race','Marital_Status']\n",
    "    desired_k = 150\n",
    "    [p1g_tableOut, p1g_boundaries] = Mondrian(Lab3_Data,qID,desired_k,Mondrian_choose_dim_highest_var, Mondrian_choose_cut_median)\n",
    "    visualize_Mondrian(Lab3_Data, qID, p1g_boundaries)\n",
    "\n",
    "except Exception as e:\n",
    "    safe_print_err(e)"
   ]
  },
  {
   "cell_type": "markdown",
   "id": "a3938054-7f04-48cf-bb03-d3564d807f4e",
   "metadata": {},
   "source": [
    "---\n",
    "\n",
    "## (h) One More Dimension Selection Mechanism - Continued\n",
    "\n",
    "In this part, we will investigate the behavior of `Mondrian` using the `Mondrian_choose_dim_highest_var` dimension choice mechanism.\n",
    "\n",
    "Concretely, run the function `Mondrian` on `Lab3_Data` twice, and assign the results in the following variables:\n",
    "- `p1h_tableOut_cfs` and `p1h_boundaries_cfs`: For the results of `Mondrian` on `Lab3_Data` with `qID = ['Race', 'Marital_Status']` and $k=60$ using the `Mondrian_choose_cut_first_split` cut value choice mechanism.\n",
    "    - `p1h_actual_k_cfs`: Store the resulting $k$ value of the table after generalization.\n",
    "- `p1h_tableOut_cm` and `p1h_boundaries_cm`: For the results of `Mondrian` on `Lab3_Data` with `qID = ['Race', 'Marital_Status']` and $k=60$ using the `Mondrian_choose_cut_median` cut value choice mechanism.\n",
    "    - `p1h_actual_k_cm`: Store the resulting $k$ value of the table after generalization.\n",
    "\n",
    "In both cases, use the `Mondrian_choose_dim_highest_var` dimension choice mechanism.\n",
    "\n",
    "Complete the following code snippet with your code:"
   ]
  },
  {
   "cell_type": "code",
   "execution_count": 52,
   "id": "cf7abd54-3723-448e-b2a0-10e90f271108",
   "metadata": {
    "tags": []
   },
   "outputs": [],
   "source": [
    "qID=['Race','Marital_Status']\n",
    "desired_k=60\n",
    "\n",
    "# Your solution here"
   ]
  },
  {
   "cell_type": "markdown",
   "id": "f6e29e9d-282c-4184-8536-5a93afd859f2",
   "metadata": {},
   "source": [
    "Run the following cell to present the outcomes of your code."
   ]
  },
  {
   "cell_type": "code",
   "execution_count": 53,
   "id": "511e43ab-da3c-43b7-aa3f-d393d2ccb539",
   "metadata": {
    "tags": []
   },
   "outputs": [
    {
     "data": {
      "text/markdown": [
       "The results of the run using `Mondrian_choose_cut_first_split` with qID=['Race', 'Marital_Status'] and $k=60$ are:"
      ],
      "text/plain": [
       "<IPython.core.display.Markdown object>"
      ]
     },
     "metadata": {},
     "output_type": "display_data"
    },
    {
     "data": {
      "text/markdown": [
       "<div class='alert alert-block alert-danger'><b>Error in problem 1h</b>: 'p1h_boundaries_cfs' is not defined.</div>"
      ],
      "text/plain": [
       "<IPython.core.display.Markdown object>"
      ]
     },
     "metadata": {},
     "output_type": "display_data"
    }
   ],
   "source": [
    "__problem = '1h'\n",
    "\n",
    "try:\n",
    "    qID=['Race','Marital_Status']\n",
    "    desired_k=60\n",
    "\n",
    "    # Case 1\n",
    "    print_mk(f'The results of the run using `Mondrian_choose_cut_first_split` with qID={qID} and $k={desired_k}$ are:')\n",
    "    visualize_Mondrian(Lab3_Data, qID, p1h_boundaries_cfs)\n",
    "    print_mk('The generalized table is:')\n",
    "    display(p1h_tableOut_cfs)\n",
    "    print_mk(f'The actual $k$ in the resulting generalization was ${p1h_actual_k_cfs}$ (reference: requested $k$ was ${desired_k}$).')\n",
    "    print_mk('<br><br>')\n",
    "\n",
    "    # Case 2\n",
    "    print_mk(f'The results of the run using `Mondrian_choose_cut_median` with qID={qID} and $k={desired_k}$ are:')\n",
    "    visualize_Mondrian(Lab3_Data, qID, p1h_boundaries_cm)\n",
    "    print_mk('The generalized table is:')\n",
    "    display(p1h_tableOut_cm)\n",
    "    print_mk(f'The actual $k$ in the resulting generalization was ${p1h_actual_k_cm}$ (reference: requested $k$ was ${desired_k}$).')\n",
    "    print_mk('<br><br>')\n",
    "\n",
    "except Exception as e:\n",
    "    safe_print_err(e)"
   ]
  },
  {
   "cell_type": "markdown",
   "id": "50d91cc1-a8b4-49b4-8bfc-ac89d98a8d32",
   "metadata": {},
   "source": [
    "---\n",
    "\n",
    "## (i) More Than Two Dimensions\n",
    "\n",
    "In this part, we will sanitize the data in `Lab3_Data`, according to quasi identifiers\n",
    "```python\n",
    "qID = ['Gender','Age','Marital_Status','Country_Birth','Race']\n",
    "```\n",
    "\n",
    "We will not be able to visualize the resulting generalization for this part, given that there are more than $2$ dimensions in the set of quasi-identifiers. Therefore, we will analyze the privacy-utility tradeoff.\n",
    "\n",
    "Write code that sanitizes `Lab3_Data`, with respect to quasi-identifiers `qID` to achieve k-Anonymity with the various values of $k=50,55,60,65,\\dots,200$ (from $50$ to $200$ in increments of $5$; this is given to you in the variable `p1i_desired_ks`). Use the dimension choice mechanism `Mondrian_choose_dim_highest_distinct` and the cut value choice mechanism `Mondrian_choose_cut_first_split`.\n",
    "\n",
    "For each value from the list of desired $k$ values, record the actual $k$ achieved and the Discernability Cost of the sanitization, and store them in the following variables:\n",
    "- `p1i_actual_k_values`: The list of achieved $k$ values, in the same order as the values in the variable `p1i_desired_ks`.\n",
    "- `p1i_discernability_costs`: The list of values of Discernability Cost of the output generalizations, in the same order as the values in the variable  `p1i_desired_ks`.\n",
    "\n",
    "Complete the following code snippet with your code:"
   ]
  },
  {
   "cell_type": "code",
   "execution_count": 54,
   "id": "fcfa880e-5143-4e73-beb7-26c393d62cec",
   "metadata": {
    "tags": []
   },
   "outputs": [],
   "source": [
    "qID = ['Gender','Age','Marital_Status','Country_Birth','Race']\n",
    "p1i_desired_ks = range(50,201,5)\n",
    "\n",
    "# Your solution here"
   ]
  },
  {
   "cell_type": "markdown",
   "id": "3d52319d-2518-48ce-852f-080da2223a1e",
   "metadata": {},
   "source": [
    "Run the following cell to plot the outcomes of your code. The provided code will generate the following $3$ plots:\n",
    "- A plot of the discernability cost (on the y-axis) vs the desired k (on the x-axis).\n",
    "- A plot of the actual k achieved (on a second y-axis; using yyaxis right) vs the desired k (on the x-axis).\n",
    "- A plot of the line x=y by plotting the desired k (on the second y-axis) vs the desired k (on the x-axis)."
   ]
  },
  {
   "cell_type": "code",
   "execution_count": 55,
   "id": "f0e2181e-1d6c-4359-9076-4d50374179ef",
   "metadata": {
    "tags": []
   },
   "outputs": [
    {
     "data": {
      "text/markdown": [
       "<div class='alert alert-block alert-danger'><b>Error in problem 1i</b>: 'p1i_discernability_costs' is not defined.</div>"
      ],
      "text/plain": [
       "<IPython.core.display.Markdown object>"
      ]
     },
     "metadata": {},
     "output_type": "display_data"
    },
    {
     "data": {
      "image/png": "[encoded data removed]",
      "text/plain": [
       "<Figure size 1200x1200 with 1 Axes>"
      ]
     },
     "metadata": {},
     "output_type": "display_data"
    }
   ],
   "source": [
    "__problem = '1i'\n",
    "\n",
    "try:\n",
    "    qID = ['Gender','Age','Marital_Status','Country_Birth','Race']\n",
    "    p1i_desired_ks = range(50,201,5)\n",
    "    pyplot.figure(figsize=(12,12))\n",
    "    ax1 = pyplot.gca()\n",
    "    plt1=pyplot.plot(p1i_desired_ks, p1i_discernability_costs, color='C0')\n",
    "    pyplot.ylabel('Discernability Cost', color='C0')\n",
    "    pyplot.tick_params(axis='y', color='C0', labelcolor='C0')\n",
    "    ax2 = ax1.twinx()\n",
    "    plt2=pyplot.plot(p1i_desired_ks, p1i_actual_k_values, color='C1')\n",
    "    # For refeerence\n",
    "    plt3=pyplot.plot(p1i_desired_ks, p1i_desired_ks, color='C1', linestyle='--')\n",
    "    pyplot.xlim([min(p1i_desired_ks), max(p1i_desired_ks)])\n",
    "    pyplot.ylabel('k', color='C1')\n",
    "    pyplot.xlabel('desired k')\n",
    "    pyplot.tick_params(axis='y', color='C1', labelcolor='C1')\n",
    "    ax2.spines['right'].set_color('C1')\n",
    "    ax2.spines['left'].set_color('C0')\n",
    "    pyplot.title('Analysis of Sanitization')\n",
    "    pyplot.legend(plt1+plt2+plt3,['Discernability Cost','Actual k','y=x'])\n",
    "    pyplot.show()\n",
    "\n",
    "except Exception as e:\n",
    "    safe_print_err(e)"
   ]
  },
  {
   "cell_type": "markdown",
   "id": "4d36aa5e-ccc2-4f79-801e-31703cabeee2",
   "metadata": {},
   "source": [
    "### In this Markdown cell, answer the following question\n",
    "\n",
    "If you had to choose between the option of desired $k=135$ vs desired $k=150$, which one would you choose? Explain.\n",
    "\n",
    "***Place your answer here***"
   ]
  },
  {
   "cell_type": "markdown",
   "id": "7a384d21-0791-4d57-931d-6812bd7c0972",
   "metadata": {
    "tags": []
   },
   "source": [
    "---\n",
    "\n",
    "# Problem 2\n",
    "\n",
    "In this problem, we will study $\\delta$-Presence. In this problem, we are simulating a selective publication, whereby the full list of possible individuals is presented in table `Lab3_synthetic_identities` (a table of simulated identities). There is a total of $1301$ individuals in this table. However, the published data, represented by variable `Lab3_Problem2` has the data of $405$ individuals out of the full set of individuals.\n",
    "\n",
    "In this problem, we will calculate the different values of $\\delta$ for this type of publication, each time assuming a different set of quasi-identifiers (in effect, simulating that only the set of quasi-identifiers in each part is published, and the rest of the columns are not published).\n",
    "\n",
    "## (a) $\\delta$-Presnece for an Individual\n",
    "\n",
    "In this part, we will focus on a single individual (i.e., record) from `Lab3_synthetic_identities`, and calculate the probability that this individual is in the published data `Lab3_Problem2`.\n",
    "\n",
    "Complete the function `delta_Presence_of_Individual` below to achieve this.\n",
    "\n",
    "The function accepts 4 arguments:\n",
    "- `identities`: a table with the identities of the individuals and their quasi-identifiers\n",
    "- `identities_row_id`: the row number of the person in the identities table, for which we would like to calculate $\\delta$\n",
    "- `published_table`: the published table\n",
    "- `quasi_identifiers`: a list containing the quasi-identifiers.\n",
    "\n",
    "The function outputs one argument:\n",
    "- `delta`: the probability that the individual in row `identities_row_id` is part of the publication `published_table` (i.e., $\\delta$, as defined in class).\n",
    "\n",
    "Complete the following code with your solution."
   ]
  },
  {
   "cell_type": "code",
   "execution_count": 56,
   "id": "2113ad81-7611-4525-a911-e4cae07514de",
   "metadata": {
    "tags": []
   },
   "outputs": [],
   "source": [
    "def delta_Presence_of_Individual(identities, identities_row_id, published_table, quasi_identifiers):\n",
    "    # Your solution here\n",
    "    raise Exception(\"Implementation of <i>delta_Presence_of_Individual</i> is missing\")"
   ]
  },
  {
   "cell_type": "markdown",
   "id": "ff0460fd-c906-40fe-9edc-24a8bf44bf8d",
   "metadata": {},
   "source": [
    "Run the following cell to print some outcomes based on your code."
   ]
  },
  {
   "cell_type": "code",
   "execution_count": 57,
   "id": "1fef545a-9c01-4ce0-8a7a-e486655ef7ce",
   "metadata": {
    "tags": []
   },
   "outputs": [
    {
     "data": {
      "text/markdown": [
       "<div class='alert alert-block alert-danger'><b>Error in problem 2a</b>: Implementation of <i>delta_Presence_of_Individual</i> is missing</div>"
      ],
      "text/plain": [
       "<IPython.core.display.Markdown object>"
      ]
     },
     "metadata": {},
     "output_type": "display_data"
    }
   ],
   "source": [
    "__problem = '2a'\n",
    "\n",
    "try:\n",
    "    qID = ['Marital_Status']\n",
    "\n",
    "    next_row = 99\n",
    "    next_delta = delta_Presence_of_Individual(Lab3_synthetic_identities, next_row, Lab3_Problem2, qID)\n",
    "    print_mk(f'Assuming qID={qID}, the delta value for row {next_row} is $\\\\delta={next_delta:.4f}$')\n",
    "\n",
    "    next_row = 101\n",
    "    next_delta = delta_Presence_of_Individual(Lab3_synthetic_identities, next_row, Lab3_Problem2, qID)\n",
    "    print_mk(f'Assuming qID={qID}, the delta value for row {next_row} is $\\\\delta={next_delta:.4f}$')\n",
    "\n",
    "    next_row = 104\n",
    "    next_delta = delta_Presence_of_Individual(Lab3_synthetic_identities, next_row, Lab3_Problem2, qID)\n",
    "    print_mk(f'Assuming qID={qID}, the delta value for row {next_row} is $\\\\delta={next_delta:.4f}$')\n",
    "\n",
    "    next_row = 92\n",
    "    next_delta = delta_Presence_of_Individual(Lab3_synthetic_identities, next_row, Lab3_Problem2, qID)\n",
    "    print_mk(f'Assuming qID={qID}, the delta value for row {next_row} is $\\\\delta={next_delta:.4f}$')\n",
    "\n",
    "    next_row = 1000\n",
    "    next_delta = delta_Presence_of_Individual(Lab3_synthetic_identities, next_row, Lab3_Problem2, qID)\n",
    "    print_mk(f'Assuming qID={qID}, the delta value for row {next_row} is $\\\\delta={next_delta:.4f}$')\n",
    "\n",
    "\n",
    "    qID = ['Marital_Status','Age']\n",
    "\n",
    "    next_row = 99\n",
    "    next_delta = delta_Presence_of_Individual(Lab3_synthetic_identities, next_row, Lab3_Problem2, qID)\n",
    "    print_mk(f'Assuming qID={qID}, the delta value for row {next_row} is $\\\\delta={next_delta:.4f}$')\n",
    "\n",
    "    next_row = 7\n",
    "    next_delta = delta_Presence_of_Individual(Lab3_synthetic_identities, next_row, Lab3_Problem2, qID)\n",
    "    print_mk(f'Assuming qID={qID}, the delta value for row {next_row} is $\\\\delta={next_delta:.4f}$')\n",
    "\n",
    "    next_row = 870\n",
    "    next_delta = delta_Presence_of_Individual(Lab3_synthetic_identities, next_row, Lab3_Problem2, qID)\n",
    "    print_mk(f'Assuming qID={qID}, the delta value for row {next_row} is $\\\\delta={next_delta:.4f}$')\n",
    "\n",
    "    next_row = 90\n",
    "    next_delta = delta_Presence_of_Individual(Lab3_synthetic_identities, next_row, Lab3_Problem2, qID)\n",
    "    print_mk(f'Assuming qID={qID}, the delta value for row {next_row} is $\\\\delta={next_delta:.4f}$')\n",
    "\n",
    "    next_row = 1024\n",
    "    next_delta = delta_Presence_of_Individual(Lab3_synthetic_identities, next_row, Lab3_Problem2, qID)\n",
    "    print_mk(f'Assuming qID={qID}, the delta value for row {next_row} is $\\\\delta={next_delta:.4f}$')\n",
    "    \n",
    "except Exception as e:\n",
    "    safe_print_err(e)"
   ]
  },
  {
   "cell_type": "markdown",
   "id": "e532186c-5e52-430a-aa68-ddffb6da25f2",
   "metadata": {
    "tags": []
   },
   "source": [
    "---\n",
    "\n",
    "## (b) Individual Risk\n",
    "What is the risk of membership disclosure for `'Gregg Maxim Beale'` if the data `Lab3_Problem2` is published with `'Gender'` and `'Race'` as the sole quasi-identifiers?\n",
    "\n",
    "Store the result in the variable `p2b_delta`.\n",
    "\n",
    "Complete the following code snippet with your code:"
   ]
  },
  {
   "cell_type": "code",
   "execution_count": 58,
   "id": "4e0540cd-c63f-4108-ae21-42979ef6f1e7",
   "metadata": {
    "tags": []
   },
   "outputs": [],
   "source": [
    "qID = ['Gender', 'Race']\n",
    "person_name = 'Gregg Maxim Beale'\n",
    "\n",
    "# Your solution here"
   ]
  },
  {
   "cell_type": "markdown",
   "id": "a34d55ca-d927-4c3e-97a7-bb13d03490ea",
   "metadata": {},
   "source": [
    "Run the following cell to present the outcomes of your code."
   ]
  },
  {
   "cell_type": "code",
   "execution_count": 59,
   "id": "ee452402-e960-43e9-b857-d9f99e21a39f",
   "metadata": {
    "tags": []
   },
   "outputs": [
    {
     "data": {
      "text/markdown": [
       "<div class='alert alert-block alert-danger'><b>Error in problem 2b</b>: 'p2b_delta' is not defined.</div>"
      ],
      "text/plain": [
       "<IPython.core.display.Markdown object>"
      ]
     },
     "metadata": {},
     "output_type": "display_data"
    }
   ],
   "source": [
    "__problem = '2b'\n",
    "\n",
    "try:\n",
    "    person_name = 'Gregg Maxim Beale'\n",
    "    print_mk(f'Risk of <u>{person_name}</u> is ${p2b_delta:.4f}$')\n",
    "    \n",
    "except Exception as e:\n",
    "    safe_print_err(e)"
   ]
  },
  {
   "cell_type": "markdown",
   "id": "4039c852-60d2-45ca-af77-bd6ce4e058c3",
   "metadata": {},
   "source": [
    "---\n",
    "\n",
    "## (c) Complete $\\delta$-Presnece\n",
    "\n",
    "In this part, we will complete the full $\\delta$-Presence calculation algorithm in the function `delta_Presence`.\n",
    "\n",
    "`delta_Presence` accepts three arguments:\n",
    "- `identities`: a table with the identities of the individuals and their quasi-identifiers\n",
    "- `published_table`: the published table\n",
    "- `quasi_identifiers`: a list containing the quasi-identifiers.\n",
    "\n",
    "The function outputs three arguments:\n",
    "- `delta_min`: The value of $\\delta_{\\min}$ as defined in class.\n",
    "- `delta_max`: The value of $\\delta_{\\max}$ as defined in class.\n",
    "- `identities_deltas`:  A copy of the data frame `identities` with an additional column `delta`. Populate the new column `delta` and assign to it the risk of positive membership disclosure ($\\delta$) of the corresponding row in `identities` with respect to `published_table` and `quasi_identifiers` (as defined in class).\n",
    "\n",
    "After implementing the function `delta_Presence`, use the function to calculate the $\\delta$-Presence levels of the individiuals in `identities` with respect to published data `Lab3_Problem2`, assuming only `\"Marital_Status\"` gets published as a quasi-identifier.\n",
    "\n",
    "Store the results of your calculations in the variables `p2c_delta_min`, `p2c_delta_max` and `p2c_identities_deltas`, respectively.\n",
    "\n",
    "Complete the following code with your solution."
   ]
  },
  {
   "cell_type": "code",
   "execution_count": 60,
   "id": "b764d624-c254-4af9-8434-6c288fc1b1b3",
   "metadata": {
    "tags": []
   },
   "outputs": [],
   "source": [
    "def delta_Presence(identities, published_table, quasi_identifiers):\n",
    "    # Your implementation here\n",
    "    raise Exception(\"Implementation of <i>delta_Presence</i> is missing\")\n",
    "\n",
    "qID = ['Marital_Status']\n",
    "# Use delta_Presence() to calculate p2c_delta_min, p2c_delta_max and p2c_identities_deltas"
   ]
  },
  {
   "cell_type": "markdown",
   "id": "f4ade1a7-3b5e-4802-99d0-1ba21b9d89f1",
   "metadata": {},
   "source": [
    "Run the following cell to present the outcomes of your code."
   ]
  },
  {
   "cell_type": "code",
   "execution_count": 61,
   "id": "35f84f97-6eef-4543-bb43-c3888222d5fa",
   "metadata": {
    "tags": []
   },
   "outputs": [
    {
     "data": {
      "text/markdown": [
       "<div class='alert alert-block alert-danger'><b>Error in problem 2c</b>: 'p2c_delta_min' is not defined.</div>"
      ],
      "text/plain": [
       "<IPython.core.display.Markdown object>"
      ]
     },
     "metadata": {},
     "output_type": "display_data"
    }
   ],
   "source": [
    "__problem = '2c'\n",
    "\n",
    "try:\n",
    "    qID = ['Marital_Status']\n",
    "\n",
    "    print_mk(f'The results of running `delta_Presence` with qID={qID} are `delta_min`=${p2c_delta_min:.4f}$ and `delta_max`=${p2c_delta_max:.4f}$ with the following distribution of delta values:')\n",
    "    pyplot.subplots(figsize=(12,12))\n",
    "    pyplot.hist(p2c_identities_deltas.delta, 10)\n",
    "    pyplot.xlabel(\"$\\\\delta$\")\n",
    "    pyplot.ylabel(\"Number of individuals\")\n",
    "    pyplot.title(f\"Histogram of delta values with qID={qID}\")\n",
    "    pyplot.show()\n",
    "    print_mk(f'The individuals with delta=delta_min=${p2c_delta_min:.4f}$ are:')\n",
    "    display(p2c_identities_deltas[p2c_identities_deltas.delta == p2c_delta_min])\n",
    "    print_mk(f'The individuals with delta=delta_max=${p2c_delta_max:.4f}$ are:')\n",
    "    display(p2c_identities_deltas[p2c_identities_deltas.delta == p2c_delta_max])\n",
    "\n",
    "except Exception as e:\n",
    "    safe_print_err(e)"
   ]
  },
  {
   "cell_type": "markdown",
   "id": "9c63db6f-7861-483e-a8f4-20346d57ea22",
   "metadata": {},
   "source": [
    "---\n",
    "\n",
    "## (d) What About Gender?\n",
    "\n",
    "Use the function `delta_Presence` to calcualte the $\\delta$-Presence levels of the individiuals in `identities` with respect to published data `Lab3_Problem2`, assuming only `\"Gender\"` gets published as a quasi-identifier.\n",
    "\n",
    "Store the results of your calculations in the variables `p2d_delta_min`, `p2d_delta_max` and `p2d_identities_deltas`, respectively.\n",
    "\n",
    "Complete the following code snippet with your code:"
   ]
  },
  {
   "cell_type": "code",
   "execution_count": 62,
   "id": "fd335146-9709-40f7-8633-ab0baa218523",
   "metadata": {
    "tags": []
   },
   "outputs": [],
   "source": [
    "qID = ['Gender']\n",
    "# Your solution here"
   ]
  },
  {
   "cell_type": "markdown",
   "id": "3143e1ac-c1f7-435a-a303-ae6ee015d81b",
   "metadata": {},
   "source": [
    "Run the following cell to present the outcomes of your code."
   ]
  },
  {
   "cell_type": "code",
   "execution_count": 63,
   "id": "49fa070b-f379-47a3-98a1-b66c34a6d1b3",
   "metadata": {
    "tags": []
   },
   "outputs": [
    {
     "data": {
      "text/markdown": [
       "<div class='alert alert-block alert-danger'><b>Error in problem 2d</b>: 'p2d_delta_min' is not defined.</div>"
      ],
      "text/plain": [
       "<IPython.core.display.Markdown object>"
      ]
     },
     "metadata": {},
     "output_type": "display_data"
    }
   ],
   "source": [
    "__problem = '2d'\n",
    "\n",
    "try:\n",
    "    qID = ['Gender']\n",
    "\n",
    "    print_mk(f'The results of running `delta_Presence` with qID={qID} are `delta_min`=${p2d_delta_min:.4f}$ and `delta_max`=${p2d_delta_max:.4f}$ with the following distribution of delta values:')\n",
    "    pyplot.subplots(figsize=(12,12))\n",
    "    pyplot.hist(p2d_identities_deltas.delta, 10)\n",
    "    pyplot.xlabel(\"$\\\\delta$\")\n",
    "    pyplot.ylabel(\"Number of individuals\")\n",
    "    pyplot.title(f\"Histogram of delta values with qID={qID}\")\n",
    "    pyplot.show()\n",
    "    print_mk(f'The individuals with delta=delta_min=${p2d_delta_min:.4f}$ are:')\n",
    "    display(p2d_identities_deltas[p2d_identities_deltas.delta == p2d_delta_min])\n",
    "    print_mk(f'The individuals with delta=delta_max=${p2d_delta_max:.4f}$ are:')\n",
    "    display(p2d_identities_deltas[p2d_identities_deltas.delta == p2d_delta_max])\n",
    "\n",
    "except Exception as e:\n",
    "    safe_print_err(e)"
   ]
  },
  {
   "cell_type": "markdown",
   "id": "ca340561-ca52-4bd0-8357-4312aad345a0",
   "metadata": {},
   "source": [
    "---\n",
    "\n",
    "## (e) More Options\n",
    "\n",
    "Use the function `delta_Presence` to calcualte the $\\delta$-Presence levels of the individiuals in `identities` with respect to published data `Lab3_Problem2`, assuming only `\"Gender\"` and `\"Marital_Status\"` get published as quasi-identifiers.\n",
    "\n",
    "Store the results of your calculations in the variables `p2e_delta_min`, `p2e_delta_max` and `p2e_identities_deltas`, respectively.\n",
    "\n",
    "Complete the following code snippet with your code:"
   ]
  },
  {
   "cell_type": "code",
   "execution_count": 64,
   "id": "cc035e0e-f1f0-4628-a195-b1a13742fa3a",
   "metadata": {
    "tags": []
   },
   "outputs": [],
   "source": [
    "qID = ['Gender','Marital_Status']\n",
    "# Your solution here"
   ]
  },
  {
   "cell_type": "markdown",
   "id": "5c3f45f3-33c1-430f-9f88-db2de6c01af7",
   "metadata": {},
   "source": [
    "Run the following cell to present the outcomes of your code."
   ]
  },
  {
   "cell_type": "code",
   "execution_count": 65,
   "id": "7d06d39e-24a4-4609-aef2-42958fb2af45",
   "metadata": {
    "tags": []
   },
   "outputs": [
    {
     "data": {
      "text/markdown": [
       "<div class='alert alert-block alert-danger'><b>Error in problem 2e</b>: 'p2e_delta_min' is not defined.</div>"
      ],
      "text/plain": [
       "<IPython.core.display.Markdown object>"
      ]
     },
     "metadata": {},
     "output_type": "display_data"
    }
   ],
   "source": [
    "__problem = '2e'\n",
    "\n",
    "try:\n",
    "    qID = ['Gender','Marital_Status']\n",
    "\n",
    "    print_mk(f'The results of running `delta_Presence` with qID={qID} are `delta_min`=${p2e_delta_min:.4f}$ and `delta_max`=${p2e_delta_max:.4f}$ with the following distribution of delta values:')\n",
    "    pyplot.subplots(figsize=(12,12))\n",
    "    pyplot.hist(p2e_identities_deltas.delta, 10)\n",
    "    pyplot.xlabel(\"$\\\\delta$\")\n",
    "    pyplot.ylabel(\"Number of individuals\")\n",
    "    pyplot.title(f\"Histogram of delta values with qID={qID}\")\n",
    "    pyplot.show()\n",
    "    print_mk(f'The individuals with delta=delta_min=${p2e_delta_min:.4f}$ are:')\n",
    "    display(p2e_identities_deltas[p2e_identities_deltas.delta == p2e_delta_min])\n",
    "    print_mk(f'The individuals with delta=delta_max=${p2e_delta_max:.4f}$ are:')\n",
    "    display(p2e_identities_deltas[p2e_identities_deltas.delta == p2e_delta_max])\n",
    "\n",
    "except Exception as e:\n",
    "    safe_print_err(e)"
   ]
  },
  {
   "cell_type": "markdown",
   "id": "569ead2d-098d-4cc1-a207-1bd351d1cf9c",
   "metadata": {},
   "source": [
    "---\n",
    "\n",
    "## (f) Even More Options\n",
    "\n",
    "Use the function `delta_Presence` to calcualte the $\\delta$-Presence levels of the individiuals in `identities` with respect to published data `Lab3_Problem2`, assuming only `\"Gender\"`, `\"Race\"` and `\"Marital_Status\"` get published as quasi-identifiers.\n",
    "\n",
    "Store the results of your calculations in the variables `p2f_delta_min`, `p2f_delta_max` and `p2f_identities_deltas`, repsectively.\n",
    "\n",
    "Complete the following code snippet with your code:"
   ]
  },
  {
   "cell_type": "code",
   "execution_count": 66,
   "id": "bc48c962-3659-43ea-a5fa-c32532344aab",
   "metadata": {
    "tags": []
   },
   "outputs": [],
   "source": [
    "qID = ['Gender','Race','Marital_Status']\n",
    "# Your solution here"
   ]
  },
  {
   "cell_type": "markdown",
   "id": "546368e8-b200-4433-a209-aadc82274a57",
   "metadata": {},
   "source": [
    "Run the following cell to present the outcomes of your code."
   ]
  },
  {
   "cell_type": "code",
   "execution_count": 67,
   "id": "f26ba7d5-789d-40e2-9752-68d7c6d7a8bd",
   "metadata": {
    "tags": []
   },
   "outputs": [
    {
     "data": {
      "text/markdown": [
       "<div class='alert alert-block alert-danger'><b>Error in problem 2f</b>: 'p2f_delta_min' is not defined.</div>"
      ],
      "text/plain": [
       "<IPython.core.display.Markdown object>"
      ]
     },
     "metadata": {},
     "output_type": "display_data"
    }
   ],
   "source": [
    "__problem = '2f'\n",
    "\n",
    "try:\n",
    "    qID = ['Gender','Race','Marital_Status']\n",
    "\n",
    "    print_mk(f'The results of running `delta_Presence` with qID={qID} are `delta_min`=${p2f_delta_min:.4f}$ and `delta_max`=${p2f_delta_max:.4f}$ with the following distribution of delta values:')\n",
    "    pyplot.subplots(figsize=(12,12))\n",
    "    pyplot.hist(p2f_identities_deltas.delta, 10)\n",
    "    pyplot.xlabel(\"$\\\\delta$\")\n",
    "    pyplot.ylabel(\"Number of individuals\")\n",
    "    pyplot.title(f\"Histogram of delta values with qID={qID}\")\n",
    "    pyplot.show()\n",
    "    print_mk(f'The individuals with delta=delta_min=${p2f_delta_min:.4f}$ are:')\n",
    "    display(p2f_identities_deltas[p2f_identities_deltas.delta == p2f_delta_min])\n",
    "    print_mk(f'The individuals with delta=delta_max=${p2f_delta_max:.4f}$ are:')\n",
    "    display(p2f_identities_deltas[p2f_identities_deltas.delta == p2f_delta_max])\n",
    "\n",
    "except Exception as e:\n",
    "    safe_print_err(e)"
   ]
  },
  {
   "cell_type": "markdown",
   "id": "3cc68cc4-6ad4-405d-b093-dfe6ba0d2617",
   "metadata": {},
   "source": [
    "---\n",
    "\n",
    "## (g) Even More Options (2)\n",
    "\n",
    "\n",
    "Use the function `delta_Presence` to calcualte the $\\delta$-Presence levels of the individiuals in `identities` with respect to published data `Lab3_Problem2`, assuming only `\"Gender\"`, `\"Race\"`, `\"Country_Birth\"` and `\"Marital_Status\"` get published as quasi-identifiers.\n",
    "\n",
    "Store the results of your calculations in the variables `p2g_delta_min`, `p2g_delta_max` and `p2g_identities_deltas`, respectively.\n",
    "\n",
    "Complete the following code snippet with your code:"
   ]
  },
  {
   "cell_type": "code",
   "execution_count": 68,
   "id": "db817638-15d5-4bfb-8031-93b3ddd47398",
   "metadata": {
    "tags": []
   },
   "outputs": [],
   "source": [
    "qID = ['Gender','Race','Country_Birth','Marital_Status']\n",
    "# Your solution here"
   ]
  },
  {
   "cell_type": "markdown",
   "id": "be7bdca0-19f4-42bb-b48e-c742eb7c2e53",
   "metadata": {},
   "source": [
    "Run the following cell to present the outcomes of your code."
   ]
  },
  {
   "cell_type": "code",
   "execution_count": 69,
   "id": "c4b0351e-0f29-4917-9f27-cbe59c70d978",
   "metadata": {
    "tags": []
   },
   "outputs": [
    {
     "data": {
      "text/markdown": [
       "<div class='alert alert-block alert-danger'><b>Error in problem 2g</b>: 'p2g_delta_min' is not defined.</div>"
      ],
      "text/plain": [
       "<IPython.core.display.Markdown object>"
      ]
     },
     "metadata": {},
     "output_type": "display_data"
    }
   ],
   "source": [
    "__problem = '2g'\n",
    "\n",
    "try:\n",
    "    qID = ['Gender','Race','Country_Birth','Marital_Status']\n",
    "\n",
    "    print_mk(f'The results of running `delta_Presence` with qID={qID} are `delta_min`=${p2g_delta_min:.4f}$ and `delta_max`=${p2g_delta_max:.4f}$ with the following distribution of delta values:')\n",
    "    pyplot.subplots(figsize=(12,12))\n",
    "    pyplot.hist(p2g_identities_deltas.delta, 10)\n",
    "    pyplot.xlabel(\"$\\\\delta$\")\n",
    "    pyplot.ylabel(\"Number of individuals\")\n",
    "    pyplot.title(f\"Histogram of delta values with qID={qID}\")\n",
    "    pyplot.show()\n",
    "    print_mk(f'The individuals with delta=delta_min=${p2g_delta_min:.4f}$ are:')\n",
    "    display(p2g_identities_deltas[p2g_identities_deltas.delta == p2g_delta_min])\n",
    "    print_mk(f'The individuals with delta=delta_max=${p2g_delta_max:.4f}$ are:')\n",
    "    display(p2g_identities_deltas[p2g_identities_deltas.delta == p2g_delta_max])\n",
    "\n",
    "except Exception as e:\n",
    "    safe_print_err(e)"
   ]
  },
  {
   "cell_type": "markdown",
   "id": "2fd1c58f-e5a4-48d6-b919-1bcf7d3d128c",
   "metadata": {},
   "source": [
    "---\n",
    "\n",
    "# Problem 3\n",
    "\n",
    "In this problem we will briefly investigate differential privacy.\n",
    "\n",
    "## (a) Visualize Laplace\n",
    "Throughout this problem, we will use the Laplace mechanism to achieve Differential Privacy. We will use the function `numpy.random.laplace(mu, b, n)` that generates a column vector of `n` random numbers independently distributed according to the distribution $Laplace(\\mu = mu, b)$.\n",
    "\n",
    "Write code that generates the following variables:\n",
    "- `p3a_laplace_samples`: Generate $100,000$ (i.e., $100k$) samples distributed according to the distribution $Laplace(0,2)$.\n",
    "- `p3a_laplace_pdf`: Using the x values `p3a_x = numpy.arange(-25.0, 25.1, 0.1)`, generate the Laplace PDF function values of the same distribution $Laplace(0,2)$:\n",
    "$$\n",
    "f(x) = \\frac{1}{2\\cdot b} \\cdot exp\\left(-\\frac{\\mid x-mu \\mid}{b}\\right)\n",
    "$$\n",
    "with $\\mu=0$ and $b=2$. You may either evaluate this function directly, or use `scipy.stats.laplace.pdf()`.\n",
    "\n",
    "Complete the following code snippet with your code:"
   ]
  },
  {
   "cell_type": "code",
   "execution_count": 70,
   "id": "c5346487-b936-40dd-9b36-85ede54ffb1d",
   "metadata": {
    "tags": []
   },
   "outputs": [],
   "source": [
    "p3a_x = numpy.arange(-20.0, 20.1, 0.1)\n",
    "\n",
    "# Your solution here"
   ]
  },
  {
   "cell_type": "markdown",
   "id": "f10af0c2-a355-468b-ac0a-932a7dc9157f",
   "metadata": {},
   "source": [
    "Run the following cell to present the outcomes of your code."
   ]
  },
  {
   "cell_type": "code",
   "execution_count": 71,
   "id": "4b2d7d0f-1602-47ea-bcec-c47cdd64a3ef",
   "metadata": {
    "tags": []
   },
   "outputs": [
    {
     "data": {
      "text/markdown": [
       "<div class='alert alert-block alert-danger'><b>Error in problem 3a</b>: 'p3a_laplace_samples' is not defined.</div>"
      ],
      "text/plain": [
       "<IPython.core.display.Markdown object>"
      ]
     },
     "metadata": {},
     "output_type": "display_data"
    },
    {
     "data": {
      "image/png": "[encoded data removed]",
      "text/plain": [
       "<Figure size 1200x1200 with 1 Axes>"
      ]
     },
     "metadata": {},
     "output_type": "display_data"
    }
   ],
   "source": [
    "__problem = '3a'\n",
    "\n",
    "try:\n",
    "    p3a_x = numpy.arange(-20.0, 20.1, 0.1)\n",
    "\n",
    "    pyplot.subplots(figsize=(12,12))\n",
    "    p3a_lplc_hist_fh = pyplot.hist(p3a_laplace_samples, 60)\n",
    "    pyplot.ylabel('Counts')\n",
    "    pyplot.xlabel('x');\n",
    "    ax1 = pyplot.gca()\n",
    "    curr_ylim = ax1.get_ylim()\n",
    "    \n",
    "    new_ylim = [0, max(numpy.ceil([17/2, curr_ylim[1]/2000])*2000)]\n",
    "\n",
    "    pyplot.ylim(new_ylim)\n",
    "\n",
    "    ax2 = ax1.twinx()\n",
    "    p3a_lplc_pdf_fh = pyplot.plot(p3a_x,p3a_laplace_pdf,'r')\n",
    "    new_ylim = [0, 0.25/curr_ylim[1]*new_ylim[1]]\n",
    "    pyplot.ylim(new_ylim)\n",
    "\n",
    "    pyplot.legend([p3a_lplc_hist_fh[2]] + p3a_lplc_pdf_fh, ['Histogram of $Laplace(0,2)$ samples', '$Laplace(0,2)$ PDF']);\n",
    "    pyplot.ylabel('PDF')\n",
    "    pyplot.title('Laplace Data')\n",
    "    pyplot.show()\n",
    "    \n",
    "except Exception as e:\n",
    "    safe_print_err(e)"
   ]
  },
  {
   "cell_type": "markdown",
   "id": "4cd7db42-7109-4721-9184-e38f4cfd5a7a",
   "metadata": {},
   "source": [
    "---\n",
    "\n",
    "## (b) Adding Laplace Noise to Query Output\n",
    "In this part, we are concerned with the query:\n",
    "<div class=\"alert alert-block alert-info\">\n",
    "Query 3b: Calculate the number of people with all of the following features:<br>\n",
    "<ol>\n",
    "    <li> Gender = Male<br></li>\n",
    "    <li> LDL + HDL Cholesterol > 140</li>\n",
    "    <li> Total Cholesterol &lt; 190</li>\n",
    "    <li> Systolic Blood Pressure &gt; 130</li>\n",
    "    <li> Average Alcohol Consumption &gt; 1</li>\n",
    "</ol>\n",
    "</div>\n",
    "which can be implemented with the following code (without any Differential Privacy)"
   ]
  },
  {
   "cell_type": "code",
   "execution_count": 72,
   "id": "a42c8dd4-c790-4db0-ac90-82eef3227076",
   "metadata": {
    "tags": []
   },
   "outputs": [
    {
     "data": {
      "text/markdown": [
       "The true output of the query is: [44]\n"
      ],
      "text/plain": [
       "<IPython.core.display.Markdown object>"
      ]
     },
     "metadata": {},
     "output_type": "display_data"
    }
   ],
   "source": [
    "def p3b_query(data):\n",
    "    \"\"\"Calcualte the result of Query 3b\n",
    "    \n",
    "    Parameters\n",
    "    ----------\n",
    "    data : pandas.DataFrame\n",
    "        A data frame containing at least the following columns:\n",
    "            - Gender\n",
    "            - HDL_Cholesterol\n",
    "            - LDL_Cholesterol\n",
    "            - Total_Cholesterol\n",
    "            - Sys_Blood_Pressure\n",
    "            - Alcohol_Average\n",
    "    \n",
    "    Returns\n",
    "    -------\n",
    "    result : list\n",
    "        a list with a single number containing the result of the query\n",
    "    \"\"\"\n",
    "    \n",
    "    query = (data.Gender == 1) & \\\n",
    "        (data.HDL_Cholesterol + data.LDL_Cholesterol > 140) & \\\n",
    "        (data.Total_Cholesterol < 190) & \\\n",
    "        (data.Sys_Blood_Pressure > 130) & \\\n",
    "        (data.Alcohol_Average > 1)\n",
    "    return [sum(query)]\n",
    "\n",
    "print_mk(f'The true output of the query is: {p3b_query(Lab3_Data)}\\n')"
   ]
  },
  {
   "cell_type": "markdown",
   "id": "263f9b7d-8872-422b-9ff8-5a655b629186",
   "metadata": {},
   "source": [
    "We would like to achieve $\\epsilon$-Differential Privacy for this query.\n",
    "\n",
    "Implement the Laplace Mechanism for `p3b_query` in the function `p3b_query_dp`. The function `p3b_query_dp` takes the following arguments:\n",
    "- `data`: The dataset from which to calculate the Differentially Private response.\n",
    "- `epsilon`: The $\\epsilon$ level for Differential Privacy\n",
    "\n",
    "The function outputs:\n",
    "- `diff_priv_query_answer`: The $\\epsilon$-Differentially Private response to the query using the Laplace Mechanism.\n",
    "\n",
    "In your implementation, you should use the necessary mean $\\mu$ and the smallest value of the parameter $b$ for the Laplace mechanism to ensure that the output of this query will always be $\\epsilon$-Differentially Private (regarless of the input database, or the conditions on the query).\n",
    "\n",
    "Complete the following code snippet with your code:"
   ]
  },
  {
   "cell_type": "code",
   "execution_count": 73,
   "id": "6df1b016-528a-46a7-badf-bd5625bb0cfe",
   "metadata": {
    "tags": []
   },
   "outputs": [],
   "source": [
    "def p3b_query_dp(data, epsilon):\n",
    "    # Your solution here\n",
    "    raise Exception(\"Implementation of <i>p3b_query_dp</i> is missing\")"
   ]
  },
  {
   "cell_type": "markdown",
   "id": "050ef7b5-1938-4562-8dc1-71302e37e985",
   "metadata": {},
   "source": [
    "Run the following cell to demonstrate the outcomes of your code."
   ]
  },
  {
   "cell_type": "code",
   "execution_count": 74,
   "id": "8a6ba1ea-b604-45fe-bcd2-8ed3815016e5",
   "metadata": {
    "tags": []
   },
   "outputs": [
    {
     "data": {
      "text/markdown": [
       "<div class='alert alert-block alert-danger'><b>Error in problem 3b</b>: Implementation of <i>p3b_query_dp</i> is missing</div>"
      ],
      "text/plain": [
       "<IPython.core.display.Markdown object>"
      ]
     },
     "metadata": {},
     "output_type": "display_data"
    }
   ],
   "source": [
    "__problem = '3b'\n",
    "\n",
    "try:\n",
    "    epsilon=0.2\n",
    "    p4b_diff_priv_query_answer = p3b_query_dp(Lab3_Data, epsilon)\n",
    "\n",
    "    # This print statement is to produce the results\n",
    "    print_mk(f'The {epsilon}-Differentially Private output of the query is: {p4b_diff_priv_query_answer}\\n')\n",
    "\n",
    "except Exception as e:\n",
    "    safe_print_err(e)"
   ]
  },
  {
   "cell_type": "markdown",
   "id": "76af24b4-26a6-4445-89d2-30d9a8b5d6ab",
   "metadata": {},
   "source": [
    "---\n",
    "\n",
    "## (c) Histogram Queries: Laplace Mechanism\n",
    "\n",
    "In this part, we are concerned with the query:\n",
    "<div class=\"alert alert-block alert-info\">\n",
    "Query 3c: Calculate a non-normalized histogram of people with all of the following features\n",
    "<ol>\n",
    "    <li> Gender = Male</li>\n",
    "    <li> LDL + HDL Cholesterol &gt; 140</li>\n",
    "    <li> Systolic Blood Pressure &gt; 130</li>\n",
    "    <li> Average Alcohol Consumption &gt; 1</li>\n",
    "</ol>\n",
    "Using Total Cholesterol bins provided by the user<br>\n",
    "</div>\n",
    "\n",
    "which can be implemented with the following code (without any Differential Privacy)"
   ]
  },
  {
   "cell_type": "code",
   "execution_count": 75,
   "id": "12d9b7ba-5d34-49c7-8927-58e319e6e470",
   "metadata": {
    "tags": []
   },
   "outputs": [
    {
     "data": {
      "text/markdown": [
       "The true output of the query on `Lab3_Data` with bins=[130, 190, 250, 310, 370] is:"
      ],
      "text/plain": [
       "<IPython.core.display.Markdown object>"
      ]
     },
     "metadata": {},
     "output_type": "display_data"
    },
    {
     "data": {
      "text/markdown": [
       "|    |   Bin Start (inclusive) |   Bin End (exlusive) |   Count |\n",
       "|---:|------------------------:|---------------------:|--------:|\n",
       "|  0 |                     130 |                  190 |      44 |\n",
       "|  1 |                     190 |                  250 |      74 |\n",
       "|  2 |                     250 |                  310 |      21 |\n",
       "|  3 |                     310 |                  370 |       1 |"
      ],
      "text/plain": [
       "<IPython.core.display.Markdown object>"
      ]
     },
     "metadata": {},
     "output_type": "display_data"
    }
   ],
   "source": [
    "def p3c_query(data, bins):\n",
    "    \"\"\"Calcualte the result of Query 3c\n",
    "    \n",
    "    Parameters\n",
    "    ----------\n",
    "    data : pandas.DataFrame\n",
    "        A data frame containing at least the following columns:\n",
    "            - Gender\n",
    "            - HDL_Cholesterol\n",
    "            - LDL_Cholesterol\n",
    "            - Total_Cholesterol\n",
    "            - Sys_Blood_Pressure\n",
    "            - Alcohol_Average\n",
    "    bins : list\n",
    "        The list of bins boundaries as described in numpy.histogram\n",
    "    \n",
    "    Returns\n",
    "    -------\n",
    "    result : list\n",
    "        a list containing the result of the query, one count for each bin described in bins.\n",
    "    \"\"\"\n",
    "    \n",
    "    query_i = (data.Gender == 1) & \\\n",
    "        (data.HDL_Cholesterol + Lab3_Data.LDL_Cholesterol > 140) & \\\n",
    "        (data.Sys_Blood_Pressure > 130) & \\\n",
    "        (data.Alcohol_Average > 1)\n",
    "    f_query = numpy.histogram(data.Total_Cholesterol[query_i], bins=bins)[0]\n",
    "    return f_query\n",
    "\n",
    "# Example with bins [130, 190, 250, 310, 370]\n",
    "bins = range(130,371,60)\n",
    "\n",
    "results = p3c_query(Lab3_Data, bins)\n",
    "\n",
    "to_print_temp = pandas.DataFrame({\"Bin Start (inclusive)\": bins[:-1], \"Bin End (exlusive)\": bins[1:], \"Count\": results})\n",
    "\n",
    "print_mk(f'The true output of the query on `Lab3_Data` with bins={list(bins)} is:')\n",
    "print_mk(f'{to_print_temp.to_markdown()}')"
   ]
  },
  {
   "cell_type": "markdown",
   "id": "ed790cbb-9110-4ff1-91c9-acc523c4940f",
   "metadata": {},
   "source": [
    "We would like to achieve $\\epsilon$-Differential Privacy for this query.\n",
    "\n",
    "Implement the Laplace Mechanism for `p3c_query` in the function `p3c_query_dp`. The function `p3c_query_dp` takes the following arguments:\n",
    "- `data`: The dataset from which to calculate the Differentially Private response.\n",
    "- `bins`: The list of bins boundaries as described in numpy.histogramThe list of bins boundaries as described in `numpy.histogram()`\n",
    "- `epsilon`: The $\\epsilon$ level for Differential Privacy\n",
    "\n",
    "The function outputs:\n",
    "- `diff_priv_query_answer`: The $\\epsilon$-Differentially Private response to the query using the Laplace Mechanism.\n",
    "\n",
    "In your implementation, you should use the necessary mean $\\mu$ and the smallest value of the parameter $b$ for the Laplace mechanism to ensure that the output of this query will always be $\\epsilon$-Differentially Private (regarless of the input database, or the conditions on the query).\n",
    "\n",
    "Complete the following code snippet with your code:"
   ]
  },
  {
   "cell_type": "code",
   "execution_count": 76,
   "id": "40aaaf4c-e064-4806-99f7-ab44e45a1352",
   "metadata": {
    "tags": []
   },
   "outputs": [],
   "source": [
    "def p3c_query_dp(data, bins, epsilon):\n",
    "    # Your solution here\n",
    "    raise Exception(\"Implementation of <i>p3c_query_dp</i> is missing\")"
   ]
  },
  {
   "cell_type": "markdown",
   "id": "74e880fd-6045-48c0-aae6-b9a021b0a3fd",
   "metadata": {
    "tags": []
   },
   "source": [
    "Run the following cell to demonstrate the outcomes of your code."
   ]
  },
  {
   "cell_type": "code",
   "execution_count": 77,
   "id": "d527e92b-24a9-46ad-a832-8bfbf6ffba58",
   "metadata": {
    "tags": []
   },
   "outputs": [
    {
     "data": {
      "text/markdown": [
       "<div class='alert alert-block alert-danger'><b>Error in problem 3c</b>: Implementation of <i>p3c_query_dp</i> is missing</div>"
      ],
      "text/plain": [
       "<IPython.core.display.Markdown object>"
      ]
     },
     "metadata": {},
     "output_type": "display_data"
    }
   ],
   "source": [
    "__problem = '3c'\n",
    "\n",
    "try:\n",
    "    epsilon=0.2\n",
    "    bins = range(130,371,60)\n",
    "    p4c_diff_priv_query_answer = p3c_query_dp(Lab3_Data, bins, epsilon)\n",
    "\n",
    "    to_print_temp = pandas.DataFrame({\"Bin Start (inclusive)\": bins[:-1], \"Bin End (exlusive)\": bins[1:], \"Count\": p4c_diff_priv_query_answer})\n",
    "\n",
    "    print_mk(f'The {epsilon}-differentially private output of the query on `Lab3_Data` with bins={list(bins)} is:')\n",
    "    print_mk(f'{to_print_temp.to_markdown()}')\n",
    "\n",
    "except Exception as e:\n",
    "    safe_print_err(e)"
   ]
  },
  {
   "cell_type": "markdown",
   "id": "d0302da8-3e2e-4d84-be70-41a49bfd2304",
   "metadata": {},
   "source": [
    "---\n",
    "\n",
    "# Problem 4\n",
    "\n",
    "In your report, list all individuals and sources that you consulted with while working on this assignment."
   ]
  }
 ],
 "metadata": {
  "kernelspec": {
   "display_name": "privacy233-venv",
   "language": "python",
   "name": "python3"
  },
  "language_info": {
   "codemirror_mode": {
    "name": "ipython",
    "version": 3
   },
   "file_extension": ".py",
   "mimetype": "text/x-python",
   "name": "python",
   "nbconvert_exporter": "python",
   "pygments_lexer": "ipython3",
   "version": "3.11.11"
  }
 },
 "nbformat": 4,
 "nbformat_minor": 5
}
