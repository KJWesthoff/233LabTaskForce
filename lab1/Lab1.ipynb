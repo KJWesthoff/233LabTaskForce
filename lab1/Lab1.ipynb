{
 "cells": [
  {
   "cell_type": "markdown",
   "id": "e207c324-3185-461e-a20d-a38ef06799f1",
   "metadata": {},
   "source": [
    "# Preamble\n",
    "\n",
    "Load necessary packages and the lab data"
   ]
  },
  {
   "cell_type": "code",
   "execution_count": 36,
   "id": "603d2fb3-a004-4ece-aa8a-2821376dfa4f",
   "metadata": {},
   "outputs": [],
   "source": [
    "from matplotlib import pyplot\n",
    "import numpy\n",
    "import scipy\n",
    "import pickle\n",
    "from IPython.display import Markdown\n",
    "\n",
    "with open('Lab1.pkl', 'rb') as f:\n",
    "    drug_use, my_pi, sample_space, sample_probabilities, event_1, event_2, event_3, event_4 = pickle.load(f)\n",
    "    \n",
    "# The following are helper functions to facilitate printing outputs in the lab without interfering with the autograder. Don't concern yourself with those functions, but keep them in your submission.\n",
    "def safe_print_err(e, locals=locals(), globals=globals()):\n",
    "    locals = locals or {}\n",
    "    globals = globals or {}\n",
    "    __problem = eval('__problem', locals, globals)\n",
    "    err_msg = str(e)\n",
    "    if type(e) in (NameError, KeyError):\n",
    "        var_name_split = str(e).split(\"'\")\n",
    "        if len(var_name_split) > 1:\n",
    "            var_name = var_name_split[1]\n",
    "            err_msg = f\"'{var_name}' is not defined.\"\n",
    "        \n",
    "    display(Markdown(f\"<div class='alert alert-block alert-danger'><b>Error in problem {__problem}</b>: {err_msg}</div>\"))\n",
    "    \n",
    "def print_mk(msg):\n",
    "    display(Markdown(msg))"
   ]
  },
  {
   "cell_type": "markdown",
   "id": "ce7a2920-8bb7-467c-ace7-f41ecd75019a",
   "metadata": {},
   "source": [
    "# Problem 1\n",
    "\n",
    "In this problem, we are going to work with an example probability space.\n",
    "\n",
    "In the the file **Lab1.pkl**, you are given a sample space `sample_space` and the corresponding probabilities of each outcome in the sample space in the variable `sample_probabilities` (probability mass function).\n",
    "\n",
    "## (a) Probability Space\n",
    "\n",
    "Write code to create a bar plot of the probability mass function (outcomes on the **X** axis, and the probability masses on the **Y** axis). Remember to label the axes and title the figure.\n",
    "\n",
    "Complete the following code snippet with your answer:"
   ]
  },
  {
   "cell_type": "code",
   "execution_count": 37,
   "id": "d80f886a-8529-4c3f-9dd2-d46bcae7d3d2",
   "metadata": {},
   "outputs": [
    {
     "data": {
      "text/plain": [
       "Text(40, 0.02, '$\\\\sum{P(X=x)}= 1.00 $')"
      ]
     },
     "execution_count": 37,
     "metadata": {},
     "output_type": "execute_result"
    },
    {
     "data": {
      "image/png": "[encoded data removed]",
      "text/plain": [
       "<Figure size 640x480 with 1 Axes>"
      ]
     },
     "metadata": {},
     "output_type": "display_data"
    }
   ],
   "source": [
    "p1a_figure = pyplot.figure();\n",
    "# Your solution goes here\n",
    "#print(sample_probabilities)\n",
    "#print(numpy.sum(sample_probabilities))\n",
    "#print(sample_space)\n",
    "\n",
    "ax = p1a_figure.add_subplot()\n",
    "ax.bar(sample_space,sample_probabilities)\n",
    "ax.set_xlabel('Outcome X')\n",
    "ax.set_ylabel('Probability of outcome P(X=x)')\n",
    "ax.set_title('Probability mass function')\n",
    "ax.text(40,0.02,\"$\\sum{P(X=x)}= %.2f $\" %numpy.sum(sample_probabilities))\n"
   ]
  },
  {
   "cell_type": "markdown",
   "id": "54e5c90e-2c4a-4d57-9af9-6f9782ef5122",
   "metadata": {},
   "source": [
    "Run the following cell to print the outcomes of your code."
   ]
  },
  {
   "cell_type": "code",
   "execution_count": 3,
   "id": "b789f051-013b-4512-b164-272af31ca1b1",
   "metadata": {
    "tags": []
   },
   "outputs": [
    {
     "data": {
      "text/markdown": [
       "p1a_figure has $2$ children"
      ],
      "text/plain": [
       "<IPython.core.display.Markdown object>"
      ]
     },
     "metadata": {},
     "output_type": "display_data"
    }
   ],
   "source": [
    "__problem = '1a'\n",
    "\n",
    "p1a_nr_children = len(p1a_figure.get_children())\n",
    "if p1a_nr_children <= 1:\n",
    "    safe_print_err(\"Missing/incomplete answer to 1(a)\")\n",
    "else:\n",
    "    print_mk(f\"p1a_figure has ${p1a_nr_children}$ children\")"
   ]
  },
  {
   "cell_type": "markdown",
   "id": "9e445348-a23f-4eba-a62c-3ee6b8328c3f",
   "metadata": {},
   "source": [
    "---\n",
    "\n",
    "## (b) Basic Probability Arithmetic\n",
    "\n",
    "In the the file **Lab1.pkl**, you are given 4 events in the variables named `event_1, ..., event_4` represented as arrays (each variable represents a single event).\n",
    "\n",
    "Using the same probability space, write code to calculate the probabilities of events `event_1, ..., event_4` and store the values in the variables `p1b_prob_1, ..., p1b_prob_4`, respectively.\n",
    "\n",
    "Hint: the function `numpy.isin()` may be helpful.\n",
    "\n",
    "Replace the following code snippet with your answer:"
   ]
  },
  {
   "cell_type": "code",
   "execution_count": 4,
   "id": "10dd0c3e-17fb-4ccb-9442-e6f1fb30b5ea",
   "metadata": {},
   "outputs": [],
   "source": [
    "# Your solution goes here\n",
    "\n",
    "## Explanation to the one-liners\n",
    "# numpy.isin(sample_space,event_1): ## Makes a list out of the samples with 'true' on the indexes also in the event array, false otherwise\n",
    "# sample_probabilities[pmask] ## select probabilities according to the mask\n",
    "# numpy.sum sums them up\n",
    "\n",
    "p1b_prob_1 = numpy.sum(sample_probabilities[numpy.isin(sample_space,event_1)])\n",
    "p1b_prob_2 = numpy.sum(sample_probabilities[numpy.isin(sample_space,event_2)])\n",
    "p1b_prob_3 = numpy.sum(sample_probabilities[numpy.isin(sample_space,event_3)])\n",
    "p1b_prob_4 = numpy.sum(sample_probabilities[numpy.isin(sample_space,event_4)])\n",
    "\n",
    "\n",
    "\n"
   ]
  },
  {
   "cell_type": "markdown",
   "id": "0e18854c-ba67-4b90-a828-7c7c7d054bda",
   "metadata": {},
   "source": [
    "Run the following cell to print the outcomes of your code."
   ]
  },
  {
   "cell_type": "code",
   "execution_count": 5,
   "id": "15051cb9-7168-4ba5-a30a-43c8b3a8329c",
   "metadata": {
    "tags": [
     "hide-input",
     "remove-input"
    ]
   },
   "outputs": [
    {
     "data": {
      "text/markdown": [
       "$P(E_1)= 0.0643$"
      ],
      "text/plain": [
       "<IPython.core.display.Markdown object>"
      ]
     },
     "metadata": {},
     "output_type": "display_data"
    },
    {
     "data": {
      "text/markdown": [
       "$P(E_2)= 0.0546$"
      ],
      "text/plain": [
       "<IPython.core.display.Markdown object>"
      ]
     },
     "metadata": {},
     "output_type": "display_data"
    },
    {
     "data": {
      "text/markdown": [
       "$P(E_3)= 0.0141$"
      ],
      "text/plain": [
       "<IPython.core.display.Markdown object>"
      ]
     },
     "metadata": {},
     "output_type": "display_data"
    },
    {
     "data": {
      "text/markdown": [
       "$P(E_4)= 0.0330$"
      ],
      "text/plain": [
       "<IPython.core.display.Markdown object>"
      ]
     },
     "metadata": {},
     "output_type": "display_data"
    }
   ],
   "source": [
    "__problem = '1b'\n",
    "\n",
    "try:\n",
    "    print_mk(f'$P(E_1)= {p1b_prob_1:0.4f}$')\n",
    "    print_mk(f'$P(E_2)= {p1b_prob_2:0.4f}$')\n",
    "    print_mk(f'$P(E_3)= {p1b_prob_3:0.4f}$')\n",
    "    print_mk(f'$P(E_4)= {p1b_prob_4:0.4f}$')\n",
    "except Exception as e:\n",
    "    safe_print_err(e)"
   ]
  },
  {
   "attachments": {
    "e426d23f-d621-455d-96d3-349d99b6d24a.png": {
     "image/png": "[encoded data removed]"
    }
   },
   "cell_type": "markdown",
   "id": "d18f42b8-4519-497e-b41c-7d1fc2838847",
   "metadata": {},
   "source": [
    "---\n",
    "\n",
    "## (c) Disjoint Events\n",
    "\n",
    "In lecture, we introduced the following definition of disjoint events.<br>\n",
    "![disjoint_simple_defn.png](attachment:e426d23f-d621-455d-96d3-349d99b6d24a.png)\n",
    "\n",
    "This definition is sufficient for our purposes in the course, but more generally, two events  and  can be disjoint even when their intersection is not an empty set.\n",
    "\n",
    "The more general definition of disjoint events is as follows:\n",
    "\n",
    "***Definition 1 amended (Disjoint Events; General)***\n",
    "> Let $(\\Omega, \\mathcal{F}, \\mathcal{P})$ be a probability space with sample space $\\Omega$, event space $\\mathcal{F}$ and probability measure $\\mathcal{P}$. Let $E_1, E_2$ be two events.\n",
    "We say that $E_1$ and $E_2$ are disjoint events if $P(E_1 \\cap E_2) = 0$.\n",
    "\n",
    "Write code to check which pair of events `event_1, ..., event_4` are disjoint, **using the amended and more general definition** of disjoint events introduced in the lab (i.e., ***Definition 1 amended (Disjoint Events; General)*** and not ***Definition 1***).\n",
    "\n",
    "In the following variables, store the *Boolean* values: `True` if events are disjoint and `False` otherwise:\n",
    "- `p1c_e_1_2_disjoint`: for events 1 and 2.\n",
    "- `p1c_e_1_3_disjoint`: for events 1 and 3.\n",
    "- `p1c_e_1_4_disjoint`: for events 1 and 4.\n",
    "- `p1c_e_2_3_disjoint`: for events 2 and 3.\n",
    "- `p1c_e_2_4_disjoint`: for events 2 and 4.\n",
    "- `p1c_e_3_4_disjoint`: for events 3 and 4.\n",
    "\n",
    "Hint: the function `numpy.intersect1d()` may be helpful.\n",
    "\n",
    "Replace the following code snippet with your answer:"
   ]
  },
  {
   "cell_type": "code",
   "execution_count": 6,
   "id": "d093170c-c39f-4470-b202-1d6ba1e14533",
   "metadata": {},
   "outputs": [
    {
     "name": "stdout",
     "output_type": "stream",
     "text": [
      "New fn:\n",
      "False\n",
      "True\n",
      "True\n",
      "False\n",
      "True\n",
      "True\n"
     ]
    }
   ],
   "source": [
    "# Your solution goes here\n",
    "# p1c_e_1_2_disjoint = numpy.intersect1d(event_1,event_2).size == 0\n",
    "# p1c_e_1_3_disjoint = numpy.intersect1d(event_1,event_3).size == 0\n",
    "# p1c_e_1_4_disjoint = numpy.intersect1d(event_1,event_4).size == 0\n",
    "# p1c_e_2_3_disjoint = numpy.intersect1d(event_2,event_3).size == 0\n",
    "# p1c_e_2_4_disjoint = numpy.intersect1d(event_2,event_4).size == 0\n",
    "# p1c_e_3_4_disjoint = numpy.intersect1d(event_3,event_4).size == 0\n",
    "\n",
    "# print(p1c_e_1_2_disjoint)\n",
    "# print(p1c_e_1_3_disjoint)\n",
    "# print(p1c_e_1_4_disjoint)\n",
    "# print(p1c_e_2_3_disjoint)\n",
    "# print(p1c_e_2_4_disjoint)\n",
    "# print(p1c_e_3_4_disjoint)\n",
    "\n",
    "def are_disjoint(e1, e2):\n",
    "  intersection = numpy.intersect1d(e1, e2)\n",
    "  probabilities = sample_probabilities[numpy.isin(sample_space, intersection)]\n",
    "  sum_probs = sum(probabilities)\n",
    "  probs_are_0 = sum_probs == 0\n",
    "  # print(f'{intersection=}, {sum_probs=}')\n",
    "  return probs_are_0\n",
    "\n",
    "print('New fn:')\n",
    "print(are_disjoint(event_1, event_2))\n",
    "print(are_disjoint(event_1, event_3))\n",
    "print(are_disjoint(event_1, event_4))\n",
    "print(are_disjoint(event_2, event_3))\n",
    "print(are_disjoint(event_2, event_4))\n",
    "print(are_disjoint(event_3, event_4))\n",
    "\n",
    "\n"
   ]
  },
  {
   "cell_type": "markdown",
   "id": "86a9eb94-8811-4a90-870a-8e40e16d26e9",
   "metadata": {},
   "source": [
    "Run the following cell to print the outcomes of your code."
   ]
  },
  {
   "cell_type": "code",
   "execution_count": 7,
   "id": "dee9a308-6a8c-449a-a5b5-a34f0358752b",
   "metadata": {
    "tags": [
     "hide-input",
     "remove-input"
    ]
   },
   "outputs": [
    {
     "data": {
      "text/markdown": [
       "<div class='alert alert-block alert-danger'><b>Error in problem 1c</b>: 'p1c_e_1_2_disjoint' is not defined.</div>"
      ],
      "text/plain": [
       "<IPython.core.display.Markdown object>"
      ]
     },
     "metadata": {},
     "output_type": "display_data"
    }
   ],
   "source": [
    "__problem = '1c'\n",
    "\n",
    "\n",
    "try:\n",
    "    print_mk(r\"Events 1 and 2 are {}\".format('disjoint' if p1c_e_1_2_disjoint else '**not** disjoint'))\n",
    "    print_mk(r\"Events 1 and 3 are {}\".format('disjoint' if p1c_e_1_3_disjoint else '**not** disjoint'))\n",
    "    print_mk(r\"Events 1 and 4 are {}\".format('disjoint' if p1c_e_1_4_disjoint else '**not** disjoint'))\n",
    "    print_mk(r\"Events 2 and 3 are {}\".format('disjoint' if p1c_e_2_3_disjoint else '**not** disjoint'))\n",
    "    print_mk(r\"Events 2 and 4 are {}\".format('disjoint' if p1c_e_2_4_disjoint else '**not** disjoint'))\n",
    "    print_mk(r\"Events 3 and 4 are {}\".format('disjoint' if p1c_e_3_4_disjoint else '**not** disjoint'))\n",
    "except Exception as e:\n",
    "    safe_print_err(e)"
   ]
  },
  {
   "cell_type": "markdown",
   "id": "36cafe2c-bb1b-4658-b92f-6632ce500f4c",
   "metadata": {},
   "source": [
    "---\n",
    "\n",
    "## (d) Conditional Probability\n",
    "\n",
    "Using the same probability space, write code to calculate the conditional probability of `event_1` given `event_2`.\n",
    "\n",
    "Store the result in the variable `p1d_conditional_probability_1_g_2`.\n",
    "\n",
    "Replace the following code snippet with your answer:"
   ]
  },
  {
   "cell_type": "code",
   "execution_count": 8,
   "id": "a8da9699-f9ad-4866-b1c8-b921b9c88ec6",
   "metadata": {},
   "outputs": [],
   "source": [
    "# Your solution goes here\n",
    "\n",
    "## P(A|B) = P(A intersect B)/P(B), A = p1b_prob_1, B = p1b_prob_2\n",
    "\n",
    "p1d_conditional_probability_1_g_2 = (p1b_prob_1*p1b_prob_2)/p1b_prob_2"
   ]
  },
  {
   "cell_type": "markdown",
   "id": "65b3401e-0148-4b21-83e8-55df56263437",
   "metadata": {},
   "source": [
    "Run the following cell to print the outcomes of your code."
   ]
  },
  {
   "cell_type": "code",
   "execution_count": 9,
   "id": "ea72d440-9558-456f-9198-71584e0cf230",
   "metadata": {
    "tags": [
     "hide-input",
     "remove-input"
    ]
   },
   "outputs": [
    {
     "data": {
      "text/markdown": [
       "$P(E_1 | E_2) = 0.0643$"
      ],
      "text/plain": [
       "<IPython.core.display.Markdown object>"
      ]
     },
     "metadata": {},
     "output_type": "display_data"
    }
   ],
   "source": [
    "__problem = '1d'\n",
    "\n",
    "try:\n",
    "    print_mk(f\"$P(E_1 | E_2) = {p1d_conditional_probability_1_g_2:0.4f}$\")\n",
    "except Exception as e:\n",
    "    safe_print_err(e)"
   ]
  },
  {
   "cell_type": "markdown",
   "id": "7efc6a52-6139-44de-b03a-20360d1f57b5",
   "metadata": {},
   "source": [
    "---\n",
    "\n",
    "## (e) Bayes' Law\n",
    "\n",
    "Using the same probability space, write code to calculate the probability of `event_2` given `event_1` both directly (using the definition) and using Bayes' law, and compare the results.\n",
    "\n",
    "Store the results of your calculation in the following variables:\n",
    "- `p1e_conditional_probability_2_g_1_direct`: For direct calculation\n",
    "- `p1e_conditional_probability_2_g_1_bayes`: For Bayes' law calculation\n",
    "\n",
    "Replace the following code snippet with your answer:"
   ]
  },
  {
   "cell_type": "code",
   "execution_count": 10,
   "id": "e0a52a6d-68c8-4d2f-b0cc-a46a4e2e937a",
   "metadata": {},
   "outputs": [
    {
     "name": "stdout",
     "output_type": "stream",
     "text": [
      "0.054629539579280344\n",
      "0.054629539579280344\n"
     ]
    }
   ],
   "source": [
    "# Your solution goes here\n",
    "\n",
    "p1e_conditional_probability_2_g_1_direct =  (p1b_prob_2*p1b_prob_1)/p1b_prob_1\n",
    "p1e_conditional_probability_2_g_1_bayes = p1d_conditional_probability_1_g_2*p1b_prob_2/p1b_prob_1  \n",
    "\n",
    "print(p1e_conditional_probability_2_g_1_direct)\n",
    "print(p1e_conditional_probability_2_g_1_bayes)"
   ]
  },
  {
   "cell_type": "markdown",
   "id": "2867edb3-7430-489f-a35c-7440287fb34c",
   "metadata": {},
   "source": [
    "Run the following cell to print the outcomes of your code."
   ]
  },
  {
   "cell_type": "code",
   "execution_count": 11,
   "id": "efbdfdd6-f78b-4625-b994-7d4928520b32",
   "metadata": {
    "tags": [
     "hide-input",
     "remove-input"
    ]
   },
   "outputs": [
    {
     "data": {
      "text/markdown": [
       "| Method | $P(E_1 | E_2)$ |\n",
       "| :- | :-: |\n",
       "| Direct Calculation | $0.0546$ |\n",
       "| Bayes' Law Calculation | $0.0546$ |"
      ],
      "text/plain": [
       "<IPython.core.display.Markdown object>"
      ]
     },
     "metadata": {},
     "output_type": "display_data"
    }
   ],
   "source": [
    "__problem = '1e'\n",
    "\n",
    "try:\n",
    "    print_mk(f\"\"\"| Method | $P(E_1 | E_2)$ |\n",
    "| :- | :-: |\n",
    "| Direct Calculation | ${p1e_conditional_probability_2_g_1_direct:0.4f}$ |\n",
    "| Bayes' Law Calculation | ${p1e_conditional_probability_2_g_1_bayes:0.4f}$ |\"\"\")\n",
    "except Exception as e:\n",
    "    safe_print_err(e)"
   ]
  },
  {
   "cell_type": "markdown",
   "id": "91eacdd2-6030-4da3-99a4-07ed195ac608",
   "metadata": {},
   "source": [
    "---\n",
    "\n",
    "## (f) Expected Value\n",
    "\n",
    "Using the same probability space, write code to calculate the expected value of the random variable $X$ that is defined as the outcome of the experiment defined by `sample_space` and `sample_probabilities`.\n",
    "\n",
    "Store the result of your calculation in the variable `p1f_expected_value`.\n",
    "\n",
    "Replace the following code snippet with your answer:"
   ]
  },
  {
   "cell_type": "code",
   "execution_count": 12,
   "id": "4ed198f9-6072-4457-ac4d-6c6fe79cd9ec",
   "metadata": {},
   "outputs": [],
   "source": [
    "# Your solution goes here\n",
    "\n",
    "## Mean of the discrete random variable sum of value*probability for each entry \n",
    "p1f_expected_value = numpy.sum(sample_space*sample_probabilities)"
   ]
  },
  {
   "cell_type": "markdown",
   "id": "2f670aef-a75d-44cd-9762-638a4764ff94",
   "metadata": {},
   "source": [
    "Run the following cell to print the outcomes of your code."
   ]
  },
  {
   "cell_type": "code",
   "execution_count": 13,
   "id": "c6e653f2-c78c-4864-8962-506ec68b62d5",
   "metadata": {
    "tags": [
     "hide-input",
     "remove-input"
    ]
   },
   "outputs": [
    {
     "data": {
      "text/markdown": [
       "$\\mathbb{E}[X] = -10.3865$"
      ],
      "text/plain": [
       "<IPython.core.display.Markdown object>"
      ]
     },
     "metadata": {},
     "output_type": "display_data"
    }
   ],
   "source": [
    "__problem = '1f'\n",
    "\n",
    "try:\n",
    "    print_mk(f\"$\\\\mathbb{{E}}[X] = {p1f_expected_value:0.4f}$\")\n",
    "except Exception as e:\n",
    "    safe_print_err(e)"
   ]
  },
  {
   "cell_type": "markdown",
   "id": "436674e7-0460-46b5-9a2f-b8d4cfe63f09",
   "metadata": {},
   "source": [
    "---\n",
    "\n",
    "## (g) Standard Deviation\n",
    "\n",
    "Using the same probability space, write code to calculate the standard deviation of the random variable $X$ that is defined as the outcome of the experiment defined by `sample_space` and `sample_probabilities`.\n",
    "\n",
    "Store the result of your calculation in the variable `p1g_standard_dev`.\n",
    "\n",
    "Replace the following code snippet with your answer:"
   ]
  },
  {
   "cell_type": "code",
   "execution_count": 14,
   "id": "2408b7bc-db63-471a-bc82-8aab030fb12c",
   "metadata": {},
   "outputs": [],
   "source": [
    "# Your solution goes here\n",
    "\n",
    "## Variance = sum of each (value - the mean)**2 * probability\n",
    "## SD = sqrt(Variance)\n",
    "\n",
    "Var = numpy.sum((sample_space-p1f_expected_value)**2*sample_probabilities)\n",
    "#print(Var)\n",
    "p1g_standard_dev = numpy.sqrt(Var)"
   ]
  },
  {
   "cell_type": "markdown",
   "id": "b1c60949-468b-408b-b87f-e5c7004b73ad",
   "metadata": {},
   "source": [
    "Run the following cell to print the outcomes of your code."
   ]
  },
  {
   "cell_type": "code",
   "execution_count": 15,
   "id": "67a75a11-b9d7-4f83-89c4-cb7077f069b9",
   "metadata": {
    "tags": [
     "hide-input",
     "remove-input"
    ]
   },
   "outputs": [
    {
     "data": {
      "text/markdown": [
       "$S.D.(X) = 34.9713$"
      ],
      "text/plain": [
       "<IPython.core.display.Markdown object>"
      ]
     },
     "metadata": {},
     "output_type": "display_data"
    }
   ],
   "source": [
    "__problem = '1g'\n",
    "\n",
    "try:\n",
    "    print_mk(f\"$S.D.(X) = {p1g_standard_dev:0.4f}$\")\n",
    "except Exception as e:\n",
    "    safe_print_err(e)"
   ]
  },
  {
   "cell_type": "markdown",
   "id": "0b362dfe-3fd8-4fcb-a5bb-b2ccf2ff923d",
   "metadata": {},
   "source": [
    "---\n",
    "\n",
    "## (h) Entropy\n",
    "\n",
    "Using the same probability space, write code to calculate the entropy of the random variable $X$ that is defined as the outcome of the experiment defined by `sample_space` and `sample_probabilities`. Use log base 2 for the calculation.\n",
    "\n",
    "Note that although $log(0)$ is undefined, for the purposes of entropy, we consider $0 \\cdot log(0)=0$.\n",
    "\n",
    "Store the result of your calculation in the variable `p1h_entropy_x`.\n",
    "\n",
    "Replace the following code snippet with your answer:"
   ]
  },
  {
   "cell_type": "code",
   "execution_count": 16,
   "id": "47a8bab7-96b4-4e66-a0a1-0f5df69bfb10",
   "metadata": {},
   "outputs": [],
   "source": [
    "# Your solution goes here\n",
    "\n",
    "## Entropy is the sum of each log(probability) * probability\n",
    "\n",
    "## Remove zeros in the probability data preemptively, to avoid log(0) issues \n",
    "zerosDunked = sample_probabilities[sample_probabilities != 0]\n",
    "\n",
    "p1h_entropy_x =-1*numpy.sum(numpy.log2(zerosDunked)*zerosDunked)"
   ]
  },
  {
   "cell_type": "markdown",
   "id": "792b4a43-45c8-4a8b-889d-3618051321c1",
   "metadata": {},
   "source": [
    "Run the following cell to print the outcomes of your code."
   ]
  },
  {
   "cell_type": "code",
   "execution_count": 17,
   "id": "c3fb9609-831d-47de-af35-769c6460eac8",
   "metadata": {
    "tags": [
     "hide-input",
     "remove-input"
    ]
   },
   "outputs": [
    {
     "data": {
      "text/markdown": [
       "$H(X) = 6.4216$"
      ],
      "text/plain": [
       "<IPython.core.display.Markdown object>"
      ]
     },
     "metadata": {},
     "output_type": "display_data"
    }
   ],
   "source": [
    "__problem = '1h'\n",
    "\n",
    "try:\n",
    "    print_mk(f\"$H(X) = {p1h_entropy_x:0.4f}$\")\n",
    "except Exception as e:\n",
    "    safe_print_err(e)"
   ]
  },
  {
   "cell_type": "markdown",
   "id": "5a818125-2b25-4861-941e-8de8a08fe13c",
   "metadata": {},
   "source": [
    "---\n",
    "\n",
    "# Problem 2\n",
    "\n",
    "In this problem, we will study the Randomized Response privacy mechanism.\n",
    "\n",
    "## (a) How Many Yeses?\n",
    "Before we work with the data, let us first understand how the number of yes answers to the spinner question changes the maximum likelihood estimate of the true percentage of the population belonging to group A.\n",
    "\n",
    "Write code that plots the maximum likelihood estimate for the true percentage of the population belonging to group A ($\\hat{\\pi}$) as a function of the percentage of respondendents answering yes to the spinner question ($\\frac{n_1}{n}$). The $X$ axis values should range from $0$ to $1$.\n",
    "\n",
    "On one figure, create different plots with the values $p=0,0.1,0.2,0.3$ and $0.4$.\n",
    "\n",
    "On a second figure, create similar plots with the values $p=0.6,0.7,0.8,0.9$ and $1$.\n",
    "\n",
    "Finally, limit the $Y$ axes in both figures to the range $0-1$.\n",
    "\n",
    "Don't forget to label the axes, title the plots and provide legends.\n",
    "\n",
    "Complete the following code snippet with your answer:"
   ]
  },
  {
   "cell_type": "code",
   "execution_count": 55,
   "id": "03e3a215-f696-4eaf-9bf8-0c6e6d865d89",
   "metadata": {},
   "outputs": [
    {
     "data": {
      "image/png": "[encoded data removed]",
      "text/plain": [
       "<Figure size 640x480 with 1 Axes>"
      ]
     },
     "metadata": {},
     "output_type": "display_data"
    },
    {
     "data": {
      "image/png": "[encoded data removed]",
      "text/plain": [
       "<Figure size 640x480 with 1 Axes>"
      ]
     },
     "metadata": {},
     "output_type": "display_data"
    }
   ],
   "source": [
    "# Your solution goes here for p=0-0.4\n",
    "def pi_hat(p, n1_over_n):\n",
    "  # A bit hacky, we're calculating the function in\n",
    "  # terms of p and the proportion n_1 / n\n",
    "  term1 = n1_over_n / (2 * p - 1)\n",
    "  term2 = (p - 1) / (2 * p - 1)\n",
    "  return term1 + term2\n",
    "\n",
    "def create_plot(plot, p_vals, key_loc='lower left'):\n",
    "  colors = ['r', 'g', 'b', 'c', 'm', 'y', 'k', 'w']\n",
    "\n",
    "  x = numpy.linspace(0, 1, 50)\n",
    "  ax = plot.add_subplot(1, 1, 1)\n",
    "  ax.set_ylim([0, 1])\n",
    "\n",
    "  for p in p_vals:\n",
    "    y = pi_hat(p, x)\n",
    "    pyplot.plot(x, y, colors.pop(0), label=f'{p=}')\n",
    "\n",
    "  pyplot.legend(loc=key_loc)\n",
    "  pyplot.xlabel('Proportion of X_i = \"Yes\"')\n",
    "  pyplot.ylabel('π^; estimated Proportion of G_i = A')\n",
    "  pyplot.title('% of Pop. Answering Yes to Spinner Question vs. MLE for True % of Pop. in A')\n",
    "  pyplot.show()\n",
    "    \n",
    "p_vals = [0, 0.1, 0.2, 0.3, 0.4]\n",
    "p2a_figure_1 = pyplot.figure()\n",
    "create_plot(p2a_figure_1, p_vals)\n",
    "\n",
    "p_vals = [0.6, 0.7, 0.8, 0.9, 1]\n",
    "p2a_figure_2 = pyplot.figure()\n",
    "create_plot(p2a_figure_2, p_vals, 'upper left')\n",
    "# Your solution goes here for p=0.6-1\n"
   ]
  },
  {
   "cell_type": "markdown",
   "id": "e4f64d99-74c7-4025-b596-de6862ad9804",
   "metadata": {},
   "source": [
    "Run the following cell to print the outcomes of your code."
   ]
  },
  {
   "cell_type": "code",
   "execution_count": 19,
   "id": "8855c9cd-0b60-4e79-b2b5-ef2b230ae8d3",
   "metadata": {
    "tags": []
   },
   "outputs": [
    {
     "data": {
      "text/markdown": [
       "<div class='alert alert-block alert-danger'><b>Error in problem 2a</b>: Missing/incomplete answer to 2(a)</div>"
      ],
      "text/plain": [
       "<IPython.core.display.Markdown object>"
      ]
     },
     "metadata": {},
     "output_type": "display_data"
    }
   ],
   "source": [
    "__problem = '2a'\n",
    "\n",
    "p2a_nr_children_1 = len(p2a_figure_1.get_children())\n",
    "p2a_nr_children_2 = len(p2a_figure_2.get_children())\n",
    "if p2a_nr_children_1 <= 1 or p2a_nr_children_2 <= 1:\n",
    "    safe_print_err(\"Missing/incomplete answer to 2(a)\")\n",
    "else:\n",
    "    print_mk(f\"p2a_figure_1 has ${p2a_nr_children_1}$ children\")\n",
    "    print_mk(f\"p2a_figure_2 has ${p2a_nr_children_2}$ children\")"
   ]
  },
  {
   "cell_type": "markdown",
   "id": "20c28f6f-99d8-4372-beab-43efefc8ff08",
   "metadata": {},
   "source": [
    "---\n",
    "\n",
    "## (b) Total Number of Respondents\n",
    "\n",
    "We will now study the effect of the number of respondents  on the standard deviation of the maximum likelihood estimate of the percentage of the population belonging to group A ($s.d.(\\hat{\\pi})$).\n",
    "\n",
    "Write code that plots the standard deviation of the maximum likelihood estimate for the true percentage of the population belonging to group A ($s.d.(\\hat{\\pi})$) as a function of the number of respondendents $n$. The $X$ axis values should range from $10$ to $5000$.\n",
    "\n",
    "You may use the value $\\pi=0.5$ (true percentage of the population belonging to group A).\n",
    "\n",
    "On one figure, create different plots with the values $p=0,0.1,0.2,0.3$ and $0.4$.\n",
    "\n",
    "On a second figure, create similar plots with the values $p=0.6,0.7,0.8,0.9$ and $1$.\n",
    "\n",
    "Don't forget to label the axes, title the plots and provide legends.\n",
    "\n",
    "Complete the following code snippet with your answer:"
   ]
  },
  {
   "cell_type": "code",
   "execution_count": 20,
   "id": "b1cda4bf-cf21-4182-8f75-07364653f9bd",
   "metadata": {},
   "outputs": [
    {
     "data": {
      "text/plain": [
       "<Figure size 640x480 with 0 Axes>"
      ]
     },
     "metadata": {},
     "output_type": "display_data"
    },
    {
     "data": {
      "text/plain": [
       "<Figure size 640x480 with 0 Axes>"
      ]
     },
     "metadata": {},
     "output_type": "display_data"
    }
   ],
   "source": [
    "p2b_figure_1 = pyplot.figure();\n",
    "# Your solution goes here for p=0-0.4\n",
    "\n",
    "p2b_figure_2 = pyplot.figure();\n",
    "# Your solution goes here for p=0.6-1\n"
   ]
  },
  {
   "cell_type": "markdown",
   "id": "a969e6e8-b3ed-4ebb-81f2-fcdc187225a2",
   "metadata": {},
   "source": [
    "Run the following cell to print the outcomes of your code."
   ]
  },
  {
   "cell_type": "code",
   "execution_count": 21,
   "id": "e5d8e099-8087-4fa9-99ce-ece0c78b2d92",
   "metadata": {
    "tags": []
   },
   "outputs": [
    {
     "data": {
      "text/markdown": [
       "<div class='alert alert-block alert-danger'><b>Error in problem 2b</b>: Missing/incomplete answer to 2(b)</div>"
      ],
      "text/plain": [
       "<IPython.core.display.Markdown object>"
      ]
     },
     "metadata": {},
     "output_type": "display_data"
    }
   ],
   "source": [
    "__problem = '2b'\n",
    "\n",
    "p2b_nr_children_1 = len(p2b_figure_1.get_children())\n",
    "p2b_nr_children_2 = len(p2b_figure_2.get_children())\n",
    "if p2b_nr_children_1 <= 1 or p2b_nr_children_2 <= 1:\n",
    "    safe_print_err(\"Missing/incomplete answer to 2(b)\")\n",
    "else:\n",
    "    print_mk(f\"p2b_figure_1 has ${p2b_nr_children_1}$ children\")\n",
    "    print_mk(f\"p2b_figure_2 has ${p2b_nr_children_2}$ children\")"
   ]
  },
  {
   "cell_type": "markdown",
   "id": "7506a472-a96d-4aa4-b56f-0a9ee68cf646",
   "metadata": {},
   "source": [
    "### In this Markdown cell, explain your results:\n",
    "\n",
    "***Place your answer here***"
   ]
  },
  {
   "cell_type": "markdown",
   "id": "225505fd-8260-4d91-998f-931df4aa6897",
   "metadata": {},
   "source": [
    "--- \n",
    "\n",
    "## (c) Putting p in Spinner\n",
    "\n",
    "We will now study the effect of $p$ on the standard deviation of the maximum likelihood estimate of the percentage of the population belonding to group A ($s.d.(\\hat{\\pi})$).\n",
    "\n",
    "Write code that plots the standard deviation of the maximum likelihood estimate for the true percentage of the population belonging to group A ($s.d.(\\hat{\\pi})$) as a function of $p$. The $X$ axis values should range from $0$ to $1$ with fine increments to see the full relationship.\n",
    "\n",
    "Create different plots with the values $n=10,100,1000$ and $10000$ and place them on the same figure. You may use the value $\\pi=0.5$ (true percentage of the population belonging to group A).\n",
    "\n",
    "Don't forget to label the axes, title the plot and provide a legend.\n",
    "\n",
    "Complete the following code snippet with your answer:"
   ]
  },
  {
   "cell_type": "code",
   "execution_count": 22,
   "id": "9ccf1c42-a6fd-4bde-bd29-e68da544c083",
   "metadata": {},
   "outputs": [
    {
     "data": {
      "text/plain": [
       "<Figure size 640x480 with 0 Axes>"
      ]
     },
     "metadata": {},
     "output_type": "display_data"
    }
   ],
   "source": [
    "p2c_figure = pyplot.figure();\n",
    "# Your solution goes here\n"
   ]
  },
  {
   "cell_type": "markdown",
   "id": "956bbe21-aa9f-4ab7-b849-9c24ce03aa68",
   "metadata": {},
   "source": [
    "Run the following cell to print the outcomes of your code."
   ]
  },
  {
   "cell_type": "code",
   "execution_count": 23,
   "id": "c85bcb8e-9b06-4982-847c-e04913efc35e",
   "metadata": {
    "tags": []
   },
   "outputs": [
    {
     "data": {
      "text/markdown": [
       "<div class='alert alert-block alert-danger'><b>Error in problem 2c</b>: Missing/incomplete answer to 2(c)</div>"
      ],
      "text/plain": [
       "<IPython.core.display.Markdown object>"
      ]
     },
     "metadata": {},
     "output_type": "display_data"
    }
   ],
   "source": [
    "__problem = '2c'\n",
    "\n",
    "p2c_nr_children = len(p2c_figure.get_children())\n",
    "if p2c_nr_children <= 1:\n",
    "    safe_print_err(\"Missing/incomplete answer to 2(c)\")\n",
    "else:\n",
    "    print_mk(f\"p2c_figure has ${p2c_nr_children}$ children\")"
   ]
  },
  {
   "cell_type": "markdown",
   "id": "be569514-b645-42fd-adf7-ef7b03363028",
   "metadata": {},
   "source": [
    "### In this Markdown cell, explain your results:\n",
    "\n",
    "***Place your answer here***"
   ]
  },
  {
   "cell_type": "markdown",
   "id": "429c32cf-f6f4-4b60-87fb-baec8603e21f",
   "metadata": {},
   "source": [
    "---\n",
    "\n",
    "**Implementing Randomized Response**\n",
    "\n",
    "We will now use the data to simulate randomized response.\n",
    "\n",
    "Consider the data represented in the variable `drug_use` which contains the responses to the following question: \"Have you ever used cocaine, crack cocaine, heroin, or methamphetamine?\"\n",
    "\n",
    "The value `True` corresponds to \"yes\" while `False` corresponds to \"no.\""
   ]
  },
  {
   "cell_type": "markdown",
   "id": "362e320e-0e99-4150-80a0-3ad83f644e1f",
   "metadata": {},
   "source": [
    "## (d) Simulate the Spinner\n",
    "\n",
    "We will now simulate the result of the spinner for each respondent that is represented in the variable `drug_use`. In this lab, we will use the following value of:\n",
    "```python\n",
    "p=0.2\n",
    "```\n",
    "\n",
    "Create the following variables:\n",
    "- `p2d_spinner_result_A`: This array should have the same size as the array `drug_use`. Each entry of this array should contain the *Boolean* value `True` (code for group A: used drugs) with probability $p$, and the value `False` (code for group B) with probability $1-p$.\n",
    "- `p2d_nr_spinner_A`: How many times did the spinner land on \"used drugs\" in your simulation?\n",
    "- `p2d_expected_spinner_A`: Calculate the expected number of times that the spinner would land on \"used drugs\" (the expected value from probability theory).\n",
    "\n",
    "*Hint*: the call to the function `numpy.random.uniform(size=n)` generates an array of length $n$ with random values between $0$ and $1$ drawn uniformly at random.\n",
    "\n",
    "*Hint 2*: for any $x \\in [0,1]$ the probability that `numpy.random.uniform()` returns a number smaller or equal to $x$ is exactly $x$. That is, $P(\\text{numpy.random.uniform()} \\leq x) = x$.\n",
    "\n",
    "Complete the following code snippet with your answer:"
   ]
  },
  {
   "cell_type": "code",
   "execution_count": 24,
   "id": "03d5891c-1545-4226-a04b-12076948cef5",
   "metadata": {},
   "outputs": [],
   "source": [
    "p=0.2\n",
    "\n",
    "# Your solution goes here"
   ]
  },
  {
   "cell_type": "markdown",
   "id": "fc5183dd-a739-4636-97fd-ff373353e691",
   "metadata": {},
   "source": [
    "Run the following cell to print the outcomes of your code."
   ]
  },
  {
   "cell_type": "code",
   "execution_count": 25,
   "id": "f5f34b7b-5c63-4a3c-bc18-32dfd8480fe3",
   "metadata": {
    "tags": [
     "hide-input",
     "remove-input"
    ]
   },
   "outputs": [
    {
     "data": {
      "text/markdown": [
       "<div class='alert alert-block alert-danger'><b>Error in problem 2d</b>: 'p2d_nr_spinner_A' is not defined.</div>"
      ],
      "text/plain": [
       "<IPython.core.display.Markdown object>"
      ]
     },
     "metadata": {},
     "output_type": "display_data"
    }
   ],
   "source": [
    "__problem = '2d'\n",
    "\n",
    "try:\n",
    "    print_mk(f\"The spinner landed on 'used drugs' ${p2d_nr_spinner_A}$ times.\")\n",
    "    print_mk(f\"The spinner is expected to land on 'used drugs' ${p2d_expected_spinner_A:0.2f}$ times.\")\n",
    "except Exception as e:\n",
    "    safe_print_err(e)"
   ]
  },
  {
   "cell_type": "markdown",
   "id": "b0c2c2d6-2c5a-4727-93c5-f221401b5c47",
   "metadata": {},
   "source": [
    "---\n",
    "\n",
    "## (e) Yes or No?\n",
    "\n",
    "Create the following variables:\n",
    "- `p2e_rr_yes`: This array should have the same size as the array `drug_use`. Using the variables `drug_use` and `p2d_spinner_result_A` we will now generate another variable `p2e_rr_yes` that simulates the respondents' answers to the spinner question. Concretely, each entry of `p2e_rr_yes` should be `True` (corresponding to \"spinner: yes\") if and only if the corresponding entries of `drug_use` and `p2d_spinner_result_A` agree on their values (i.e. both are `True` or both are `False`). Whenever `drug_use` and `p2d_spinner_result_A` disagree on their values (i.e. one is `True` and the other is `False`), `p2e_rr_yes` should be assigned the value `False` (corresponding to \"spinner: no\").\n",
    "- `p2e_nr_rr_yes`: How many subjects got a spinner result that agrees with their group?\n",
    "- `p2e_expected_rr_yes`: Calculate expected number of subjects that would answer \"yes\" to the spinner question (the probability theory expectation). For this part, you may assume that $\\pi$ is equal to `my_pi`.\n",
    "\n",
    "Replace the following code snippet with your answer:"
   ]
  },
  {
   "cell_type": "code",
   "execution_count": 26,
   "id": "ad83234b-53a7-4ec2-988b-11afefe591eb",
   "metadata": {},
   "outputs": [],
   "source": [
    "# Your solution goes here"
   ]
  },
  {
   "cell_type": "markdown",
   "id": "42ddfc27-6cbe-4125-8cd5-7f0f16bd2136",
   "metadata": {},
   "source": [
    "Run the following cell to print the outcomes of your code."
   ]
  },
  {
   "cell_type": "code",
   "execution_count": 27,
   "id": "e2c5c7c3-104f-4f9c-b195-df3b8bf26829",
   "metadata": {
    "tags": [
     "hide-input",
     "remove-input"
    ]
   },
   "outputs": [
    {
     "data": {
      "text/markdown": [
       "<div class='alert alert-block alert-danger'><b>Error in problem 2e</b>: 'p2e_nr_rr_yes' is not defined.</div>"
      ],
      "text/plain": [
       "<IPython.core.display.Markdown object>"
      ]
     },
     "metadata": {},
     "output_type": "display_data"
    }
   ],
   "source": [
    "__problem = '2e'\n",
    "\n",
    "try:\n",
    "    print_mk(f\"${p2e_nr_rr_yes}$ subjects agreed with the result of their spinner.\");\n",
    "    print_mk(f\"The expected number of subjects answering 'yes' to the spinner question is ${p2e_expected_rr_yes:.2f}$.\");\n",
    "except Exception as e:\n",
    "    safe_print_err(e)"
   ]
  },
  {
   "cell_type": "markdown",
   "id": "7cc9a619-2691-4c8f-86bc-8c2e69e49bac",
   "metadata": {},
   "source": [
    "---\n",
    "\n",
    "## (f) Estimate\n",
    "\n",
    "We will now pretend we don't have direct access to the variable `drug_use`, and estimate the true proportion of the population that belongs to the group `drug_use=True` using `p2e_rr_yes`, and the value of $p$ only (using the maximum likelihood estimate from Randomized Response).\n",
    "\n",
    "Write code that calculates the maximum likelihood estimate of the true proportion of the population that belongs to the group `drug_use=True`, using only $p$ and the variable `p2e_rr_yes`.\n",
    "\n",
    "Store the resulting calculation in the variable `p2f_pi_hat`.\n",
    "\n",
    "Replace the following code snippet with your answer:"
   ]
  },
  {
   "cell_type": "code",
   "execution_count": 28,
   "id": "0bce4942-0ceb-43f2-91f6-311de12dd61e",
   "metadata": {},
   "outputs": [],
   "source": [
    "# Your solution goes here"
   ]
  },
  {
   "cell_type": "markdown",
   "id": "f21ce8fd-e706-4d7b-a1a0-47a4c2405a58",
   "metadata": {},
   "source": [
    "Run the following cell to print the outcomes of your code."
   ]
  },
  {
   "cell_type": "code",
   "execution_count": 29,
   "id": "af762d48-667c-4cfd-9511-6c4281f85025",
   "metadata": {
    "tags": [
     "hide-input",
     "remove-input"
    ]
   },
   "outputs": [
    {
     "data": {
      "text/markdown": [
       "<div class='alert alert-block alert-danger'><b>Error in problem 2f</b>: 'p2f_pi_hat' is not defined.</div>"
      ],
      "text/plain": [
       "<IPython.core.display.Markdown object>"
      ]
     },
     "metadata": {},
     "output_type": "display_data"
    }
   ],
   "source": [
    "__problem = '2f'\n",
    "\n",
    "try:\n",
    "    print_mk(f\"The ML estimate of the percentage of drug users in the population is ${100*p2f_pi_hat:.2f}\\\\%$\")\n",
    "except Exception as e:\n",
    "    safe_print_err(e)"
   ]
  },
  {
   "cell_type": "markdown",
   "id": "4c48c128-2229-472b-9cff-3bf1b3655917",
   "metadata": {},
   "source": [
    "---\n",
    "\n",
    "## (g) Validate your Estimate\n",
    "\n",
    "We will now look at the variable `drug_use` in order to validate our maximum likelihood estiamte from the \n",
    "previous part.\n",
    "\n",
    "Write code that uses the variable `drug_use` to calculate the direct estimate of the true percentage of drug users in the popoulation.\n",
    "\n",
    "Hint: this one is a simple ratio.\n",
    "\n",
    "Store the result in the variable `p2g_pi_direct_estimate`.\n",
    "\n",
    "Replace the following code snippet with your answer:"
   ]
  },
  {
   "cell_type": "code",
   "execution_count": 30,
   "id": "ef70f9a0-1816-4f30-885d-2900b1032eda",
   "metadata": {},
   "outputs": [],
   "source": [
    "# Your solution goes here"
   ]
  },
  {
   "cell_type": "markdown",
   "id": "e3730b34-654e-4f43-bb83-f0458296ddd0",
   "metadata": {},
   "source": [
    "Run the following cell to print the outcomes of your code."
   ]
  },
  {
   "cell_type": "code",
   "execution_count": 31,
   "id": "0a4c1313-0153-45b6-96fb-8092d8364b7a",
   "metadata": {
    "tags": [
     "hide-input",
     "remove-input"
    ]
   },
   "outputs": [
    {
     "data": {
      "text/markdown": [
       "<div class='alert alert-block alert-danger'><b>Error in problem 2g</b>: 'p2g_pi_direct_estimate' is not defined.</div>"
      ],
      "text/plain": [
       "<IPython.core.display.Markdown object>"
      ]
     },
     "metadata": {},
     "output_type": "display_data"
    }
   ],
   "source": [
    "__problem = '2g'\n",
    "\n",
    "try:\n",
    "    print_mk(f\"The direct estimate of the percentage of drug users in the population is ${100*p2g_pi_direct_estimate:.2f}\\\\%$\")\n",
    "except Exception as e:\n",
    "    safe_print_err(e)"
   ]
  },
  {
   "cell_type": "markdown",
   "id": "f4acceb0-b9c2-49fb-ae42-bf9d225692bc",
   "metadata": {},
   "source": [
    "---\n",
    "\n",
    "## (h) Empirical Distribution of ML Estimate\n",
    "\n",
    "Each time you run the simulation from parts (d)-(f) you will potentially get a different estimate (due to the randomness in the spinner). The theory says that the distirbution of this estimate should be a Normal distribution with mean equal to the value we calculated in part (g) (we'll assume this is indeed $\\pi$ for this part), and variance equal to\n",
    "\n",
    "$$V = \\frac{1}{n} \\left[ \\frac{1}{16(p-\\frac{1}{2})^2} - \\frac{1}{4} + \\pi(1-\\pi) \\right]$$\n",
    "\n",
    "In this part, we will validate this with empirical simulation.\n",
    "\n",
    "Write code that repeats the simulation from parts (d)-(f) 10,000 times and stores the maximum likelihood estimate ($\\hat{\\pi}$) each time. Afterwards, plot a histogram of these 10,000 maximum likelihood estimates. Use $30$ bins in the bar diagram.\n",
    "\n",
    "On top of the histogram, plot the probability density function (pdf) of the Normal distribution with mean $\\pi$ and variance $V$ and see if they match (use `scipy.stats.norm.pdf()` to generate the Normal distribution pdf). Plot the Normal pdf on a second y axis.\n",
    "\n",
    "You may limit the $X$ axis to the relevant range where the data lies, if it is more visually appealing.\n",
    "\n",
    "Don't forget to label the axes, title the plot and provide a legend.\n",
    "\n",
    "Complete the following code snippet with your answer:"
   ]
  },
  {
   "cell_type": "code",
   "execution_count": 32,
   "id": "5b90f5b2-686f-4899-824e-55c58dff78e2",
   "metadata": {},
   "outputs": [
    {
     "data": {
      "text/plain": [
       "<Figure size 640x480 with 0 Axes>"
      ]
     },
     "metadata": {},
     "output_type": "display_data"
    }
   ],
   "source": [
    "p2h_figure = pyplot.figure();\n",
    "# Your solution goes here\n"
   ]
  },
  {
   "cell_type": "markdown",
   "id": "d90d9d69-765f-4f8c-a162-41bc155d7441",
   "metadata": {},
   "source": [
    "Run the following cell to print the outcomes of your code."
   ]
  },
  {
   "cell_type": "code",
   "execution_count": 33,
   "id": "555de734-31c5-48c3-9235-355715194fb4",
   "metadata": {
    "tags": []
   },
   "outputs": [
    {
     "data": {
      "text/markdown": [
       "<div class='alert alert-block alert-danger'><b>Error in problem 2h</b>: Missing/incomplete answer to 2(h)</div>"
      ],
      "text/plain": [
       "<IPython.core.display.Markdown object>"
      ]
     },
     "metadata": {},
     "output_type": "display_data"
    }
   ],
   "source": [
    "__problem = '2h'\n",
    "\n",
    "p2h_nr_children = len(p2h_figure.get_children())\n",
    "if p2h_nr_children <= 1:\n",
    "    safe_print_err(\"Missing/incomplete answer to 2(h)\")\n",
    "else:\n",
    "    print_mk(f\"p2h_figure has ${p2h_nr_children}$ children\")"
   ]
  },
  {
   "cell_type": "markdown",
   "id": "45a3e924-1d3c-4d01-ac2f-8ddc0616f6db",
   "metadata": {},
   "source": [
    "### In this Markdown cell, answer the following question\n",
    "\n",
    "Is the theory visually validated by the empirical simulation?\n",
    "\n",
    "***Place your answer here***"
   ]
  },
  {
   "cell_type": "markdown",
   "id": "44ce34f2-241d-483b-a409-8c4c03f37486",
   "metadata": {},
   "source": [
    "### Extra credit (out-of-scope, hard)\n",
    "\n",
    "If you examine the empirical variance (of the simulated trials) you should see that it doesn't exactly match the theoretical variance $V$. Can you explain why?\n",
    "\n",
    "***Place your answer here***\n"
   ]
  },
  {
   "cell_type": "markdown",
   "id": "858e55df-566a-4bf1-9ad4-10bd0757f932",
   "metadata": {},
   "source": [
    "---\n",
    "\n",
    "## (i) How Much Privacy is Provided\n",
    "\n",
    "In this part, we will look at one aspect of protecting the privacy of the subjects by calculating the probability that we can identify a subject who used drugs in her or his life, provided that their `p2e_rr_yes` (answer to the spinner question) is `True` (\"yes\"). We will also calculate the likelihood we can identify a subject who used drugs in her or his life, provided that their `p2e_rr_yes` is `False` (\"no\"). These are equivalent to the probabilities $P(G_i = A | X_i = ``yes\")$ and $P(G_i = A | X_i = ``no\")$.\n",
    "\n",
    "Concretely, write code that calculates the following variables:\n",
    "\n",
    "- `p2i_drug_use_and_rr_yes`: The percentage of subjects that have `drug_use==True` out of the total subpopulation of subjects with `rr_yes=True`; and\n",
    "- `p2i_drug_use_and_rr_no`: The percentage of subjects that have `drug_use==True` out of the total subpopulation of subjects with `rr_yes=False`.\n",
    "\n",
    "Replace the following code snippet with your answer:"
   ]
  },
  {
   "cell_type": "code",
   "execution_count": 34,
   "id": "a28c713f-6f31-421b-87e0-3bf40fc0f1bb",
   "metadata": {},
   "outputs": [],
   "source": [
    "# Your solution goes here"
   ]
  },
  {
   "cell_type": "markdown",
   "id": "6d0718ae-b44d-41f3-b351-d75eca498dd5",
   "metadata": {},
   "source": [
    "Run the following cell to print the outcomes of your code."
   ]
  },
  {
   "cell_type": "code",
   "execution_count": 35,
   "id": "56acfc08-fe74-4f33-afa7-dfd24bc4d13a",
   "metadata": {
    "tags": [
     "hide-input",
     "remove-input"
    ]
   },
   "outputs": [
    {
     "data": {
      "text/markdown": [
       "<div class='alert alert-block alert-danger'><b>Error in problem 2i</b>: 'p2i_drug_use_and_rr_yes' is not defined.</div>"
      ],
      "text/plain": [
       "<IPython.core.display.Markdown object>"
      ]
     },
     "metadata": {},
     "output_type": "display_data"
    }
   ],
   "source": [
    "__problem = '2i'\n",
    "\n",
    "try:\n",
    "    print_mk(f\"$P(G_i =$ 'drugs: yes' $| X_i =$ 'spinner: yes'$) = {100*p2i_drug_use_and_rr_yes:.2f}\\\\%$\\n\")\n",
    "    print_mk(f\"$P(G_i =$ 'drugs: yes' $| X_i =$ 'spinner: no'$) = {100*p2i_drug_use_and_rr_no:.2f}\\\\%$\\n\")\n",
    "except Exception as e:\n",
    "    safe_print_err(e)"
   ]
  },
  {
   "cell_type": "markdown",
   "id": "3c06f922-56fc-4607-8d88-210329ee49d4",
   "metadata": {},
   "source": [
    "### In this Markdown cell, answer the following question\n",
    "\n",
    "- Interpret how these values provide assurances on protecting the privacy of individuals from being identified as drug users.\n",
    "- Which spinner answer is more revealing than the other in terms of identifying the participants who used drugs (inference threat)?\n",
    "\n",
    "***Place your answer here***"
   ]
  },
  {
   "cell_type": "markdown",
   "id": "78d06919-52b2-4649-b7ed-062cb31f6a6e",
   "metadata": {},
   "source": [
    "---\n",
    "\n",
    "# Problem 3\n",
    "\n",
    "List all **individuals** and **sources** that you consulted with while working on this assignment.\n",
    "\n",
    "***Place your answer here***"
   ]
  }
 ],
 "metadata": {
  "kernelspec": {
   "display_name": "privacy233-venv",
   "language": "python",
   "name": "python3"
  },
  "language_info": {
   "codemirror_mode": {
    "name": "ipython",
    "version": 3
   },
   "file_extension": ".py",
   "mimetype": "text/x-python",
   "name": "python",
   "nbconvert_exporter": "python",
   "pygments_lexer": "ipython3",
   "version": "3.11.11"
  }
 },
 "nbformat": 4,
 "nbformat_minor": 5
}
