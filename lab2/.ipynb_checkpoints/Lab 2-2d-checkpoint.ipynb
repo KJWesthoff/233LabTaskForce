{
 "cells": [
  {
   "cell_type": "code",
   "execution_count": null,
   "id": "3c7262e5",
   "metadata": {},
   "outputs": [],
   "source": [
    "# qID\n",
    "qID = ['Gender', 'Age', 'Marital_Status', 'Country_Birth', 'Race']\n",
    "\n",
    "# The name of the person of interest\n",
    "p2d_person_of_interest = 'Dionis Fara Elliott'\n",
    "\n",
    "# Copy table from 2(b)\n",
    "p2d_identities = p2b_identities.copy()\n",
    "\n",
    "# Apply additional generalization from 2(c):\n",
    "# Generalize Gender to 3=\"Human\" only for records with Race = 9\n",
    "gender_mask = p2d_identities['Race'] == 9\n",
    "p2d_identities.loc[gender_mask, 'Gender'] = 3\n",
    "\n",
    "# Join the generalized identities with the generalized data from 2(c)\n",
    "p2d_reidentified_data = p2d_identities.merge(p2c_data, on=qID)\n",
    "\n",
    "# Extract records for the person of interest\n",
    "dionis_records = p2d_reidentified_data[p2d_reidentified_data['Full_Name'] == p2d_person_of_interest]\n",
    "\n",
    "# Get the possible Subject_IDs and Household_Income values\n",
    "p2d_possible_SIDs = dionis_records['Subject_ID']\n",
    "p2d_possible_income = dionis_records['Household_Income']"
   ]
  }
 ],
 "metadata": {
  "kernelspec": {
   "display_name": "Python 3 (ipykernel)",
   "language": "python",
   "name": "python3"
  },
  "language_info": {
   "codemirror_mode": {
    "name": "ipython",
    "version": 3
   },
   "file_extension": ".py",
   "mimetype": "text/x-python",
   "name": "python",
   "nbconvert_exporter": "python",
   "pygments_lexer": "ipython3",
   "version": "3.11.7"
  }
 },
 "nbformat": 4,
 "nbformat_minor": 5
}
