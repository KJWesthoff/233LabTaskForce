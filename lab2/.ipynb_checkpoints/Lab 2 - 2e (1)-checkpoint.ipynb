{
 "cells": [
  {
   "cell_type": "code",
   "execution_count": null,
   "id": "ed106c1c",
   "metadata": {},
   "outputs": [],
   "source": [
    "# The bins for the plot\n",
    "bins = range(0,17)\n",
    "\n",
    "# First figure for Entropy ℓ-Diversity\n",
    "p2e_figure_1 = pyplot.figure()\n",
    "pyplot.hist(p2c_eqv_classes['lEntropy'], bins=bins, color='blue', alpha=0.7)\n",
    "pyplot.xlabel('Entropy ℓ-Diversity Value')\n",
    "pyplot.ylabel('Frequency')\n",
    "pyplot.title('Distribution of Entropy ℓ-Diversity per Equivalence Class')\n",
    "pyplot.grid(True, alpha=0.3)\n",
    "pyplot.show()\n",
    "\n",
    "# Second figure for Distinct ℓ-Diversity\n",
    "p2e_figure_2 = pyplot.figure()\n",
    "pyplot.hist(p2c_eqv_classes['lDistinct'], bins=bins, color='green', alpha=0.7)\n",
    "pyplot.xlabel('Distinct ℓ-Diversity Value')\n",
    "pyplot.ylabel('Frequency')\n",
    "pyplot.title('Distribution of Distinct ℓ-Diversity per Equivalence Class')\n",
    "pyplot.grid(True, alpha=0.3)\n",
    "pyplot.show()"
   ]
  }
 ],
 "metadata": {
  "kernelspec": {
   "display_name": "Python 3 (ipykernel)",
   "language": "python",
   "name": "python3"
  },
  "language_info": {
   "codemirror_mode": {
    "name": "ipython",
    "version": 3
   },
   "file_extension": ".py",
   "mimetype": "text/x-python",
   "name": "python",
   "nbconvert_exporter": "python",
   "pygments_lexer": "ipython3",
   "version": "3.11.7"
  }
 },
 "nbformat": 4,
 "nbformat_minor": 5
}
