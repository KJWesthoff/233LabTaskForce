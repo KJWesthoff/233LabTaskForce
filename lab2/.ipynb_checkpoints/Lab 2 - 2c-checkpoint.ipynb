{
 "cells": [
  {
   "cell_type": "code",
   "execution_count": null,
   "id": "b3293939",
   "metadata": {},
   "outputs": [],
   "source": [
    "# qID\n",
    "qID = ['Gender', 'Age', 'Marital_Status', 'Country_Birth', 'Race']\n",
    "\n",
    "# Sensitive attribute\n",
    "SA = 'Household_Income'\n",
    "\n",
    "# Copy the table\n",
    "p2c_data = p1g_data.copy()\n",
    "\n",
    "# Generalize Gender to 3=\"Human\" only for records with Race = 9\n",
    "# This means we need to find all rows where Race = 9 and set Gender to 3\n",
    "gender_mask = p2c_data['Race'] == 9\n",
    "p2c_data.loc[gender_mask, 'Gender'] = 3\n",
    "\n",
    "# Then use the lDiversity_Analyze() function to calculate  entropy & distinct l-diversity\n",
    "p2c_entropy_l, p2c_distinct_l, p2c_eqv_classes = lDiversity_Analyze(p2c_data, qID, SA)"
   ]
  }
 ],
 "metadata": {
  "kernelspec": {
   "display_name": "Python 3 (ipykernel)",
   "language": "python",
   "name": "python3"
  },
  "language_info": {
   "codemirror_mode": {
    "name": "ipython",
    "version": 3
   },
   "file_extension": ".py",
   "mimetype": "text/x-python",
   "name": "python",
   "nbconvert_exporter": "python",
   "pygments_lexer": "ipython3",
   "version": "3.11.7"
  }
 },
 "nbformat": 4,
 "nbformat_minor": 5
}
