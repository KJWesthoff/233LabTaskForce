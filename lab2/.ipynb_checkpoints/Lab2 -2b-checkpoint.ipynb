{
 "cells": [
  {
   "cell_type": "code",
   "execution_count": null,
   "id": "bf80f3e2",
   "metadata": {},
   "outputs": [],
   "source": [
    "# qID\n",
    "qID = ['Gender', 'Age', 'Marital_Status', 'Country_Birth', 'Race']\n",
    "\n",
    "# The name of the person of interest\n",
    "p2b_person_of_interest = 'Dionis Fara Elliott'\n",
    "\n",
    "# Copy the table\n",
    "p2b_identities = synthetic_identities.copy()\n",
    "\n",
    "# Apply the same generalizations as in Problem 1g:\n",
    "\n",
    "# Marital_Status: generalize all values that are neither \"Married\" nor \"Never Married\" to 7\n",
    "ms = p2b_identities['Marital_Status']\n",
    "ms = ms.mask((ms != 1) & (ms != 5), 7)\n",
    "p2b_identities['Marital_Status'] = ms\n",
    "\n",
    "# Race: generalize \"Mexican American\" and \"Other Hispanic\" to 8 (Hispanic)\n",
    "# Race: generalize \"Non-Hispanic Asian\" and \"Other Race - Including Multi-Racial\" to 9 (Other)\n",
    "r = p2b_identities['Race']\n",
    "r = r.mask((r == 1) | (r == 2), 8)  # Hispanic\n",
    "r = r.mask((r == 6) | (r == 7), 9)  # Other\n",
    "p2b_identities['Race'] = r\n",
    "\n",
    "# Age: generalize age ranges\n",
    "a = p2b_identities['Age']\n",
    "a = a.mask((a > 0) & (a <= 30), 30)\n",
    "a = a.mask((a > 30) & (a <= 40), 40)\n",
    "a = a.mask((a > 40) & (a <= 50), 50)\n",
    "a = a.mask((a > 50) & (a <= 70), 70)\n",
    "p2b_identities['Age'] = a\n",
    "\n",
    "# Country_Birth: generalize all values to 3 (\"Earth\")\n",
    "p2b_identities['Country_Birth'] = 3\n",
    "\n",
    "# Join the generalized identities with the genralized data\n",
    "p2b_reidentified_data = p2b_identities.merge(p1g_data, on=qID)\n",
    "\n",
    "# Extract records for the person of interest\n",
    "dionis_records = p2b_reidentified_data[p2b_reidentified_data['Full_Name'] == p2b_person_of_interest]\n",
    "\n",
    "# Get the possible Subject_IDs and Household_Income values\n",
    "p2b_possible_SIDs = dionis_records['Subject_ID']\n",
    "p2b_possible_income = dionis_records['Household_Income']"
   ]
  }
 ],
 "metadata": {
  "kernelspec": {
   "display_name": "Python 3 (ipykernel)",
   "language": "python",
   "name": "python3"
  },
  "language_info": {
   "codemirror_mode": {
    "name": "ipython",
    "version": 3
   },
   "file_extension": ".py",
   "mimetype": "text/x-python",
   "name": "python",
   "nbconvert_exporter": "python",
   "pygments_lexer": "ipython3",
   "version": "3.11.7"
  }
 },
 "nbformat": 4,
 "nbformat_minor": 5
}
